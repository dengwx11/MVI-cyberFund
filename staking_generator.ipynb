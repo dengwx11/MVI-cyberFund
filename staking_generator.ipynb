{
 "cells": [
  {
   "cell_type": "code",
   "execution_count": 1,
   "metadata": {},
   "outputs": [],
   "source": [
    "import numpy as np\n",
    "import pandas as pd\n",
    "from scipy.stats import poisson, norm\n",
    "from sklearn.linear_model import LinearRegression"
   ]
  },
  {
   "cell_type": "code",
   "execution_count": 2,
   "metadata": {},
   "outputs": [],
   "source": [
    "## loading datasets\n",
    "staking_flow =  pd.read_csv('model/data/staking_flow.csv')\n",
    "eth_burn = pd.read_csv('model/data/eth_burn.csv')\n",
    "\n",
    "cumu_staked = pd.read_csv('model/data/cumu_staked_validator.csv')"
   ]
  },
  {
   "cell_type": "code",
   "execution_count": 4,
   "metadata": {},
   "outputs": [
    {
     "name": "stdout",
     "output_type": "stream",
     "text": [
      "       amount_full_withdrawn  amount_partial_withdrawn  amount_staked  \\\n",
      "0                        0.0                 -5.947760              0   \n",
      "1                        0.0                 -1.515562              0   \n",
      "2                        0.0                  0.000000             64   \n",
      "3                     -160.0                -26.890801              0   \n",
      "4                        0.0                 -8.772212              0   \n",
      "...                      ...                       ...            ...   \n",
      "26463                    0.0                  0.000000            224   \n",
      "26464                    0.0                  0.000000             96   \n",
      "26465                    0.0                  0.000000           8864   \n",
      "26466                    0.0                  0.000000           8096   \n",
      "26467                    0.0                  0.000000           2112   \n",
      "\n",
      "              day          entity entity_category sub_entity  \\\n",
      "0      2024-08-21           BTC-e            CEXs          0   \n",
      "1      2024-08-21         imToken   Staking Pools          0   \n",
      "2      2024-08-21          Kraken            CEXs          0   \n",
      "3      2024-08-21  Bitcoin Suisse            CEXs          0   \n",
      "4      2024-08-21     Daniel Wang    Solo Stakers          0   \n",
      "...           ...             ...             ...        ...   \n",
      "26463  2022-09-15        Bitstamp            CEXs          0   \n",
      "26464  2022-09-15       Staked.us   Staking Pools          0   \n",
      "26465  2022-09-15               0               0          0   \n",
      "26466  2022-09-15         Binance            CEXs          0   \n",
      "26467  2022-09-15          Kraken            CEXs          0   \n",
      "\n",
      "      sub_entity_category  total_entries  \n",
      "0                       0            263  \n",
      "1                       0             72  \n",
      "2                       0              2  \n",
      "3                       0           1234  \n",
      "4                       0            400  \n",
      "...                   ...            ...  \n",
      "26463                   0              7  \n",
      "26464                   0              3  \n",
      "26465                   0            277  \n",
      "26466                   0            253  \n",
      "26467                   0             66  \n",
      "\n",
      "[26468 rows x 9 columns]\n"
     ]
    }
   ],
   "source": [
    "print(staking_flow)"
   ]
  },
  {
   "cell_type": "code",
   "execution_count": 3,
   "metadata": {},
   "outputs": [
    {
     "name": "stdout",
     "output_type": "stream",
     "text": [
      "   amount_full_withdrawn  amount_partial_withdrawn  amount_staked  \\\n",
      "0                  960.0                171.572760              0   \n",
      "1                 3680.0                123.906669           1504   \n",
      "2                 2272.0                175.889942           1216   \n",
      "3                  736.0                270.989009           1696   \n",
      "4                   32.0                  0.383541              0   \n",
      "5                  672.0                247.529829          15185   \n",
      "\n",
      "   cumulative_amount_full_withdrawn  cumulative_amount_partial_withdrawn  \\\n",
      "0                      1.075039e+06                         39889.195288   \n",
      "1                      1.776657e+06                        368449.555773   \n",
      "2                      6.394754e+06                        803357.335542   \n",
      "3                      3.853881e+06                        329806.532933   \n",
      "4                      1.202491e+05                         44379.896161   \n",
      "5                      3.104268e+06                        723657.330501   \n",
      "\n",
      "   cumulative_amount_staked  cumulative_total_entries    curr_stake  \\\n",
      "0                   3753443                   2077937  2.638515e+06   \n",
      "1                   6096346                   8953090  3.951240e+06   \n",
      "2                   9701248                  17951774  2.503136e+06   \n",
      "3                   8021376                   9539748  3.837688e+06   \n",
      "4                    109794                    767849 -5.483503e+04   \n",
      "5                   9457080                  22516484  5.629155e+06   \n",
      "\n",
      "          day   entity_category  total_entries  \n",
      "0  2024-09-24  Liquid Restaking           7487  \n",
      "1  2024-09-24         undefined           5607  \n",
      "2  2024-09-24              CEXs           7827  \n",
      "3  2024-09-24     Staking Pools          11989  \n",
      "4  2024-09-24      Solo Stakers             21  \n",
      "5  2024-09-24    Liquid Staking          11346  \n"
     ]
    }
   ],
   "source": [
    "recent_staked = cumu_staked[cumu_staked['day']==cumu_staked['day'].max()]\n",
    "print(recent_staked)\n",
    "curr_stake = recent_staked[recent_staked['entity_category']=='Liquid Restaking']['curr_stake']"
   ]
  },
  {
   "cell_type": "code",
   "execution_count": 45,
   "metadata": {},
   "outputs": [],
   "source": [
    "staking_flow['amount_full_withdrawn'] = -staking_flow['amount_full_withdrawn']/32\n",
    "staking_flow['amount_partial_withdrawn'] = -staking_flow['amount_partial_withdrawn']\n",
    "\n",
    "staking_flow['amount_staked'] = staking_flow['amount_staked']/32"
   ]
  },
  {
   "cell_type": "code",
   "execution_count": 50,
   "metadata": {},
   "outputs": [],
   "source": [
    "def simulate_data(df, n_samples, past_days, simulated_type, simulated_name):\n",
    "    # Filter and potentially aggregate the data\n",
    "    if simulated_type == 'entity':\n",
    "        filtered_data = df[df[simulated_type] == simulated_name]\n",
    "    elif simulated_type == 'entity_category':\n",
    "        filtered_data = df[df[simulated_type] == simulated_name]\n",
    "        filtered_data = filtered_data.groupby('day').agg({\n",
    "            'amount_full_withdrawn': 'sum',\n",
    "            'amount_partial_withdrawn': 'sum',\n",
    "            'amount_staked': 'sum'\n",
    "        }).reset_index()\n",
    "        filtered_data['day'] = pd.to_datetime(filtered_data['day'])\n",
    "    else:\n",
    "        raise ValueError(\"simulated_type must be 'entity' or 'entity_category'\")\n",
    "\n",
    "    # Filter data to include only the last 'past_days'\n",
    "    max_date = filtered_data['day'].max()\n",
    "    start_date = max_date - pd.Timedelta(days=past_days)\n",
    "    filtered_data = filtered_data[filtered_data['day'] > start_date]\n",
    "\n",
    "    # Perform simulations\n",
    "    simulated_withdrawn = simulate_zero_inflated_data(filtered_data['amount_full_withdrawn'], n_samples, (filtered_data['amount_full_withdrawn'] == 0).mean())\n",
    "    simulated_staked = simulate_zero_inflated_data(filtered_data['amount_staked'], n_samples, (filtered_data['amount_staked'] == 0).mean())\n",
    "    simulated_partial_withdrawn = simulate_based_on_day(filtered_data, n_samples)\n",
    "\n",
    "    # Make withdrawals negative\n",
    "    simulated_withdrawn = -np.abs(simulated_withdrawn)\n",
    "    simulated_partial_withdrawn = -np.abs(simulated_partial_withdrawn)\n",
    "\n",
    "    # Compile all simulated data into a DataFrame\n",
    "    simulated_data = pd.DataFrame({\n",
    "        'day': [max_date + pd.Timedelta(days=i) for i in range(1, n_samples + 1)],\n",
    "        'amount_full_withdrawn': simulated_withdrawn,\n",
    "        'amount_partial_withdrawn': simulated_partial_withdrawn,\n",
    "        'amount_staked': simulated_staked\n",
    "    })\n",
    "\n",
    "    return simulated_data\n",
    "\n",
    "def simulate_zero_inflated_data(data, n_samples, proportion_zeros):\n",
    "    n_zeros = int(n_samples * proportion_zeros)\n",
    "    zeros = np.zeros(n_zeros)\n",
    "    non_zeros = poisson.rvs(mu=data[data > 0].mean(), size=n_samples - n_zeros)\n",
    "    full_sample = np.concatenate([zeros, non_zeros])\n",
    "    np.random.shuffle(full_sample)\n",
    "    return full_sample\n",
    "\n",
    "def simulate_based_on_day(data, n_samples):\n",
    "    model = LinearRegression()\n",
    "    days = np.array(data['day'].map(pd.Timestamp.toordinal)).reshape(-1, 1)\n",
    "    values = data['amount_partial_withdrawn']\n",
    "    model.fit(days, values)\n",
    "    max_day = days.max()\n",
    "    future_days = np.array([max_day + i for i in range(1, n_samples + 1)]).reshape(-1, 1)\n",
    "    return model.predict(future_days)"
   ]
  },
  {
   "cell_type": "code",
   "execution_count": 51,
   "metadata": {},
   "outputs": [
    {
     "name": "stdout",
     "output_type": "stream",
     "text": [
      "          day  amount_full_withdrawn  amount_partial_withdrawn  amount_staked\n",
      "0  2024-08-22                 -395.0               -589.180067          371.0\n",
      "1  2024-08-23                 -407.0               -588.676071          389.0\n",
      "2  2024-08-24                 -373.0               -588.172076          375.0\n",
      "3  2024-08-25                 -410.0               -587.668080          374.0\n",
      "4  2024-08-26                 -432.0               -587.164084          440.0\n",
      "..        ...                    ...                       ...            ...\n",
      "95 2024-11-25                 -497.0               -541.300489          377.0\n",
      "96 2024-11-26                 -391.0               -540.796493          383.0\n",
      "97 2024-11-27                 -412.0               -540.292498          416.0\n",
      "98 2024-11-28                 -409.0               -539.788502          415.0\n",
      "99 2024-11-29                 -435.0               -539.284507          385.0\n",
      "\n",
      "[100 rows x 4 columns]\n"
     ]
    }
   ],
   "source": [
    "simulated_data = simulate_data(staking_flow, 100, 300, 'entity_category', 'CEXs')  # 1000 samples, based on the last 30 days\n",
    "print(simulated_data)"
   ]
  },
  {
   "cell_type": "code",
   "execution_count": 53,
   "metadata": {},
   "outputs": [
    {
     "data": {
      "text/plain": [
       "array(['CEXs', 'Staking Pools', 'Solo Stakers', 'Liquid Staking', '0',\n",
       "       'Liquid Restaking'], dtype=object)"
      ]
     },
     "execution_count": 53,
     "metadata": {},
     "output_type": "execute_result"
    }
   ],
   "source": [
    "staking_flow['entity_category'].unique()"
   ]
  },
  {
   "cell_type": "code",
   "execution_count": 57,
   "metadata": {},
   "outputs": [
    {
     "data": {
      "text/plain": [
       "-395.0"
      ]
     },
     "execution_count": 57,
     "metadata": {},
     "output_type": "execute_result"
    }
   ],
   "source": [
    "simulated_data.iloc[0]['amount_full_withdrawn']"
   ]
  },
  {
   "cell_type": "code",
   "execution_count": 58,
   "metadata": {},
   "outputs": [
    {
     "data": {
      "text/plain": [
       "0         5.947760\n",
       "1         1.515562\n",
       "2        -0.000000\n",
       "3        26.890801\n",
       "4         8.772212\n",
       "           ...    \n",
       "26463    -0.000000\n",
       "26464    -0.000000\n",
       "26465    -0.000000\n",
       "26466    -0.000000\n",
       "26467    -0.000000\n",
       "Name: amount_partial_withdrawn, Length: 26468, dtype: float64"
      ]
     },
     "execution_count": 58,
     "metadata": {},
     "output_type": "execute_result"
    }
   ],
   "source": [
    "staking_flow['amount_partial_withdrawn']"
   ]
  },
  {
   "cell_type": "code",
   "execution_count": null,
   "metadata": {},
   "outputs": [],
   "source": []
  }
 ],
 "metadata": {
  "kernelspec": {
   "display_name": "venv",
   "language": "python",
   "name": "python3"
  },
  "language_info": {
   "codemirror_mode": {
    "name": "ipython",
    "version": 3
   },
   "file_extension": ".py",
   "mimetype": "text/x-python",
   "name": "python",
   "nbconvert_exporter": "python",
   "pygments_lexer": "ipython3",
   "version": "3.8.9"
  }
 },
 "nbformat": 4,
 "nbformat_minor": 2
}
