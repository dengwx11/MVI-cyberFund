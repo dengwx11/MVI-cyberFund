{
 "cells": [
  {
   "cell_type": "code",
   "execution_count": 1,
   "metadata": {},
   "outputs": [],
   "source": [
    "import secrets\n",
    "import pandas as pd\n",
    "import numpy as np\n",
    "#import seaborn as sns\n",
    "\n",
    "from radcad import Model, Simulation, Experiment\n",
    "from radcad.engine import Engine, Backend\n",
    "from random import randint, uniform\n",
    "\n",
    "from abc import ABC, abstractmethod\n",
    "from dataclasses import dataclass\n",
    "\n",
    "#sns.set(style=\"whitegrid\")"
   ]
  },
  {
   "cell_type": "code",
   "execution_count": 2,
   "metadata": {},
   "outputs": [],
   "source": [
    "from dataclasses import dataclass, field\n",
    "from typing import TypedDict, List, Callable, NamedTuple\n",
    "\n",
    "\n",
    "from model.utils import default, update_from_signal\n",
    "import visualizations"
   ]
  },
  {
   "cell_type": "code",
   "execution_count": 3,
   "metadata": {},
   "outputs": [],
   "source": [
    "import model.basic_model as basic_model\n",
    "from model.stochastic_processes import (\n",
    "    create_stochastic_process,\n",
    "    plot_price,\n",
    ")\n",
    "from model.agents import (\n",
    "    CEXAgent, LSTAgent, LRTAgent, SoloAgent, StakingPoolAgent, ETFAgent,\n",
    "    StandardDeposit, StandardFullWithdraw\n",
    ")\n",
    "import model.agents_decision as agents_decision\n",
    "import model.infra_costs as infra_costs\n",
    "import model.APY as APY"
   ]
  },
  {
   "cell_type": "code",
   "execution_count": 4,
   "metadata": {},
   "outputs": [
    {
     "name": "stdout",
     "output_type": "stream",
     "text": [
      "Current Working Directory: /Users/amber/Desktop/Simulation/MVI-cyberFund\n",
      "Python Path: ['/Users/amber/Desktop/Simulation/MVI-cyberFund', '/Library/Developer/CommandLineTools/Library/Frameworks/Python3.framework/Versions/3.9/lib/python39.zip', '/Library/Developer/CommandLineTools/Library/Frameworks/Python3.framework/Versions/3.9/lib/python3.9', '/Library/Developer/CommandLineTools/Library/Frameworks/Python3.framework/Versions/3.9/lib/python3.9/lib-dynload', '', '/Users/amber/Desktop/Simulation/venv/lib/python3.9/site-packages']\n"
     ]
    }
   ],
   "source": [
    "import os\n",
    "import sys\n",
    "print(\"Current Working Directory:\", os.getcwd())\n",
    "print(\"Python Path:\", sys.path)\n"
   ]
  },
  {
   "cell_type": "code",
   "execution_count": 5,
   "metadata": {},
   "outputs": [],
   "source": [
    "# types\n",
    "Run = int\n",
    "Timestep = int"
   ]
  },
  {
   "cell_type": "markdown",
   "metadata": {},
   "source": [
    "# Price Traj Generation"
   ]
  },
  {
   "cell_type": "code",
   "execution_count": 6,
   "metadata": {},
   "outputs": [
    {
     "data": {
      "image/png": "[encoded data removed]",
      "text/plain": [
       "<Figure size 432x288 with 1 Axes>"
      ]
     },
     "metadata": {
      "needs_background": "light"
     },
     "output_type": "display_data"
    },
    {
     "name": "stdout",
     "output_type": "stream",
     "text": [
      "2278.6599203135465\n"
     ]
    }
   ],
   "source": [
    "eth_price_samples = create_stochastic_process(price_traj_type = 'concave')\n",
    "eth_price_samples = [i for i in eth_price_samples] # ETH-USD pair\n",
    "plot_price(eth_price_samples) \n",
    "print(min(eth_price_samples))"
   ]
  },
  {
   "cell_type": "markdown",
   "metadata": {},
   "source": [
    "# Setup"
   ]
  },
  {
   "cell_type": "code",
   "execution_count": 7,
   "metadata": {},
   "outputs": [],
   "source": [
    "constants = {\n",
    "}"
   ]
  },
  {
   "cell_type": "code",
   "execution_count": 8,
   "metadata": {},
   "outputs": [],
   "source": [
    "cumu_staked = pd.read_csv('model/data/cumu_staked_validator.csv')\n",
    "\n",
    "recent_staked = cumu_staked[cumu_staked['day']==cumu_staked['day'].max()]\n",
    "curr_stake_LRT = recent_staked[recent_staked['entity_category']=='Liquid Restaking']['curr_stake']\n",
    "curr_stake_LST = recent_staked[recent_staked['entity_category']=='Liquid Staking']['curr_stake']\n",
    "curr_stake_CEX = recent_staked[recent_staked['entity_category']=='CEXs']['curr_stake']\n",
    "curr_stake_Solo = recent_staked[recent_staked['entity_category']=='Solo Stakers']['curr_stake']\n",
    "curr_stake_SP = recent_staked[recent_staked['entity_category']=='Staking Pools']['curr_stake']"
   ]
  },
  {
   "cell_type": "code",
   "execution_count": 9,
   "metadata": {},
   "outputs": [
    {
     "data": {
      "text/html": [
       "<div>\n",
       "<style scoped>\n",
       "    .dataframe tbody tr th:only-of-type {\n",
       "        vertical-align: middle;\n",
       "    }\n",
       "\n",
       "    .dataframe tbody tr th {\n",
       "        vertical-align: top;\n",
       "    }\n",
       "\n",
       "    .dataframe thead th {\n",
       "        text-align: right;\n",
       "    }\n",
       "</style>\n",
       "<table border=\"1\" class=\"dataframe\">\n",
       "  <thead>\n",
       "    <tr style=\"text-align: right;\">\n",
       "      <th></th>\n",
       "      <th>amount_full_withdrawn</th>\n",
       "      <th>amount_partial_withdrawn</th>\n",
       "      <th>amount_staked</th>\n",
       "      <th>cumulative_amount_full_withdrawn</th>\n",
       "      <th>cumulative_amount_partial_withdrawn</th>\n",
       "      <th>cumulative_amount_staked</th>\n",
       "      <th>cumulative_total_entries</th>\n",
       "      <th>curr_stake</th>\n",
       "      <th>day</th>\n",
       "      <th>entity_category</th>\n",
       "      <th>total_entries</th>\n",
       "    </tr>\n",
       "  </thead>\n",
       "  <tbody>\n",
       "    <tr>\n",
       "      <th>0</th>\n",
       "      <td>960.0</td>\n",
       "      <td>171.572760</td>\n",
       "      <td>0</td>\n",
       "      <td>1.075039e+06</td>\n",
       "      <td>39889.195288</td>\n",
       "      <td>3753443</td>\n",
       "      <td>2077937</td>\n",
       "      <td>2.638515e+06</td>\n",
       "      <td>2024-09-24</td>\n",
       "      <td>Liquid Restaking</td>\n",
       "      <td>7487</td>\n",
       "    </tr>\n",
       "    <tr>\n",
       "      <th>1</th>\n",
       "      <td>3680.0</td>\n",
       "      <td>123.906669</td>\n",
       "      <td>1504</td>\n",
       "      <td>1.776657e+06</td>\n",
       "      <td>368449.555773</td>\n",
       "      <td>6096346</td>\n",
       "      <td>8953090</td>\n",
       "      <td>3.951240e+06</td>\n",
       "      <td>2024-09-24</td>\n",
       "      <td>undefined</td>\n",
       "      <td>5607</td>\n",
       "    </tr>\n",
       "    <tr>\n",
       "      <th>2</th>\n",
       "      <td>2272.0</td>\n",
       "      <td>175.889942</td>\n",
       "      <td>1216</td>\n",
       "      <td>6.394754e+06</td>\n",
       "      <td>803357.335542</td>\n",
       "      <td>9701248</td>\n",
       "      <td>17951774</td>\n",
       "      <td>2.503136e+06</td>\n",
       "      <td>2024-09-24</td>\n",
       "      <td>CEXs</td>\n",
       "      <td>7827</td>\n",
       "    </tr>\n",
       "    <tr>\n",
       "      <th>3</th>\n",
       "      <td>736.0</td>\n",
       "      <td>270.989009</td>\n",
       "      <td>1696</td>\n",
       "      <td>3.853881e+06</td>\n",
       "      <td>329806.532933</td>\n",
       "      <td>8021376</td>\n",
       "      <td>9539748</td>\n",
       "      <td>3.837688e+06</td>\n",
       "      <td>2024-09-24</td>\n",
       "      <td>Staking Pools</td>\n",
       "      <td>11989</td>\n",
       "    </tr>\n",
       "    <tr>\n",
       "      <th>4</th>\n",
       "      <td>32.0</td>\n",
       "      <td>0.383541</td>\n",
       "      <td>0</td>\n",
       "      <td>1.202491e+05</td>\n",
       "      <td>44379.896161</td>\n",
       "      <td>109794</td>\n",
       "      <td>767849</td>\n",
       "      <td>-5.483503e+04</td>\n",
       "      <td>2024-09-24</td>\n",
       "      <td>Solo Stakers</td>\n",
       "      <td>21</td>\n",
       "    </tr>\n",
       "    <tr>\n",
       "      <th>5</th>\n",
       "      <td>672.0</td>\n",
       "      <td>247.529829</td>\n",
       "      <td>15185</td>\n",
       "      <td>3.104268e+06</td>\n",
       "      <td>723657.330501</td>\n",
       "      <td>9457080</td>\n",
       "      <td>22516484</td>\n",
       "      <td>5.629155e+06</td>\n",
       "      <td>2024-09-24</td>\n",
       "      <td>Liquid Staking</td>\n",
       "      <td>11346</td>\n",
       "    </tr>\n",
       "  </tbody>\n",
       "</table>\n",
       "</div>"
      ],
      "text/plain": [
       "   amount_full_withdrawn  amount_partial_withdrawn  amount_staked  \\\n",
       "0                  960.0                171.572760              0   \n",
       "1                 3680.0                123.906669           1504   \n",
       "2                 2272.0                175.889942           1216   \n",
       "3                  736.0                270.989009           1696   \n",
       "4                   32.0                  0.383541              0   \n",
       "5                  672.0                247.529829          15185   \n",
       "\n",
       "   cumulative_amount_full_withdrawn  cumulative_amount_partial_withdrawn  \\\n",
       "0                      1.075039e+06                         39889.195288   \n",
       "1                      1.776657e+06                        368449.555773   \n",
       "2                      6.394754e+06                        803357.335542   \n",
       "3                      3.853881e+06                        329806.532933   \n",
       "4                      1.202491e+05                         44379.896161   \n",
       "5                      3.104268e+06                        723657.330501   \n",
       "\n",
       "   cumulative_amount_staked  cumulative_total_entries    curr_stake  \\\n",
       "0                   3753443                   2077937  2.638515e+06   \n",
       "1                   6096346                   8953090  3.951240e+06   \n",
       "2                   9701248                  17951774  2.503136e+06   \n",
       "3                   8021376                   9539748  3.837688e+06   \n",
       "4                    109794                    767849 -5.483503e+04   \n",
       "5                   9457080                  22516484  5.629155e+06   \n",
       "\n",
       "          day   entity_category  total_entries  \n",
       "0  2024-09-24  Liquid Restaking           7487  \n",
       "1  2024-09-24         undefined           5607  \n",
       "2  2024-09-24              CEXs           7827  \n",
       "3  2024-09-24     Staking Pools          11989  \n",
       "4  2024-09-24      Solo Stakers             21  \n",
       "5  2024-09-24    Liquid Staking          11346  "
      ]
     },
     "execution_count": 9,
     "metadata": {},
     "output_type": "execute_result"
    }
   ],
   "source": [
    "recent_staked"
   ]
  },
  {
   "cell_type": "code",
   "execution_count": 10,
   "metadata": {},
   "outputs": [
    {
     "name": "stderr",
     "output_type": "stream",
     "text": [
      "<ipython-input-10-f3800099faa3>:4: FutureWarning: Calling int on a single element Series is deprecated and will raise a TypeError in the future. Use int(ser.iloc[0]) instead\n",
      "  cnt=int(curr_stake_CEX/32),\n",
      "<ipython-input-10-f3800099faa3>:16: FutureWarning: Calling int on a single element Series is deprecated and will raise a TypeError in the future. Use int(ser.iloc[0]) instead\n",
      "  cnt=int(curr_stake_LST/32),\n",
      "<ipython-input-10-f3800099faa3>:28: FutureWarning: Calling int on a single element Series is deprecated and will raise a TypeError in the future. Use int(ser.iloc[0]) instead\n",
      "  cnt=int(curr_stake_LRT/32),\n",
      "<ipython-input-10-f3800099faa3>:40: FutureWarning: Calling int on a single element Series is deprecated and will raise a TypeError in the future. Use int(ser.iloc[0]) instead\n",
      "  cnt=int(curr_stake_Solo/32),\n",
      "<ipython-input-10-f3800099faa3>:52: FutureWarning: Calling int on a single element Series is deprecated and will raise a TypeError in the future. Use int(ser.iloc[0]) instead\n",
      "  cnt=int(curr_stake_SP/32),\n",
      "<ipython-input-10-f3800099faa3>:64: FutureWarning: Calling int on a single element Series is deprecated and will raise a TypeError in the future. Use int(ser.iloc[0]) instead\n",
      "  cnt=int(curr_stake_SP/32),\n"
     ]
    }
   ],
   "source": [
    "# Initialize an agent\n",
    "cex_agent = CEXAgent(\n",
    "    balance=curr_stake_CEX, \n",
    "    cnt=int(curr_stake_CEX/32), \n",
    "    category=\"CEX\", \n",
    "    cost_APY= 0.0,\n",
    "    # full_withdrawl=0.0, \n",
    "    # partial_withdrawl=0.0, \n",
    "    deposit_behavior=StandardDeposit(), \n",
    "    withdraw_behavior=StandardFullWithdraw(),\n",
    "    entity=\"None\"\n",
    ")\n",
    "\n",
    "lst_agent = LSTAgent(\n",
    "    balance=curr_stake_LST, \n",
    "    cnt=int(curr_stake_LST/32), \n",
    "    category=\"LST\", \n",
    "    cost_APY= 0.0,\n",
    "    # full_withdrawl=0.0, \n",
    "    # partial_withdrawl=0.0, \n",
    "    deposit_behavior=StandardDeposit(), \n",
    "    withdraw_behavior=StandardFullWithdraw(),\n",
    "    entity=\"None\"\n",
    ")\n",
    "\n",
    "lrt_agent = LRTAgent(\n",
    "    balance=curr_stake_LRT, \n",
    "    cnt=int(curr_stake_LRT/32), \n",
    "    category=\"LRT\", \n",
    "    cost_APY= 0.0,\n",
    "    # full_withdrawl=0.0, \n",
    "    # partial_withdrawl=0.0, \n",
    "    deposit_behavior=StandardDeposit(), \n",
    "    withdraw_behavior=StandardFullWithdraw(),\n",
    "    entity=\"None\"\n",
    ")\n",
    "\n",
    "solo_agent = SoloAgent(\n",
    "    balance=curr_stake_Solo, \n",
    "    cnt=int(curr_stake_Solo/32), \n",
    "    category=\"Solo\", \n",
    "    cost_APY= 0.0,\n",
    "    # full_withdrawl=0.0, \n",
    "    # partial_withdrawl=0.0, \n",
    "    deposit_behavior=StandardDeposit(), \n",
    "    withdraw_behavior=StandardFullWithdraw(),\n",
    "    entity=\"None\"\n",
    ")\n",
    "\n",
    "sp_agent = StakingPoolAgent(\n",
    "    balance=curr_stake_SP, \n",
    "    cnt=int(curr_stake_SP/32), \n",
    "    category=\"SP\", \n",
    "    cost_APY= 0.0,\n",
    "    # full_withdrawl=0.0, \n",
    "    # partial_withdrawl=0.0, \n",
    "    deposit_behavior=StandardDeposit(), \n",
    "    withdraw_behavior=StandardFullWithdraw(),\n",
    "    entity=\"None\"\n",
    ")\n",
    "\n",
    "etf_agent = ETFAgent(\n",
    "    balance=0, \n",
    "    cnt=int(curr_stake_SP/32), \n",
    "    category=\"SP\", \n",
    "    cost_APY= 0.0,\n",
    "    # full_withdrawl=0.0, \n",
    "    # partial_withdrawl=0.0, \n",
    "    deposit_behavior=StandardDeposit(), \n",
    "    withdraw_behavior=StandardFullWithdraw(),\n",
    "    entity=\"None\"\n",
    ")"
   ]
  },
  {
   "cell_type": "markdown",
   "metadata": {},
   "source": [
    "# Simulation"
   ]
  },
  {
   "cell_type": "code",
   "execution_count": 11,
   "metadata": {},
   "outputs": [],
   "source": [
    "ETH_initial_price = eth_price_samples[0]\n"
   ]
  },
  {
   "cell_type": "code",
   "execution_count": 12,
   "metadata": {},
   "outputs": [],
   "source": [
    "@dataclass\n",
    "class MVIParams:\n",
    "\n",
    "    eth_price_process:  List[Callable[[Run, Timestep], float]] = default(\n",
    "        [lambda run, timestep: eth_price_samples[timestep]]\n",
    "    )\n",
    "\n",
    "parameters = MVIParams().__dict__"
   ]
  },
  {
   "cell_type": "code",
   "execution_count": 13,
   "metadata": {},
   "outputs": [],
   "source": [
    "psub = [{\n",
    "    \"policies\": {\n",
    "    },\n",
    "    \"variables\": {\n",
    "        \"timestep\": basic_model.update_timestep,\n",
    "        \"price\": basic_model.update_price,\n",
    "    }\n",
    "},  { # TODO: utility function and decision making\n",
    "    \"policies\": {\n",
    "        \"action\": agents_decision.deposit_withdraw\n",
    "    },\n",
    "    \"variables\": {\n",
    "        \"CEXAgent\": agents_decision.update_CEXAgent_deposit_withdraw,\n",
    "        \"LSTAgent\": agents_decision.update_LSTAgent_deposit_withdraw,\n",
    "        \"LRTAgent\": agents_decision.update_LRTAgent_deposit_withdraw,\n",
    "        \"SoloAgent\": agents_decision.update_SoloAgent_deposit_withdraw,\n",
    "        \"StakingPoolAgent\": agents_decision.update_StakingPoolAgent_deposit_withdraw,\n",
    "    }\n",
    "},  { # TODO: double check the infra costs\n",
    "    \"policies\": { \n",
    "        \"action\": infra_costs.calc_costs\n",
    "    },\n",
    "    \"variables\": {\n",
    "        \"CEXAgent\": infra_costs.update_CEXAgent_cost,\n",
    "        \"LSTAgent\": infra_costs.update_LSTAgent_cost,\n",
    "        \"LRTAgent\": infra_costs.update_LRTAgent_cost,\n",
    "        \"SoloAgent\": infra_costs.update_SoloAgent_cost,\n",
    "        \"StakingPoolAgent\": infra_costs.update_StakingPoolAgent_cost,\n",
    "    }\n",
    "},  { # TODO: highlight profits\n",
    "    \"policies\": {\n",
    "        \"action\": APY.calc_decentralization_and_total_staked\n",
    "    },\n",
    "    \"variables\": {\n",
    "        \"total_staked\": APY.update_total_staked,\n",
    "        \"total_validator_cnt\": APY.update_total_validator_cnt,\n",
    "        \"decentralization_metrics\": APY.update_decentralization_metrics,\n",
    "    }\n",
    "}\n",
    "]\n",
    "\n",
    "initial_conditions = {\n",
    "    \"timestep\": 0,\n",
    "    \"price\": ETH_initial_price, \n",
    "    \"CEXAgent\": cex_agent,\n",
    "    \"LSTAgent\": lst_agent,\n",
    "    \"LRTAgent\": lrt_agent,\n",
    "    \"SoloAgent\": solo_agent,\n",
    "    \"StakingPoolAgent\": sp_agent,\n",
    "    \"ETFAgent\": etf_agent,\n",
    "    \"total_staked\": 0,\n",
    "    \"total_validator_cnt\": 0,\n",
    "    \"decentralization_metrics\": {},\n",
    "}\n",
    "\n",
    "\n",
    "params = parameters\n",
    "\n",
    "model = Model(\n",
    "        initial_state=initial_conditions,\n",
    "        state_update_blocks=psub,\n",
    "        params=params,\n",
    "    )"
   ]
  },
  {
   "cell_type": "code",
   "execution_count": 14,
   "metadata": {},
   "outputs": [
    {
     "name": "stdout",
     "output_type": "stream",
     "text": [
      "Timestep: 1, Available data: 150\n",
      "Timestep: 2, Available data: 150\n",
      "Timestep: 3, Available data: 150\n",
      "Timestep: 4, Available data: 150\n",
      "Timestep: 5, Available data: 150\n",
      "Timestep: 6, Available data: 150\n",
      "Timestep: 7, Available data: 150\n",
      "Timestep: 8, Available data: 150\n",
      "Timestep: 9, Available data: 150\n",
      "Timestep: 10, Available data: 150\n",
      "Timestep: 11, Available data: 150\n",
      "Timestep: 12, Available data: 150\n",
      "Timestep: 13, Available data: 150\n",
      "Timestep: 14, Available data: 150\n",
      "Timestep: 15, Available data: 150\n",
      "Timestep: 16, Available data: 150\n",
      "Timestep: 17, Available data: 150\n",
      "Timestep: 18, Available data: 150\n",
      "Timestep: 19, Available data: 150\n",
      "Timestep: 20, Available data: 150\n",
      "Timestep: 21, Available data: 150\n",
      "Timestep: 22, Available data: 150\n",
      "Timestep: 23, Available data: 150\n",
      "Timestep: 24, Available data: 150\n",
      "Timestep: 25, Available data: 150\n",
      "Timestep: 26, Available data: 150\n",
      "Timestep: 27, Available data: 150\n",
      "Timestep: 28, Available data: 150\n",
      "Timestep: 29, Available data: 150\n",
      "Timestep: 30, Available data: 150\n",
      "Timestep: 31, Available data: 150\n",
      "Timestep: 32, Available data: 150\n",
      "Timestep: 33, Available data: 150\n",
      "Timestep: 34, Available data: 150\n",
      "Timestep: 35, Available data: 150\n",
      "Timestep: 36, Available data: 150\n",
      "Timestep: 37, Available data: 150\n",
      "Timestep: 38, Available data: 150\n",
      "Timestep: 39, Available data: 150\n",
      "Timestep: 40, Available data: 150\n",
      "Timestep: 41, Available data: 150\n",
      "Timestep: 42, Available data: 150\n",
      "Timestep: 43, Available data: 150\n",
      "Timestep: 44, Available data: 150\n",
      "Timestep: 45, Available data: 150\n",
      "Timestep: 46, Available data: 150\n",
      "Timestep: 47, Available data: 150\n",
      "Timestep: 48, Available data: 150\n",
      "Timestep: 49, Available data: 150\n",
      "Timestep: 50, Available data: 150\n",
      "Timestep: 51, Available data: 150\n",
      "Timestep: 52, Available data: 150\n",
      "Timestep: 53, Available data: 150\n",
      "Timestep: 54, Available data: 150\n",
      "Timestep: 55, Available data: 150\n",
      "Timestep: 56, Available data: 150\n",
      "Timestep: 57, Available data: 150\n",
      "Timestep: 58, Available data: 150\n",
      "Timestep: 59, Available data: 150\n",
      "Timestep: 60, Available data: 150\n",
      "Timestep: 61, Available data: 150\n",
      "Timestep: 62, Available data: 150\n",
      "Timestep: 63, Available data: 150\n",
      "Timestep: 64, Available data: 150\n",
      "Timestep: 65, Available data: 150\n",
      "Timestep: 66, Available data: 150\n",
      "Timestep: 67, Available data: 150\n",
      "Timestep: 68, Available data: 150\n",
      "Timestep: 69, Available data: 150\n",
      "Timestep: 70, Available data: 150\n",
      "Timestep: 71, Available data: 150\n",
      "Timestep: 72, Available data: 150\n",
      "Timestep: 73, Available data: 150\n",
      "Timestep: 74, Available data: 150\n",
      "Timestep: 75, Available data: 150\n",
      "Timestep: 76, Available data: 150\n",
      "Timestep: 77, Available data: 150\n",
      "Timestep: 78, Available data: 150\n",
      "Timestep: 79, Available data: 150\n",
      "Timestep: 80, Available data: 150\n",
      "Timestep: 81, Available data: 150\n",
      "Timestep: 82, Available data: 150\n",
      "Timestep: 83, Available data: 150\n",
      "Timestep: 84, Available data: 150\n",
      "Timestep: 85, Available data: 150\n",
      "Timestep: 86, Available data: 150\n",
      "Timestep: 87, Available data: 150\n",
      "Timestep: 88, Available data: 150\n",
      "Timestep: 89, Available data: 150\n",
      "Timestep: 90, Available data: 150\n",
      "Timestep: 91, Available data: 150\n",
      "Timestep: 92, Available data: 150\n",
      "Timestep: 93, Available data: 150\n",
      "Timestep: 94, Available data: 150\n",
      "Timestep: 95, Available data: 150\n",
      "Timestep: 96, Available data: 150\n",
      "Timestep: 97, Available data: 150\n",
      "Timestep: 98, Available data: 150\n",
      "Timestep: 99, Available data: 150\n",
      "Timestep: 100, Available data: 150\n"
     ]
    }
   ],
   "source": [
    "simulation = Simulation(model=model, timesteps=100, runs=1)\n",
    "experiment = Experiment([simulation])\n",
    "experiment.engine = Engine(deepcopy=False, backend=Backend.SINGLE_PROCESS)\n",
    "results = experiment.run()\n",
    "df = pd.DataFrame(results)"
   ]
  },
  {
   "cell_type": "code",
   "execution_count": 15,
   "metadata": {},
   "outputs": [
    {
     "data": {
      "text/html": [
       "<div>\n",
       "<style scoped>\n",
       "    .dataframe tbody tr th:only-of-type {\n",
       "        vertical-align: middle;\n",
       "    }\n",
       "\n",
       "    .dataframe tbody tr th {\n",
       "        vertical-align: top;\n",
       "    }\n",
       "\n",
       "    .dataframe thead th {\n",
       "        text-align: right;\n",
       "    }\n",
       "</style>\n",
       "<table border=\"1\" class=\"dataframe\">\n",
       "  <thead>\n",
       "    <tr style=\"text-align: right;\">\n",
       "      <th></th>\n",
       "      <th>timestep</th>\n",
       "      <th>price</th>\n",
       "      <th>CEXAgent</th>\n",
       "      <th>LSTAgent</th>\n",
       "      <th>LRTAgent</th>\n",
       "      <th>SoloAgent</th>\n",
       "      <th>StakingPoolAgent</th>\n",
       "      <th>ETFAgent</th>\n",
       "      <th>total_staked</th>\n",
       "      <th>total_validator_cnt</th>\n",
       "      <th>decentralization_metrics</th>\n",
       "      <th>simulation</th>\n",
       "      <th>subset</th>\n",
       "      <th>run</th>\n",
       "      <th>substep</th>\n",
       "    </tr>\n",
       "  </thead>\n",
       "  <tbody>\n",
       "    <tr>\n",
       "      <th>0</th>\n",
       "      <td>0</td>\n",
       "      <td>2729.738442</td>\n",
       "      <td>CEXAgent(balance=2    5.058752e+06\\nName: curr...</td>\n",
       "      <td>LSTAgent(balance=5    7.522083e+06\\nName: curr...</td>\n",
       "      <td>LRTAgent(balance=0    4.166419e+06\\nName: curr...</td>\n",
       "      <td>SoloAgent(balance=4   -21235.0305\\nName: curr_...</td>\n",
       "      <td>StakingPoolAgent(balance=3    6.308120e+06\\nNa...</td>\n",
       "      <td>ETFAgent(balance=0, cnt=119927, category='SP',...</td>\n",
       "      <td>0.0</td>\n",
       "      <td>0.0</td>\n",
       "      <td>{}</td>\n",
       "      <td>0</td>\n",
       "      <td>0</td>\n",
       "      <td>1</td>\n",
       "      <td>0</td>\n",
       "    </tr>\n",
       "    <tr>\n",
       "      <th>1</th>\n",
       "      <td>1</td>\n",
       "      <td>2729.738442</td>\n",
       "      <td>CEXAgent(balance=2    5.058752e+06\\nName: curr...</td>\n",
       "      <td>LSTAgent(balance=5    7.522083e+06\\nName: curr...</td>\n",
       "      <td>LRTAgent(balance=0    4.166419e+06\\nName: curr...</td>\n",
       "      <td>SoloAgent(balance=4   -21235.0305\\nName: curr_...</td>\n",
       "      <td>StakingPoolAgent(balance=3    6.308120e+06\\nNa...</td>\n",
       "      <td>ETFAgent(balance=0, cnt=119927, category='SP',...</td>\n",
       "      <td>0.0</td>\n",
       "      <td>0.0</td>\n",
       "      <td>{}</td>\n",
       "      <td>0</td>\n",
       "      <td>0</td>\n",
       "      <td>1</td>\n",
       "      <td>1</td>\n",
       "    </tr>\n",
       "    <tr>\n",
       "      <th>2</th>\n",
       "      <td>1</td>\n",
       "      <td>2729.738442</td>\n",
       "      <td>CEXAgent(balance=2    5.058752e+06\\nName: curr...</td>\n",
       "      <td>LSTAgent(balance=5    7.522083e+06\\nName: curr...</td>\n",
       "      <td>LRTAgent(balance=0    4.166419e+06\\nName: curr...</td>\n",
       "      <td>SoloAgent(balance=4   -21235.0305\\nName: curr_...</td>\n",
       "      <td>StakingPoolAgent(balance=3    6.308120e+06\\nNa...</td>\n",
       "      <td>ETFAgent(balance=0, cnt=119927, category='SP',...</td>\n",
       "      <td>0.0</td>\n",
       "      <td>0.0</td>\n",
       "      <td>{}</td>\n",
       "      <td>0</td>\n",
       "      <td>0</td>\n",
       "      <td>1</td>\n",
       "      <td>2</td>\n",
       "    </tr>\n",
       "    <tr>\n",
       "      <th>3</th>\n",
       "      <td>1</td>\n",
       "      <td>2729.738442</td>\n",
       "      <td>CEXAgent(balance=2    5.058752e+06\\nName: curr...</td>\n",
       "      <td>LSTAgent(balance=5    7.522083e+06\\nName: curr...</td>\n",
       "      <td>LRTAgent(balance=0    4.166419e+06\\nName: curr...</td>\n",
       "      <td>SoloAgent(balance=4   -21235.0305\\nName: curr_...</td>\n",
       "      <td>StakingPoolAgent(balance=3    6.308120e+06\\nNa...</td>\n",
       "      <td>ETFAgent(balance=0, cnt=119927, category='SP',...</td>\n",
       "      <td>0.0</td>\n",
       "      <td>0.0</td>\n",
       "      <td>{}</td>\n",
       "      <td>0</td>\n",
       "      <td>0</td>\n",
       "      <td>1</td>\n",
       "      <td>3</td>\n",
       "    </tr>\n",
       "    <tr>\n",
       "      <th>4</th>\n",
       "      <td>1</td>\n",
       "      <td>2729.738442</td>\n",
       "      <td>CEXAgent(balance=2    5.058752e+06\\nName: curr...</td>\n",
       "      <td>LSTAgent(balance=5    7.522083e+06\\nName: curr...</td>\n",
       "      <td>LRTAgent(balance=0    4.166419e+06\\nName: curr...</td>\n",
       "      <td>SoloAgent(balance=4   -21235.0305\\nName: curr_...</td>\n",
       "      <td>StakingPoolAgent(balance=3    6.308120e+06\\nNa...</td>\n",
       "      <td>ETFAgent(balance=0, cnt=119927, category='SP',...</td>\n",
       "      <td>18472512.0</td>\n",
       "      <td>577266.0</td>\n",
       "      <td>{'HHI': 2197.0178589361512, 'CR_k': 0.72259062...</td>\n",
       "      <td>0</td>\n",
       "      <td>0</td>\n",
       "      <td>1</td>\n",
       "      <td>4</td>\n",
       "    </tr>\n",
       "    <tr>\n",
       "      <th>...</th>\n",
       "      <td>...</td>\n",
       "      <td>...</td>\n",
       "      <td>...</td>\n",
       "      <td>...</td>\n",
       "      <td>...</td>\n",
       "      <td>...</td>\n",
       "      <td>...</td>\n",
       "      <td>...</td>\n",
       "      <td>...</td>\n",
       "      <td>...</td>\n",
       "      <td>...</td>\n",
       "      <td>...</td>\n",
       "      <td>...</td>\n",
       "      <td>...</td>\n",
       "      <td>...</td>\n",
       "    </tr>\n",
       "    <tr>\n",
       "      <th>396</th>\n",
       "      <td>99</td>\n",
       "      <td>2465.804908</td>\n",
       "      <td>CEXAgent(balance=2    5.058752e+06\\nName: curr...</td>\n",
       "      <td>LSTAgent(balance=5    7.522083e+06\\nName: curr...</td>\n",
       "      <td>LRTAgent(balance=0    4.166419e+06\\nName: curr...</td>\n",
       "      <td>SoloAgent(balance=4   -21235.0305\\nName: curr_...</td>\n",
       "      <td>StakingPoolAgent(balance=3    6.308120e+06\\nNa...</td>\n",
       "      <td>ETFAgent(balance=0, cnt=119927, category='SP',...</td>\n",
       "      <td>26786240.0</td>\n",
       "      <td>837070.0</td>\n",
       "      <td>{'HHI': 2133.258649067451, 'CR_k': 0.702515918...</td>\n",
       "      <td>0</td>\n",
       "      <td>0</td>\n",
       "      <td>1</td>\n",
       "      <td>4</td>\n",
       "    </tr>\n",
       "    <tr>\n",
       "      <th>397</th>\n",
       "      <td>100</td>\n",
       "      <td>2490.373304</td>\n",
       "      <td>CEXAgent(balance=2    5.058752e+06\\nName: curr...</td>\n",
       "      <td>LSTAgent(balance=5    7.522083e+06\\nName: curr...</td>\n",
       "      <td>LRTAgent(balance=0    4.166419e+06\\nName: curr...</td>\n",
       "      <td>SoloAgent(balance=4   -21235.0305\\nName: curr_...</td>\n",
       "      <td>StakingPoolAgent(balance=3    6.308120e+06\\nNa...</td>\n",
       "      <td>ETFAgent(balance=0, cnt=119927, category='SP',...</td>\n",
       "      <td>26786240.0</td>\n",
       "      <td>837070.0</td>\n",
       "      <td>{'HHI': 2133.258649067451, 'CR_k': 0.702515918...</td>\n",
       "      <td>0</td>\n",
       "      <td>0</td>\n",
       "      <td>1</td>\n",
       "      <td>1</td>\n",
       "    </tr>\n",
       "    <tr>\n",
       "      <th>398</th>\n",
       "      <td>100</td>\n",
       "      <td>2490.373304</td>\n",
       "      <td>CEXAgent(balance=2    5.058752e+06\\nName: curr...</td>\n",
       "      <td>LSTAgent(balance=5    7.522083e+06\\nName: curr...</td>\n",
       "      <td>LRTAgent(balance=0    4.166419e+06\\nName: curr...</td>\n",
       "      <td>SoloAgent(balance=4   -21235.0305\\nName: curr_...</td>\n",
       "      <td>StakingPoolAgent(balance=3    6.308120e+06\\nNa...</td>\n",
       "      <td>ETFAgent(balance=0, cnt=119927, category='SP',...</td>\n",
       "      <td>26786240.0</td>\n",
       "      <td>837070.0</td>\n",
       "      <td>{'HHI': 2133.258649067451, 'CR_k': 0.702515918...</td>\n",
       "      <td>0</td>\n",
       "      <td>0</td>\n",
       "      <td>1</td>\n",
       "      <td>2</td>\n",
       "    </tr>\n",
       "    <tr>\n",
       "      <th>399</th>\n",
       "      <td>100</td>\n",
       "      <td>2490.373304</td>\n",
       "      <td>CEXAgent(balance=2    5.058752e+06\\nName: curr...</td>\n",
       "      <td>LSTAgent(balance=5    7.522083e+06\\nName: curr...</td>\n",
       "      <td>LRTAgent(balance=0    4.166419e+06\\nName: curr...</td>\n",
       "      <td>SoloAgent(balance=4   -21235.0305\\nName: curr_...</td>\n",
       "      <td>StakingPoolAgent(balance=3    6.308120e+06\\nNa...</td>\n",
       "      <td>ETFAgent(balance=0, cnt=119927, category='SP',...</td>\n",
       "      <td>26786240.0</td>\n",
       "      <td>837070.0</td>\n",
       "      <td>{'HHI': 2133.258649067451, 'CR_k': 0.702515918...</td>\n",
       "      <td>0</td>\n",
       "      <td>0</td>\n",
       "      <td>1</td>\n",
       "      <td>3</td>\n",
       "    </tr>\n",
       "    <tr>\n",
       "      <th>400</th>\n",
       "      <td>100</td>\n",
       "      <td>2490.373304</td>\n",
       "      <td>CEXAgent(balance=2    5.058752e+06\\nName: curr...</td>\n",
       "      <td>LSTAgent(balance=5    7.522083e+06\\nName: curr...</td>\n",
       "      <td>LRTAgent(balance=0    4.166419e+06\\nName: curr...</td>\n",
       "      <td>SoloAgent(balance=4   -21235.0305\\nName: curr_...</td>\n",
       "      <td>StakingPoolAgent(balance=3    6.308120e+06\\nNa...</td>\n",
       "      <td>ETFAgent(balance=0, cnt=119927, category='SP',...</td>\n",
       "      <td>26871776.0</td>\n",
       "      <td>839743.0</td>\n",
       "      <td>{'HHI': 2133.407721426242, 'CR_k': 0.702928157...</td>\n",
       "      <td>0</td>\n",
       "      <td>0</td>\n",
       "      <td>1</td>\n",
       "      <td>4</td>\n",
       "    </tr>\n",
       "  </tbody>\n",
       "</table>\n",
       "<p>401 rows × 15 columns</p>\n",
       "</div>"
      ],
      "text/plain": [
       "     timestep        price                                           CEXAgent  \\\n",
       "0           0  2729.738442  CEXAgent(balance=2    5.058752e+06\\nName: curr...   \n",
       "1           1  2729.738442  CEXAgent(balance=2    5.058752e+06\\nName: curr...   \n",
       "2           1  2729.738442  CEXAgent(balance=2    5.058752e+06\\nName: curr...   \n",
       "3           1  2729.738442  CEXAgent(balance=2    5.058752e+06\\nName: curr...   \n",
       "4           1  2729.738442  CEXAgent(balance=2    5.058752e+06\\nName: curr...   \n",
       "..        ...          ...                                                ...   \n",
       "396        99  2465.804908  CEXAgent(balance=2    5.058752e+06\\nName: curr...   \n",
       "397       100  2490.373304  CEXAgent(balance=2    5.058752e+06\\nName: curr...   \n",
       "398       100  2490.373304  CEXAgent(balance=2    5.058752e+06\\nName: curr...   \n",
       "399       100  2490.373304  CEXAgent(balance=2    5.058752e+06\\nName: curr...   \n",
       "400       100  2490.373304  CEXAgent(balance=2    5.058752e+06\\nName: curr...   \n",
       "\n",
       "                                              LSTAgent  \\\n",
       "0    LSTAgent(balance=5    7.522083e+06\\nName: curr...   \n",
       "1    LSTAgent(balance=5    7.522083e+06\\nName: curr...   \n",
       "2    LSTAgent(balance=5    7.522083e+06\\nName: curr...   \n",
       "3    LSTAgent(balance=5    7.522083e+06\\nName: curr...   \n",
       "4    LSTAgent(balance=5    7.522083e+06\\nName: curr...   \n",
       "..                                                 ...   \n",
       "396  LSTAgent(balance=5    7.522083e+06\\nName: curr...   \n",
       "397  LSTAgent(balance=5    7.522083e+06\\nName: curr...   \n",
       "398  LSTAgent(balance=5    7.522083e+06\\nName: curr...   \n",
       "399  LSTAgent(balance=5    7.522083e+06\\nName: curr...   \n",
       "400  LSTAgent(balance=5    7.522083e+06\\nName: curr...   \n",
       "\n",
       "                                              LRTAgent  \\\n",
       "0    LRTAgent(balance=0    4.166419e+06\\nName: curr...   \n",
       "1    LRTAgent(balance=0    4.166419e+06\\nName: curr...   \n",
       "2    LRTAgent(balance=0    4.166419e+06\\nName: curr...   \n",
       "3    LRTAgent(balance=0    4.166419e+06\\nName: curr...   \n",
       "4    LRTAgent(balance=0    4.166419e+06\\nName: curr...   \n",
       "..                                                 ...   \n",
       "396  LRTAgent(balance=0    4.166419e+06\\nName: curr...   \n",
       "397  LRTAgent(balance=0    4.166419e+06\\nName: curr...   \n",
       "398  LRTAgent(balance=0    4.166419e+06\\nName: curr...   \n",
       "399  LRTAgent(balance=0    4.166419e+06\\nName: curr...   \n",
       "400  LRTAgent(balance=0    4.166419e+06\\nName: curr...   \n",
       "\n",
       "                                             SoloAgent  \\\n",
       "0    SoloAgent(balance=4   -21235.0305\\nName: curr_...   \n",
       "1    SoloAgent(balance=4   -21235.0305\\nName: curr_...   \n",
       "2    SoloAgent(balance=4   -21235.0305\\nName: curr_...   \n",
       "3    SoloAgent(balance=4   -21235.0305\\nName: curr_...   \n",
       "4    SoloAgent(balance=4   -21235.0305\\nName: curr_...   \n",
       "..                                                 ...   \n",
       "396  SoloAgent(balance=4   -21235.0305\\nName: curr_...   \n",
       "397  SoloAgent(balance=4   -21235.0305\\nName: curr_...   \n",
       "398  SoloAgent(balance=4   -21235.0305\\nName: curr_...   \n",
       "399  SoloAgent(balance=4   -21235.0305\\nName: curr_...   \n",
       "400  SoloAgent(balance=4   -21235.0305\\nName: curr_...   \n",
       "\n",
       "                                      StakingPoolAgent  \\\n",
       "0    StakingPoolAgent(balance=3    6.308120e+06\\nNa...   \n",
       "1    StakingPoolAgent(balance=3    6.308120e+06\\nNa...   \n",
       "2    StakingPoolAgent(balance=3    6.308120e+06\\nNa...   \n",
       "3    StakingPoolAgent(balance=3    6.308120e+06\\nNa...   \n",
       "4    StakingPoolAgent(balance=3    6.308120e+06\\nNa...   \n",
       "..                                                 ...   \n",
       "396  StakingPoolAgent(balance=3    6.308120e+06\\nNa...   \n",
       "397  StakingPoolAgent(balance=3    6.308120e+06\\nNa...   \n",
       "398  StakingPoolAgent(balance=3    6.308120e+06\\nNa...   \n",
       "399  StakingPoolAgent(balance=3    6.308120e+06\\nNa...   \n",
       "400  StakingPoolAgent(balance=3    6.308120e+06\\nNa...   \n",
       "\n",
       "                                              ETFAgent  total_staked  \\\n",
       "0    ETFAgent(balance=0, cnt=119927, category='SP',...           0.0   \n",
       "1    ETFAgent(balance=0, cnt=119927, category='SP',...           0.0   \n",
       "2    ETFAgent(balance=0, cnt=119927, category='SP',...           0.0   \n",
       "3    ETFAgent(balance=0, cnt=119927, category='SP',...           0.0   \n",
       "4    ETFAgent(balance=0, cnt=119927, category='SP',...    18472512.0   \n",
       "..                                                 ...           ...   \n",
       "396  ETFAgent(balance=0, cnt=119927, category='SP',...    26786240.0   \n",
       "397  ETFAgent(balance=0, cnt=119927, category='SP',...    26786240.0   \n",
       "398  ETFAgent(balance=0, cnt=119927, category='SP',...    26786240.0   \n",
       "399  ETFAgent(balance=0, cnt=119927, category='SP',...    26786240.0   \n",
       "400  ETFAgent(balance=0, cnt=119927, category='SP',...    26871776.0   \n",
       "\n",
       "     total_validator_cnt                           decentralization_metrics  \\\n",
       "0                    0.0                                                 {}   \n",
       "1                    0.0                                                 {}   \n",
       "2                    0.0                                                 {}   \n",
       "3                    0.0                                                 {}   \n",
       "4               577266.0  {'HHI': 2197.0178589361512, 'CR_k': 0.72259062...   \n",
       "..                   ...                                                ...   \n",
       "396             837070.0  {'HHI': 2133.258649067451, 'CR_k': 0.702515918...   \n",
       "397             837070.0  {'HHI': 2133.258649067451, 'CR_k': 0.702515918...   \n",
       "398             837070.0  {'HHI': 2133.258649067451, 'CR_k': 0.702515918...   \n",
       "399             837070.0  {'HHI': 2133.258649067451, 'CR_k': 0.702515918...   \n",
       "400             839743.0  {'HHI': 2133.407721426242, 'CR_k': 0.702928157...   \n",
       "\n",
       "     simulation  subset  run  substep  \n",
       "0             0       0    1        0  \n",
       "1             0       0    1        1  \n",
       "2             0       0    1        2  \n",
       "3             0       0    1        3  \n",
       "4             0       0    1        4  \n",
       "..          ...     ...  ...      ...  \n",
       "396           0       0    1        4  \n",
       "397           0       0    1        1  \n",
       "398           0       0    1        2  \n",
       "399           0       0    1        3  \n",
       "400           0       0    1        4  \n",
       "\n",
       "[401 rows x 15 columns]"
      ]
     },
     "execution_count": 15,
     "metadata": {},
     "output_type": "execute_result"
    }
   ],
   "source": [
    "df"
   ]
  },
  {
   "cell_type": "code",
   "execution_count": 16,
   "metadata": {},
   "outputs": [
    {
     "data": {
      "application/vnd.plotly.v1+json": {
       "config": {
        "plotlyServerURL": "https://plot.ly"
       },
       "data": [
        {
         "line": {
          "color": "#FC1CBF",
          "dash": "dot"
         },
         "name": "normal",
         "type": "scatter",
         "x": [
          0,
          1,
          1,
          1,
          1,
          2,
          2,
          2,
          2,
          3,
          3,
          3,
          3,
          4,
          4,
          4,
          4,
          5,
          5,
          5,
          5,
          6,
          6,
          6,
          6,
          7,
          7,
          7,
          7,
          8,
          8,
          8,
          8,
          9,
          9,
          9,
          9,
          10,
          10,
          10,
          10,
          11,
          11,
          11,
          11,
          12,
          12,
          12,
          12,
          13,
          13,
          13,
          13,
          14,
          14,
          14,
          14,
          15,
          15,
          15,
          15,
          16,
          16,
          16,
          16,
          17,
          17,
          17,
          17,
          18,
          18,
          18,
          18,
          19,
          19,
          19,
          19,
          20,
          20,
          20,
          20,
          21,
          21,
          21,
          21,
          22,
          22,
          22,
          22,
          23,
          23,
          23,
          23,
          24,
          24,
          24,
          24,
          25,
          25,
          25,
          25,
          26,
          26,
          26,
          26,
          27,
          27,
          27,
          27,
          28,
          28,
          28,
          28,
          29,
          29,
          29,
          29,
          30,
          30,
          30,
          30,
          31,
          31,
          31,
          31,
          32,
          32,
          32,
          32,
          33,
          33,
          33,
          33,
          34,
          34,
          34,
          34,
          35,
          35,
          35,
          35,
          36,
          36,
          36,
          36,
          37,
          37,
          37,
          37,
          38,
          38,
          38,
          38,
          39,
          39,
          39,
          39,
          40,
          40,
          40,
          40,
          41,
          41,
          41,
          41,
          42,
          42,
          42,
          42,
          43,
          43,
          43,
          43,
          44,
          44,
          44,
          44,
          45,
          45,
          45,
          45,
          46,
          46,
          46,
          46,
          47,
          47,
          47,
          47,
          48,
          48,
          48,
          48,
          49,
          49,
          49,
          49,
          50,
          50,
          50,
          50,
          51,
          51,
          51,
          51,
          52,
          52,
          52,
          52,
          53,
          53,
          53,
          53,
          54,
          54,
          54,
          54,
          55,
          55,
          55,
          55,
          56,
          56,
          56,
          56,
          57,
          57,
          57,
          57,
          58,
          58,
          58,
          58,
          59,
          59,
          59,
          59,
          60,
          60,
          60,
          60,
          61,
          61,
          61,
          61,
          62,
          62,
          62,
          62,
          63,
          63,
          63,
          63,
          64,
          64,
          64,
          64,
          65,
          65,
          65,
          65,
          66,
          66,
          66,
          66,
          67,
          67,
          67,
          67,
          68,
          68,
          68,
          68,
          69,
          69,
          69,
          69,
          70,
          70,
          70,
          70,
          71,
          71,
          71,
          71,
          72,
          72,
          72,
          72,
          73,
          73,
          73,
          73,
          74,
          74,
          74,
          74,
          75,
          75,
          75,
          75,
          76,
          76,
          76,
          76,
          77,
          77,
          77,
          77,
          78,
          78,
          78,
          78,
          79,
          79,
          79,
          79,
          80,
          80,
          80,
          80,
          81,
          81,
          81,
          81,
          82,
          82,
          82,
          82,
          83,
          83,
          83,
          83,
          84,
          84,
          84,
          84,
          85,
          85,
          85,
          85,
          86,
          86,
          86,
          86,
          87,
          87,
          87,
          87,
          88,
          88,
          88,
          88,
          89,
          89,
          89,
          89,
          90,
          90,
          90,
          90,
          91,
          91,
          91,
          91,
          92,
          92,
          92,
          92,
          93,
          93,
          93,
          93,
          94,
          94,
          94,
          94,
          95,
          95,
          95,
          95,
          96,
          96,
          96,
          96,
          97,
          97,
          97,
          97,
          98,
          98,
          98,
          98,
          99,
          99,
          99,
          99,
          100,
          100,
          100,
          100
         ],
         "y": [
          2729.7384418861034,
          2729.7384418861034,
          2729.7384418861034,
          2729.7384418861034,
          2729.7384418861034,
          2731.9419619063847,
          2731.9419619063847,
          2731.9419619063847,
          2731.9419619063847,
          2743.4718330235028,
          2743.4718330235028,
          2743.4718330235028,
          2743.4718330235028,
          2745.4042830282706,
          2745.4042830282706,
          2745.4042830282706,
          2745.4042830282706,
          2715.38774839838,
          2715.38774839838,
          2715.38774839838,
          2715.38774839838,
          2728.5938961838974,
          2728.5938961838974,
          2728.5938961838974,
          2728.5938961838974,
          2732.832618419363,
          2732.832618419363,
          2732.832618419363,
          2732.832618419363,
          2717.8449615255277,
          2717.8449615255277,
          2717.8449615255277,
          2717.8449615255277,
          2724.745256868904,
          2724.745256868904,
          2724.745256868904,
          2724.745256868904,
          2727.4214316374027,
          2727.4214316374027,
          2727.4214316374027,
          2727.4214316374027,
          2728.7320777516406,
          2728.7320777516406,
          2728.7320777516406,
          2728.7320777516406,
          2724.856688229312,
          2724.856688229312,
          2724.856688229312,
          2724.856688229312,
          2731.1344131664623,
          2731.1344131664623,
          2731.1344131664623,
          2731.1344131664623,
          2712.319338522759,
          2712.319338522759,
          2712.319338522759,
          2712.319338522759,
          2704.738423004007,
          2704.738423004007,
          2704.738423004007,
          2704.738423004007,
          2690.924750138366,
          2690.924750138366,
          2690.924750138366,
          2690.924750138366,
          2698.2730461838537,
          2698.2730461838537,
          2698.2730461838537,
          2698.2730461838537,
          2694.694600804275,
          2694.694600804275,
          2694.694600804275,
          2694.694600804275,
          2684.6296471115584,
          2684.6296471115584,
          2684.6296471115584,
          2684.6296471115584,
          2665.0011075313155,
          2665.0011075313155,
          2665.0011075313155,
          2665.0011075313155,
          2655.651398254653,
          2655.651398254653,
          2655.651398254653,
          2655.651398254653,
          2651.5056579378133,
          2651.5056579378133,
          2651.5056579378133,
          2651.5056579378133,
          2641.8210266035676,
          2641.8210266035676,
          2641.8210266035676,
          2641.8210266035676,
          2662.8599093400508,
          2662.8599093400508,
          2662.8599093400508,
          2662.8599093400508,
          2678.2895755816307,
          2678.2895755816307,
          2678.2895755816307,
          2678.2895755816307,
          2620.9906213611966,
          2620.9906213611966,
          2620.9906213611966,
          2620.9906213611966,
          2650.8938773642794,
          2650.8938773642794,
          2650.8938773642794,
          2650.8938773642794,
          2650.0841473118344,
          2650.0841473118344,
          2650.0841473118344,
          2650.0841473118344,
          2654.12785379438,
          2654.12785379438,
          2654.12785379438,
          2654.12785379438,
          2645.7439846365114,
          2645.7439846365114,
          2645.7439846365114,
          2645.7439846365114,
          2637.300779644672,
          2637.300779644672,
          2637.300779644672,
          2637.300779644672,
          2596.9585489831697,
          2596.9585489831697,
          2596.9585489831697,
          2596.9585489831697,
          2609.277153473976,
          2609.277153473976,
          2609.277153473976,
          2609.277153473976,
          2612.5117533241673,
          2612.5117533241673,
          2612.5117533241673,
          2612.5117533241673,
          2595.3209948776525,
          2595.3209948776525,
          2595.3209948776525,
          2595.3209948776525,
          2603.845842013521,
          2603.845842013521,
          2603.845842013521,
          2603.845842013521,
          2612.7034267681756,
          2612.7034267681756,
          2612.7034267681756,
          2612.7034267681756,
          2598.54402927058,
          2598.54402927058,
          2598.54402927058,
          2598.54402927058,
          2568.643242576417,
          2568.643242576417,
          2568.643242576417,
          2568.643242576417,
          2561.4079920651457,
          2561.4079920651457,
          2561.4079920651457,
          2561.4079920651457,
          2559.4760552652606,
          2559.4760552652606,
          2559.4760552652606,
          2559.4760552652606,
          2575.0528205663663,
          2575.0528205663663,
          2575.0528205663663,
          2575.0528205663663,
          2584.380764267207,
          2584.380764267207,
          2584.380764267207,
          2584.380764267207,
          2581.763423293728,
          2581.763423293728,
          2581.763423293728,
          2581.763423293728,
          2596.233446344326,
          2596.233446344326,
          2596.233446344326,
          2596.233446344326,
          2594.154515003348,
          2594.154515003348,
          2594.154515003348,
          2594.154515003348,
          2588.297407468613,
          2588.297407468613,
          2588.297407468613,
          2588.297407468613,
          2583.6248369663417,
          2583.6248369663417,
          2583.6248369663417,
          2583.6248369663417,
          2589.5668686448853,
          2589.5668686448853,
          2589.5668686448853,
          2589.5668686448853,
          2573.999027048244,
          2573.999027048244,
          2573.999027048244,
          2573.999027048244,
          2552.624763628155,
          2552.624763628155,
          2552.624763628155,
          2552.624763628155,
          2542.421551933465,
          2542.421551933465,
          2542.421551933465,
          2542.421551933465,
          2554.5173027643177,
          2554.5173027643177,
          2554.5173027643177,
          2554.5173027643177,
          2536.301908468368,
          2536.301908468368,
          2536.301908468368,
          2536.301908468368,
          2542.224876561596,
          2542.224876561596,
          2542.224876561596,
          2542.224876561596,
          2521.1487362195194,
          2521.1487362195194,
          2521.1487362195194,
          2521.1487362195194,
          2538.2559618131963,
          2538.2559618131963,
          2538.2559618131963,
          2538.2559618131963,
          2516.514327060773,
          2516.514327060773,
          2516.514327060773,
          2516.514327060773,
          2513.069631186184,
          2513.069631186184,
          2513.069631186184,
          2513.069631186184,
          2533.6770763985587,
          2533.6770763985587,
          2533.6770763985587,
          2533.6770763985587,
          2536.0066327133463,
          2536.0066327133463,
          2536.0066327133463,
          2536.0066327133463,
          2531.148798035905,
          2531.148798035905,
          2531.148798035905,
          2531.148798035905,
          2522.024907628046,
          2522.024907628046,
          2522.024907628046,
          2522.024907628046,
          2537.467606691428,
          2537.467606691428,
          2537.467606691428,
          2537.467606691428,
          2555.3722192861746,
          2555.3722192861746,
          2555.3722192861746,
          2555.3722192861746,
          2547.718565868002,
          2547.718565868002,
          2547.718565868002,
          2547.718565868002,
          2553.1145283161186,
          2553.1145283161186,
          2553.1145283161186,
          2553.1145283161186,
          2544.783357778009,
          2544.783357778009,
          2544.783357778009,
          2544.783357778009,
          2526.2123844047583,
          2526.2123844047583,
          2526.2123844047583,
          2526.2123844047583,
          2554.7731024137975,
          2554.7731024137975,
          2554.7731024137975,
          2554.7731024137975,
          2546.110421464375,
          2546.110421464375,
          2546.110421464375,
          2546.110421464375,
          2518.47705836608,
          2518.47705836608,
          2518.47705836608,
          2518.47705836608,
          2520.638000267966,
          2520.638000267966,
          2520.638000267966,
          2520.638000267966,
          2532.8541717203934,
          2532.8541717203934,
          2532.8541717203934,
          2532.8541717203934,
          2514.5014087116288,
          2514.5014087116288,
          2514.5014087116288,
          2514.5014087116288,
          2505.9203668799887,
          2505.9203668799887,
          2505.9203668799887,
          2505.9203668799887,
          2484.782557430164,
          2484.782557430164,
          2484.782557430164,
          2484.782557430164,
          2487.939758864256,
          2487.939758864256,
          2487.939758864256,
          2487.939758864256,
          2513.347479965858,
          2513.347479965858,
          2513.347479965858,
          2513.347479965858,
          2511.928132088955,
          2511.928132088955,
          2511.928132088955,
          2511.928132088955,
          2517.091767754315,
          2517.091767754315,
          2517.091767754315,
          2517.091767754315,
          2498.37594273021,
          2498.37594273021,
          2498.37594273021,
          2498.37594273021,
          2491.0536714231357,
          2491.0536714231357,
          2491.0536714231357,
          2491.0536714231357,
          2519.44043214881,
          2519.44043214881,
          2519.44043214881,
          2519.44043214881,
          2539.315541843862,
          2539.315541843862,
          2539.315541843862,
          2539.315541843862,
          2518.5281445086744,
          2518.5281445086744,
          2518.5281445086744,
          2518.5281445086744,
          2501.7451647839234,
          2501.7451647839234,
          2501.7451647839234,
          2501.7451647839234,
          2510.801079478627,
          2510.801079478627,
          2510.801079478627,
          2510.801079478627,
          2507.363656701261,
          2507.363656701261,
          2507.363656701261,
          2507.363656701261,
          2495.2006138005754,
          2495.2006138005754,
          2495.2006138005754,
          2495.2006138005754,
          2482.6035249836077,
          2482.6035249836077,
          2482.6035249836077,
          2482.6035249836077,
          2462.0396430272112,
          2462.0396430272112,
          2462.0396430272112,
          2462.0396430272112,
          2453.6140764375577,
          2453.6140764375577,
          2453.6140764375577,
          2453.6140764375577,
          2452.0746873070593,
          2452.0746873070593,
          2452.0746873070593,
          2452.0746873070593,
          2453.7570230867523,
          2453.7570230867523,
          2453.7570230867523,
          2453.7570230867523,
          2429.7317459662354,
          2429.7317459662354,
          2429.7317459662354,
          2429.7317459662354,
          2470.413403108661,
          2470.413403108661,
          2470.413403108661,
          2470.413403108661,
          2469.7820716962788,
          2469.7820716962788,
          2469.7820716962788,
          2469.7820716962788,
          2465.8049077799224,
          2465.8049077799224,
          2465.8049077799224,
          2465.8049077799224,
          2490.3733038059254,
          2490.3733038059254,
          2490.3733038059254,
          2490.3733038059254
         ]
        }
       ],
       "layout": {
        "font": {
         "color": "black",
         "family": "Arial",
         "size": 18
        },
        "hovermode": "x unified",
        "legend": {
         "font": {
          "color": "black",
          "size": 18
         },
         "orientation": "h",
         "x": 0.5,
         "xanchor": "center",
         "y": -0.4,
         "yanchor": "bottom"
        },
        "paper_bgcolor": "rgba(255, 255, 255, 1)",
        "plot_bgcolor": "rgba(255, 255, 255, 1)",
        "template": {
         "data": {
          "bar": [
           {
            "error_x": {
             "color": "#2a3f5f"
            },
            "error_y": {
             "color": "#2a3f5f"
            },
            "marker": {
             "line": {
              "color": "white",
              "width": 0.5
             }
            },
            "type": "bar"
           }
          ],
          "barpolar": [
           {
            "marker": {
             "line": {
              "color": "white",
              "width": 0.5
             }
            },
            "type": "barpolar"
           }
          ],
          "carpet": [
           {
            "aaxis": {
             "endlinecolor": "#2a3f5f",
             "gridcolor": "#C8D4E3",
             "linecolor": "#C8D4E3",
             "minorgridcolor": "#C8D4E3",
             "startlinecolor": "#2a3f5f"
            },
            "baxis": {
             "endlinecolor": "#2a3f5f",
             "gridcolor": "#C8D4E3",
             "linecolor": "#C8D4E3",
             "minorgridcolor": "#C8D4E3",
             "startlinecolor": "#2a3f5f"
            },
            "type": "carpet"
           }
          ],
          "choropleth": [
           {
            "colorbar": {
             "outlinewidth": 0,
             "ticks": ""
            },
            "type": "choropleth"
           }
          ],
          "contour": [
           {
            "colorbar": {
             "outlinewidth": 0,
             "ticks": ""
            },
            "colorscale": [
             [
              0,
              "#0d0887"
             ],
             [
              0.1111111111111111,
              "#46039f"
             ],
             [
              0.2222222222222222,
              "#7201a8"
             ],
             [
              0.3333333333333333,
              "#9c179e"
             ],
             [
              0.4444444444444444,
              "#bd3786"
             ],
             [
              0.5555555555555556,
              "#d8576b"
             ],
             [
              0.6666666666666666,
              "#ed7953"
             ],
             [
              0.7777777777777778,
              "#fb9f3a"
             ],
             [
              0.8888888888888888,
              "#fdca26"
             ],
             [
              1,
              "#f0f921"
             ]
            ],
            "type": "contour"
           }
          ],
          "contourcarpet": [
           {
            "colorbar": {
             "outlinewidth": 0,
             "ticks": ""
            },
            "type": "contourcarpet"
           }
          ],
          "heatmap": [
           {
            "colorbar": {
             "outlinewidth": 0,
             "ticks": ""
            },
            "colorscale": [
             [
              0,
              "#0d0887"
             ],
             [
              0.1111111111111111,
              "#46039f"
             ],
             [
              0.2222222222222222,
              "#7201a8"
             ],
             [
              0.3333333333333333,
              "#9c179e"
             ],
             [
              0.4444444444444444,
              "#bd3786"
             ],
             [
              0.5555555555555556,
              "#d8576b"
             ],
             [
              0.6666666666666666,
              "#ed7953"
             ],
             [
              0.7777777777777778,
              "#fb9f3a"
             ],
             [
              0.8888888888888888,
              "#fdca26"
             ],
             [
              1,
              "#f0f921"
             ]
            ],
            "type": "heatmap"
           }
          ],
          "heatmapgl": [
           {
            "colorbar": {
             "outlinewidth": 0,
             "ticks": ""
            },
            "colorscale": [
             [
              0,
              "#0d0887"
             ],
             [
              0.1111111111111111,
              "#46039f"
             ],
             [
              0.2222222222222222,
              "#7201a8"
             ],
             [
              0.3333333333333333,
              "#9c179e"
             ],
             [
              0.4444444444444444,
              "#bd3786"
             ],
             [
              0.5555555555555556,
              "#d8576b"
             ],
             [
              0.6666666666666666,
              "#ed7953"
             ],
             [
              0.7777777777777778,
              "#fb9f3a"
             ],
             [
              0.8888888888888888,
              "#fdca26"
             ],
             [
              1,
              "#f0f921"
             ]
            ],
            "type": "heatmapgl"
           }
          ],
          "histogram": [
           {
            "marker": {
             "colorbar": {
              "outlinewidth": 0,
              "ticks": ""
             }
            },
            "type": "histogram"
           }
          ],
          "histogram2d": [
           {
            "colorbar": {
             "outlinewidth": 0,
             "ticks": ""
            },
            "colorscale": [
             [
              0,
              "#0d0887"
             ],
             [
              0.1111111111111111,
              "#46039f"
             ],
             [
              0.2222222222222222,
              "#7201a8"
             ],
             [
              0.3333333333333333,
              "#9c179e"
             ],
             [
              0.4444444444444444,
              "#bd3786"
             ],
             [
              0.5555555555555556,
              "#d8576b"
             ],
             [
              0.6666666666666666,
              "#ed7953"
             ],
             [
              0.7777777777777778,
              "#fb9f3a"
             ],
             [
              0.8888888888888888,
              "#fdca26"
             ],
             [
              1,
              "#f0f921"
             ]
            ],
            "type": "histogram2d"
           }
          ],
          "histogram2dcontour": [
           {
            "colorbar": {
             "outlinewidth": 0,
             "ticks": ""
            },
            "colorscale": [
             [
              0,
              "#0d0887"
             ],
             [
              0.1111111111111111,
              "#46039f"
             ],
             [
              0.2222222222222222,
              "#7201a8"
             ],
             [
              0.3333333333333333,
              "#9c179e"
             ],
             [
              0.4444444444444444,
              "#bd3786"
             ],
             [
              0.5555555555555556,
              "#d8576b"
             ],
             [
              0.6666666666666666,
              "#ed7953"
             ],
             [
              0.7777777777777778,
              "#fb9f3a"
             ],
             [
              0.8888888888888888,
              "#fdca26"
             ],
             [
              1,
              "#f0f921"
             ]
            ],
            "type": "histogram2dcontour"
           }
          ],
          "mesh3d": [
           {
            "colorbar": {
             "outlinewidth": 0,
             "ticks": ""
            },
            "type": "mesh3d"
           }
          ],
          "parcoords": [
           {
            "line": {
             "colorbar": {
              "outlinewidth": 0,
              "ticks": ""
             }
            },
            "type": "parcoords"
           }
          ],
          "pie": [
           {
            "automargin": true,
            "type": "pie"
           }
          ],
          "scatter": [
           {
            "marker": {
             "colorbar": {
              "outlinewidth": 0,
              "ticks": ""
             }
            },
            "type": "scatter"
           }
          ],
          "scatter3d": [
           {
            "line": {
             "colorbar": {
              "outlinewidth": 0,
              "ticks": ""
             }
            },
            "marker": {
             "colorbar": {
              "outlinewidth": 0,
              "ticks": ""
             }
            },
            "type": "scatter3d"
           }
          ],
          "scattercarpet": [
           {
            "marker": {
             "colorbar": {
              "outlinewidth": 0,
              "ticks": ""
             }
            },
            "type": "scattercarpet"
           }
          ],
          "scattergeo": [
           {
            "marker": {
             "colorbar": {
              "outlinewidth": 0,
              "ticks": ""
             }
            },
            "type": "scattergeo"
           }
          ],
          "scattergl": [
           {
            "marker": {
             "colorbar": {
              "outlinewidth": 0,
              "ticks": ""
             }
            },
            "type": "scattergl"
           }
          ],
          "scattermapbox": [
           {
            "marker": {
             "colorbar": {
              "outlinewidth": 0,
              "ticks": ""
             }
            },
            "type": "scattermapbox"
           }
          ],
          "scatterpolar": [
           {
            "marker": {
             "colorbar": {
              "outlinewidth": 0,
              "ticks": ""
             }
            },
            "type": "scatterpolar"
           }
          ],
          "scatterpolargl": [
           {
            "marker": {
             "colorbar": {
              "outlinewidth": 0,
              "ticks": ""
             }
            },
            "type": "scatterpolargl"
           }
          ],
          "scatterternary": [
           {
            "marker": {
             "colorbar": {
              "outlinewidth": 0,
              "ticks": ""
             }
            },
            "type": "scatterternary"
           }
          ],
          "surface": [
           {
            "colorbar": {
             "outlinewidth": 0,
             "ticks": ""
            },
            "colorscale": [
             [
              0,
              "#0d0887"
             ],
             [
              0.1111111111111111,
              "#46039f"
             ],
             [
              0.2222222222222222,
              "#7201a8"
             ],
             [
              0.3333333333333333,
              "#9c179e"
             ],
             [
              0.4444444444444444,
              "#bd3786"
             ],
             [
              0.5555555555555556,
              "#d8576b"
             ],
             [
              0.6666666666666666,
              "#ed7953"
             ],
             [
              0.7777777777777778,
              "#fb9f3a"
             ],
             [
              0.8888888888888888,
              "#fdca26"
             ],
             [
              1,
              "#f0f921"
             ]
            ],
            "type": "surface"
           }
          ],
          "table": [
           {
            "cells": {
             "fill": {
              "color": "#EBF0F8"
             },
             "line": {
              "color": "white"
             }
            },
            "header": {
             "fill": {
              "color": "#C8D4E3"
             },
             "line": {
              "color": "white"
             }
            },
            "type": "table"
           }
          ]
         },
         "layout": {
          "annotationdefaults": {
           "arrowcolor": "#2a3f5f",
           "arrowhead": 0,
           "arrowwidth": 1
          },
          "autotypenumbers": "strict",
          "coloraxis": {
           "colorbar": {
            "outlinewidth": 0,
            "ticks": ""
           }
          },
          "colorscale": {
           "diverging": [
            [
             0,
             "#8e0152"
            ],
            [
             0.1,
             "#c51b7d"
            ],
            [
             0.2,
             "#de77ae"
            ],
            [
             0.3,
             "#f1b6da"
            ],
            [
             0.4,
             "#fde0ef"
            ],
            [
             0.5,
             "#f7f7f7"
            ],
            [
             0.6,
             "#e6f5d0"
            ],
            [
             0.7,
             "#b8e186"
            ],
            [
             0.8,
             "#7fbc41"
            ],
            [
             0.9,
             "#4d9221"
            ],
            [
             1,
             "#276419"
            ]
           ],
           "sequential": [
            [
             0,
             "#0d0887"
            ],
            [
             0.1111111111111111,
             "#46039f"
            ],
            [
             0.2222222222222222,
             "#7201a8"
            ],
            [
             0.3333333333333333,
             "#9c179e"
            ],
            [
             0.4444444444444444,
             "#bd3786"
            ],
            [
             0.5555555555555556,
             "#d8576b"
            ],
            [
             0.6666666666666666,
             "#ed7953"
            ],
            [
             0.7777777777777778,
             "#fb9f3a"
            ],
            [
             0.8888888888888888,
             "#fdca26"
            ],
            [
             1,
             "#f0f921"
            ]
           ],
           "sequentialminus": [
            [
             0,
             "#0d0887"
            ],
            [
             0.1111111111111111,
             "#46039f"
            ],
            [
             0.2222222222222222,
             "#7201a8"
            ],
            [
             0.3333333333333333,
             "#9c179e"
            ],
            [
             0.4444444444444444,
             "#bd3786"
            ],
            [
             0.5555555555555556,
             "#d8576b"
            ],
            [
             0.6666666666666666,
             "#ed7953"
            ],
            [
             0.7777777777777778,
             "#fb9f3a"
            ],
            [
             0.8888888888888888,
             "#fdca26"
            ],
            [
             1,
             "#f0f921"
            ]
           ]
          },
          "colorway": [
           "#636efa",
           "#EF553B",
           "#00cc96",
           "#ab63fa",
           "#FFA15A",
           "#19d3f3",
           "#FF6692",
           "#B6E880",
           "#FF97FF",
           "#FECB52"
          ],
          "font": {
           "color": "#2a3f5f"
          },
          "geo": {
           "bgcolor": "white",
           "lakecolor": "white",
           "landcolor": "white",
           "showlakes": true,
           "showland": true,
           "subunitcolor": "#C8D4E3"
          },
          "hoverlabel": {
           "align": "left"
          },
          "hovermode": "closest",
          "mapbox": {
           "style": "light"
          },
          "paper_bgcolor": "white",
          "plot_bgcolor": "white",
          "polar": {
           "angularaxis": {
            "gridcolor": "#EBF0F8",
            "linecolor": "#EBF0F8",
            "ticks": ""
           },
           "bgcolor": "white",
           "radialaxis": {
            "gridcolor": "#EBF0F8",
            "linecolor": "#EBF0F8",
            "ticks": ""
           }
          },
          "scene": {
           "xaxis": {
            "backgroundcolor": "white",
            "gridcolor": "#DFE8F3",
            "gridwidth": 2,
            "linecolor": "#EBF0F8",
            "showbackground": true,
            "ticks": "",
            "zerolinecolor": "#EBF0F8"
           },
           "yaxis": {
            "backgroundcolor": "white",
            "gridcolor": "#DFE8F3",
            "gridwidth": 2,
            "linecolor": "#EBF0F8",
            "showbackground": true,
            "ticks": "",
            "zerolinecolor": "#EBF0F8"
           },
           "zaxis": {
            "backgroundcolor": "white",
            "gridcolor": "#DFE8F3",
            "gridwidth": 2,
            "linecolor": "#EBF0F8",
            "showbackground": true,
            "ticks": "",
            "zerolinecolor": "#EBF0F8"
           }
          },
          "shapedefaults": {
           "line": {
            "color": "#2a3f5f"
           }
          },
          "ternary": {
           "aaxis": {
            "gridcolor": "#DFE8F3",
            "linecolor": "#A2B1C6",
            "ticks": ""
           },
           "baxis": {
            "gridcolor": "#DFE8F3",
            "linecolor": "#A2B1C6",
            "ticks": ""
           },
           "bgcolor": "white",
           "caxis": {
            "gridcolor": "#DFE8F3",
            "linecolor": "#A2B1C6",
            "ticks": ""
           }
          },
          "title": {
           "x": 0.05
          },
          "xaxis": {
           "automargin": true,
           "gridcolor": "#EBF0F8",
           "linecolor": "#EBF0F8",
           "ticks": "",
           "title": {
            "standoff": 15
           },
           "zerolinecolor": "#EBF0F8",
           "zerolinewidth": 2
          },
          "yaxis": {
           "automargin": true,
           "gridcolor": "#EBF0F8",
           "linecolor": "#EBF0F8",
           "ticks": "",
           "title": {
            "standoff": 15
           },
           "zerolinecolor": "#EBF0F8",
           "zerolinewidth": 2
          }
         }
        },
        "title": {
         "text": "ETH Token Price",
         "x": 0.5,
         "xanchor": "center",
         "y": 0.9,
         "yanchor": "top"
        },
        "xaxis": {
         "title": {
          "text": "Date"
         }
        },
        "yaxis": {
         "title": {
          "text": "USD"
         }
        }
       }
      }
     },
     "metadata": {},
     "output_type": "display_data"
    }
   ],
   "source": [
    "visualizations.plot_token_price_per_subset(\n",
    "    df,\n",
    "    scenario_names={\n",
    "    0: \"normal\",\n",
    "}\n",
    ")"
   ]
  },
  {
   "cell_type": "code",
   "execution_count": 17,
   "metadata": {},
   "outputs": [
    {
     "data": {
      "application/vnd.plotly.v1+json": {
       "config": {
        "plotlyServerURL": "https://plot.ly"
       },
       "data": [
        {
         "line": {
          "color": "#FC1CBF",
          "dash": "dot"
         },
         "name": "normal",
         "type": "scatter",
         "x": [
          1,
          1,
          1,
          1,
          2,
          2,
          2,
          2,
          3,
          3,
          3,
          3,
          4,
          4,
          4,
          4,
          5,
          5,
          5,
          5,
          6,
          6,
          6,
          6,
          7,
          7,
          7,
          7,
          8,
          8,
          8,
          8,
          9,
          9,
          9,
          9,
          10,
          10,
          10,
          10,
          11,
          11,
          11,
          11,
          12,
          12,
          12,
          12,
          13,
          13,
          13,
          13,
          14,
          14,
          14,
          14,
          15,
          15,
          15,
          15,
          16,
          16,
          16,
          16,
          17,
          17,
          17,
          17,
          18,
          18,
          18,
          18,
          19,
          19,
          19,
          19,
          20,
          20,
          20,
          20,
          21,
          21,
          21,
          21,
          22,
          22,
          22,
          22,
          23,
          23,
          23,
          23,
          24,
          24,
          24,
          24,
          25,
          25,
          25,
          25,
          26,
          26,
          26,
          26,
          27,
          27,
          27,
          27,
          28,
          28,
          28,
          28,
          29,
          29,
          29,
          29,
          30,
          30,
          30,
          30,
          31,
          31,
          31,
          31,
          32,
          32,
          32,
          32,
          33,
          33,
          33,
          33,
          34,
          34,
          34,
          34,
          35,
          35,
          35,
          35,
          36,
          36,
          36,
          36,
          37,
          37,
          37,
          37,
          38,
          38,
          38,
          38,
          39,
          39,
          39,
          39,
          40,
          40,
          40,
          40,
          41,
          41,
          41,
          41,
          42,
          42,
          42,
          42,
          43,
          43,
          43,
          43,
          44,
          44,
          44,
          44,
          45,
          45,
          45,
          45,
          46,
          46,
          46,
          46,
          47,
          47,
          47,
          47,
          48,
          48,
          48,
          48,
          49,
          49,
          49,
          49,
          50,
          50,
          50,
          50,
          51,
          51,
          51,
          51,
          52,
          52,
          52,
          52,
          53,
          53,
          53,
          53,
          54,
          54,
          54,
          54,
          55,
          55,
          55,
          55,
          56,
          56,
          56,
          56,
          57,
          57,
          57,
          57,
          58,
          58,
          58,
          58,
          59,
          59,
          59,
          59,
          60,
          60,
          60,
          60,
          61,
          61,
          61,
          61,
          62,
          62,
          62,
          62,
          63,
          63,
          63,
          63,
          64,
          64,
          64,
          64,
          65,
          65,
          65,
          65,
          66,
          66,
          66,
          66,
          67,
          67,
          67,
          67,
          68,
          68,
          68,
          68,
          69,
          69,
          69,
          69,
          70,
          70,
          70,
          70,
          71,
          71,
          71,
          71,
          72,
          72,
          72,
          72,
          73,
          73,
          73,
          73,
          74,
          74,
          74,
          74,
          75,
          75,
          75,
          75,
          76,
          76,
          76,
          76,
          77,
          77,
          77,
          77,
          78,
          78,
          78,
          78,
          79,
          79,
          79,
          79,
          80,
          80,
          80,
          80,
          81,
          81,
          81,
          81,
          82,
          82,
          82,
          82,
          83,
          83,
          83,
          83,
          84,
          84,
          84,
          84,
          85,
          85,
          85,
          85,
          86,
          86,
          86,
          86,
          87,
          87,
          87,
          87,
          88,
          88,
          88,
          88,
          89,
          89,
          89,
          89,
          90,
          90,
          90,
          90,
          91,
          91,
          91,
          91,
          92,
          92,
          92,
          92,
          93,
          93,
          93,
          93,
          94,
          94,
          94,
          94,
          95,
          95,
          95,
          95,
          96,
          96,
          96,
          96,
          97,
          97,
          97,
          97,
          98,
          98,
          98,
          98,
          99,
          99,
          99,
          99,
          100,
          100,
          100,
          100
         ],
         "y": [
          0,
          0,
          0,
          18472512,
          18472512,
          18472512,
          18472512,
          18542208,
          18542208,
          18542208,
          18542208,
          18632256,
          18632256,
          18632256,
          18632256,
          18716928,
          18716928,
          18716928,
          18716928,
          18807136,
          18807136,
          18807136,
          18807136,
          18889920,
          18889920,
          18889920,
          18889920,
          18970304,
          18970304,
          18970304,
          18970304,
          19049376,
          19049376,
          19049376,
          19049376,
          19139456,
          19139456,
          19139456,
          19139456,
          19229056,
          19229056,
          19229056,
          19229056,
          19313728,
          19313728,
          19313728,
          19313728,
          19403648,
          19403648,
          19403648,
          19403648,
          19485984,
          19485984,
          19485984,
          19485984,
          19571840,
          19571840,
          19571840,
          19571840,
          19655776,
          19655776,
          19655776,
          19655776,
          19738240,
          19738240,
          19738240,
          19738240,
          19822752,
          19822752,
          19822752,
          19822752,
          19906336,
          19906336,
          19906336,
          19906336,
          19997728,
          19997728,
          19997728,
          19997728,
          20081216,
          20081216,
          20081216,
          20081216,
          20168352,
          20168352,
          20168352,
          20168352,
          20249984,
          20249984,
          20249984,
          20249984,
          20342496,
          20342496,
          20342496,
          20342496,
          20426176,
          20426176,
          20426176,
          20426176,
          20510144,
          20510144,
          20510144,
          20510144,
          20592032,
          20592032,
          20592032,
          20592032,
          20680992,
          20680992,
          20680992,
          20680992,
          20771264,
          20771264,
          20771264,
          20771264,
          20852288,
          20852288,
          20852288,
          20852288,
          20935040,
          20935040,
          20935040,
          20935040,
          21017344,
          21017344,
          21017344,
          21017344,
          21100928,
          21100928,
          21100928,
          21100928,
          21184000,
          21184000,
          21184000,
          21184000,
          21267712,
          21267712,
          21267712,
          21267712,
          21359808,
          21359808,
          21359808,
          21359808,
          21450080,
          21450080,
          21450080,
          21450080,
          21539136,
          21539136,
          21539136,
          21539136,
          21629024,
          21629024,
          21629024,
          21629024,
          21710656,
          21710656,
          21710656,
          21710656,
          21790688,
          21790688,
          21790688,
          21790688,
          21882944,
          21882944,
          21882944,
          21882944,
          21964608,
          21964608,
          21964608,
          21964608,
          22047808,
          22047808,
          22047808,
          22047808,
          22128768,
          22128768,
          22128768,
          22128768,
          22210080,
          22210080,
          22210080,
          22210080,
          22293728,
          22293728,
          22293728,
          22293728,
          22384032,
          22384032,
          22384032,
          22384032,
          22466912,
          22466912,
          22466912,
          22466912,
          22556032,
          22556032,
          22556032,
          22556032,
          22624416,
          22624416,
          22624416,
          22624416,
          22708000,
          22708000,
          22708000,
          22708000,
          22800512,
          22800512,
          22800512,
          22800512,
          22892480,
          22892480,
          22892480,
          22892480,
          22958496,
          22958496,
          22958496,
          22958496,
          23051776,
          23051776,
          23051776,
          23051776,
          23143360,
          23143360,
          23143360,
          23143360,
          23223296,
          23223296,
          23223296,
          23223296,
          23314272,
          23314272,
          23314272,
          23314272,
          23398048,
          23398048,
          23398048,
          23398048,
          23488960,
          23488960,
          23488960,
          23488960,
          23566048,
          23566048,
          23566048,
          23566048,
          23657312,
          23657312,
          23657312,
          23657312,
          23748704,
          23748704,
          23748704,
          23748704,
          23828736,
          23828736,
          23828736,
          23828736,
          23908800,
          23908800,
          23908800,
          23908800,
          23998400,
          23998400,
          23998400,
          23998400,
          24090016,
          24090016,
          24090016,
          24090016,
          24180000,
          24180000,
          24180000,
          24180000,
          24268672,
          24268672,
          24268672,
          24268672,
          24350272,
          24350272,
          24350272,
          24350272,
          24441376,
          24441376,
          24441376,
          24441376,
          24522944,
          24522944,
          24522944,
          24522944,
          24608192,
          24608192,
          24608192,
          24608192,
          24691584,
          24691584,
          24691584,
          24691584,
          24775552,
          24775552,
          24775552,
          24775552,
          24854720,
          24854720,
          24854720,
          24854720,
          24933952,
          24933952,
          24933952,
          24933952,
          25016736,
          25016736,
          25016736,
          25016736,
          25100384,
          25100384,
          25100384,
          25100384,
          25187776,
          25187776,
          25187776,
          25187776,
          25267680,
          25267680,
          25267680,
          25267680,
          25355616,
          25355616,
          25355616,
          25355616,
          25446464,
          25446464,
          25446464,
          25446464,
          25527968,
          25527968,
          25527968,
          25527968,
          25612416,
          25612416,
          25612416,
          25612416,
          25703680,
          25703680,
          25703680,
          25703680,
          25789696,
          25789696,
          25789696,
          25789696,
          25874336,
          25874336,
          25874336,
          25874336,
          25957440,
          25957440,
          25957440,
          25957440,
          26038304,
          26038304,
          26038304,
          26038304,
          26122304,
          26122304,
          26122304,
          26122304,
          26205184,
          26205184,
          26205184,
          26205184,
          26278208,
          26278208,
          26278208,
          26278208,
          26370528,
          26370528,
          26370528,
          26370528,
          26451328,
          26451328,
          26451328,
          26451328,
          26532896,
          26532896,
          26532896,
          26532896,
          26615232,
          26615232,
          26615232,
          26615232,
          26702240,
          26702240,
          26702240,
          26702240,
          26786240,
          26786240,
          26786240,
          26786240,
          26871776
         ]
        }
       ],
       "layout": {
        "font": {
         "color": "black",
         "family": "Arial",
         "size": 18
        },
        "hovermode": "x unified",
        "legend": {
         "font": {
          "color": "black",
          "size": 18
         },
         "orientation": "h",
         "x": 0.5,
         "xanchor": "center",
         "y": -0.4,
         "yanchor": "bottom"
        },
        "paper_bgcolor": "rgba(255, 255, 255, 1)",
        "plot_bgcolor": "rgba(255, 255, 255, 1)",
        "template": {
         "data": {
          "bar": [
           {
            "error_x": {
             "color": "#2a3f5f"
            },
            "error_y": {
             "color": "#2a3f5f"
            },
            "marker": {
             "line": {
              "color": "white",
              "width": 0.5
             }
            },
            "type": "bar"
           }
          ],
          "barpolar": [
           {
            "marker": {
             "line": {
              "color": "white",
              "width": 0.5
             }
            },
            "type": "barpolar"
           }
          ],
          "carpet": [
           {
            "aaxis": {
             "endlinecolor": "#2a3f5f",
             "gridcolor": "#C8D4E3",
             "linecolor": "#C8D4E3",
             "minorgridcolor": "#C8D4E3",
             "startlinecolor": "#2a3f5f"
            },
            "baxis": {
             "endlinecolor": "#2a3f5f",
             "gridcolor": "#C8D4E3",
             "linecolor": "#C8D4E3",
             "minorgridcolor": "#C8D4E3",
             "startlinecolor": "#2a3f5f"
            },
            "type": "carpet"
           }
          ],
          "choropleth": [
           {
            "colorbar": {
             "outlinewidth": 0,
             "ticks": ""
            },
            "type": "choropleth"
           }
          ],
          "contour": [
           {
            "colorbar": {
             "outlinewidth": 0,
             "ticks": ""
            },
            "colorscale": [
             [
              0,
              "#0d0887"
             ],
             [
              0.1111111111111111,
              "#46039f"
             ],
             [
              0.2222222222222222,
              "#7201a8"
             ],
             [
              0.3333333333333333,
              "#9c179e"
             ],
             [
              0.4444444444444444,
              "#bd3786"
             ],
             [
              0.5555555555555556,
              "#d8576b"
             ],
             [
              0.6666666666666666,
              "#ed7953"
             ],
             [
              0.7777777777777778,
              "#fb9f3a"
             ],
             [
              0.8888888888888888,
              "#fdca26"
             ],
             [
              1,
              "#f0f921"
             ]
            ],
            "type": "contour"
           }
          ],
          "contourcarpet": [
           {
            "colorbar": {
             "outlinewidth": 0,
             "ticks": ""
            },
            "type": "contourcarpet"
           }
          ],
          "heatmap": [
           {
            "colorbar": {
             "outlinewidth": 0,
             "ticks": ""
            },
            "colorscale": [
             [
              0,
              "#0d0887"
             ],
             [
              0.1111111111111111,
              "#46039f"
             ],
             [
              0.2222222222222222,
              "#7201a8"
             ],
             [
              0.3333333333333333,
              "#9c179e"
             ],
             [
              0.4444444444444444,
              "#bd3786"
             ],
             [
              0.5555555555555556,
              "#d8576b"
             ],
             [
              0.6666666666666666,
              "#ed7953"
             ],
             [
              0.7777777777777778,
              "#fb9f3a"
             ],
             [
              0.8888888888888888,
              "#fdca26"
             ],
             [
              1,
              "#f0f921"
             ]
            ],
            "type": "heatmap"
           }
          ],
          "heatmapgl": [
           {
            "colorbar": {
             "outlinewidth": 0,
             "ticks": ""
            },
            "colorscale": [
             [
              0,
              "#0d0887"
             ],
             [
              0.1111111111111111,
              "#46039f"
             ],
             [
              0.2222222222222222,
              "#7201a8"
             ],
             [
              0.3333333333333333,
              "#9c179e"
             ],
             [
              0.4444444444444444,
              "#bd3786"
             ],
             [
              0.5555555555555556,
              "#d8576b"
             ],
             [
              0.6666666666666666,
              "#ed7953"
             ],
             [
              0.7777777777777778,
              "#fb9f3a"
             ],
             [
              0.8888888888888888,
              "#fdca26"
             ],
             [
              1,
              "#f0f921"
             ]
            ],
            "type": "heatmapgl"
           }
          ],
          "histogram": [
           {
            "marker": {
             "colorbar": {
              "outlinewidth": 0,
              "ticks": ""
             }
            },
            "type": "histogram"
           }
          ],
          "histogram2d": [
           {
            "colorbar": {
             "outlinewidth": 0,
             "ticks": ""
            },
            "colorscale": [
             [
              0,
              "#0d0887"
             ],
             [
              0.1111111111111111,
              "#46039f"
             ],
             [
              0.2222222222222222,
              "#7201a8"
             ],
             [
              0.3333333333333333,
              "#9c179e"
             ],
             [
              0.4444444444444444,
              "#bd3786"
             ],
             [
              0.5555555555555556,
              "#d8576b"
             ],
             [
              0.6666666666666666,
              "#ed7953"
             ],
             [
              0.7777777777777778,
              "#fb9f3a"
             ],
             [
              0.8888888888888888,
              "#fdca26"
             ],
             [
              1,
              "#f0f921"
             ]
            ],
            "type": "histogram2d"
           }
          ],
          "histogram2dcontour": [
           {
            "colorbar": {
             "outlinewidth": 0,
             "ticks": ""
            },
            "colorscale": [
             [
              0,
              "#0d0887"
             ],
             [
              0.1111111111111111,
              "#46039f"
             ],
             [
              0.2222222222222222,
              "#7201a8"
             ],
             [
              0.3333333333333333,
              "#9c179e"
             ],
             [
              0.4444444444444444,
              "#bd3786"
             ],
             [
              0.5555555555555556,
              "#d8576b"
             ],
             [
              0.6666666666666666,
              "#ed7953"
             ],
             [
              0.7777777777777778,
              "#fb9f3a"
             ],
             [
              0.8888888888888888,
              "#fdca26"
             ],
             [
              1,
              "#f0f921"
             ]
            ],
            "type": "histogram2dcontour"
           }
          ],
          "mesh3d": [
           {
            "colorbar": {
             "outlinewidth": 0,
             "ticks": ""
            },
            "type": "mesh3d"
           }
          ],
          "parcoords": [
           {
            "line": {
             "colorbar": {
              "outlinewidth": 0,
              "ticks": ""
             }
            },
            "type": "parcoords"
           }
          ],
          "pie": [
           {
            "automargin": true,
            "type": "pie"
           }
          ],
          "scatter": [
           {
            "marker": {
             "colorbar": {
              "outlinewidth": 0,
              "ticks": ""
             }
            },
            "type": "scatter"
           }
          ],
          "scatter3d": [
           {
            "line": {
             "colorbar": {
              "outlinewidth": 0,
              "ticks": ""
             }
            },
            "marker": {
             "colorbar": {
              "outlinewidth": 0,
              "ticks": ""
             }
            },
            "type": "scatter3d"
           }
          ],
          "scattercarpet": [
           {
            "marker": {
             "colorbar": {
              "outlinewidth": 0,
              "ticks": ""
             }
            },
            "type": "scattercarpet"
           }
          ],
          "scattergeo": [
           {
            "marker": {
             "colorbar": {
              "outlinewidth": 0,
              "ticks": ""
             }
            },
            "type": "scattergeo"
           }
          ],
          "scattergl": [
           {
            "marker": {
             "colorbar": {
              "outlinewidth": 0,
              "ticks": ""
             }
            },
            "type": "scattergl"
           }
          ],
          "scattermapbox": [
           {
            "marker": {
             "colorbar": {
              "outlinewidth": 0,
              "ticks": ""
             }
            },
            "type": "scattermapbox"
           }
          ],
          "scatterpolar": [
           {
            "marker": {
             "colorbar": {
              "outlinewidth": 0,
              "ticks": ""
             }
            },
            "type": "scatterpolar"
           }
          ],
          "scatterpolargl": [
           {
            "marker": {
             "colorbar": {
              "outlinewidth": 0,
              "ticks": ""
             }
            },
            "type": "scatterpolargl"
           }
          ],
          "scatterternary": [
           {
            "marker": {
             "colorbar": {
              "outlinewidth": 0,
              "ticks": ""
             }
            },
            "type": "scatterternary"
           }
          ],
          "surface": [
           {
            "colorbar": {
             "outlinewidth": 0,
             "ticks": ""
            },
            "colorscale": [
             [
              0,
              "#0d0887"
             ],
             [
              0.1111111111111111,
              "#46039f"
             ],
             [
              0.2222222222222222,
              "#7201a8"
             ],
             [
              0.3333333333333333,
              "#9c179e"
             ],
             [
              0.4444444444444444,
              "#bd3786"
             ],
             [
              0.5555555555555556,
              "#d8576b"
             ],
             [
              0.6666666666666666,
              "#ed7953"
             ],
             [
              0.7777777777777778,
              "#fb9f3a"
             ],
             [
              0.8888888888888888,
              "#fdca26"
             ],
             [
              1,
              "#f0f921"
             ]
            ],
            "type": "surface"
           }
          ],
          "table": [
           {
            "cells": {
             "fill": {
              "color": "#EBF0F8"
             },
             "line": {
              "color": "white"
             }
            },
            "header": {
             "fill": {
              "color": "#C8D4E3"
             },
             "line": {
              "color": "white"
             }
            },
            "type": "table"
           }
          ]
         },
         "layout": {
          "annotationdefaults": {
           "arrowcolor": "#2a3f5f",
           "arrowhead": 0,
           "arrowwidth": 1
          },
          "autotypenumbers": "strict",
          "coloraxis": {
           "colorbar": {
            "outlinewidth": 0,
            "ticks": ""
           }
          },
          "colorscale": {
           "diverging": [
            [
             0,
             "#8e0152"
            ],
            [
             0.1,
             "#c51b7d"
            ],
            [
             0.2,
             "#de77ae"
            ],
            [
             0.3,
             "#f1b6da"
            ],
            [
             0.4,
             "#fde0ef"
            ],
            [
             0.5,
             "#f7f7f7"
            ],
            [
             0.6,
             "#e6f5d0"
            ],
            [
             0.7,
             "#b8e186"
            ],
            [
             0.8,
             "#7fbc41"
            ],
            [
             0.9,
             "#4d9221"
            ],
            [
             1,
             "#276419"
            ]
           ],
           "sequential": [
            [
             0,
             "#0d0887"
            ],
            [
             0.1111111111111111,
             "#46039f"
            ],
            [
             0.2222222222222222,
             "#7201a8"
            ],
            [
             0.3333333333333333,
             "#9c179e"
            ],
            [
             0.4444444444444444,
             "#bd3786"
            ],
            [
             0.5555555555555556,
             "#d8576b"
            ],
            [
             0.6666666666666666,
             "#ed7953"
            ],
            [
             0.7777777777777778,
             "#fb9f3a"
            ],
            [
             0.8888888888888888,
             "#fdca26"
            ],
            [
             1,
             "#f0f921"
            ]
           ],
           "sequentialminus": [
            [
             0,
             "#0d0887"
            ],
            [
             0.1111111111111111,
             "#46039f"
            ],
            [
             0.2222222222222222,
             "#7201a8"
            ],
            [
             0.3333333333333333,
             "#9c179e"
            ],
            [
             0.4444444444444444,
             "#bd3786"
            ],
            [
             0.5555555555555556,
             "#d8576b"
            ],
            [
             0.6666666666666666,
             "#ed7953"
            ],
            [
             0.7777777777777778,
             "#fb9f3a"
            ],
            [
             0.8888888888888888,
             "#fdca26"
            ],
            [
             1,
             "#f0f921"
            ]
           ]
          },
          "colorway": [
           "#636efa",
           "#EF553B",
           "#00cc96",
           "#ab63fa",
           "#FFA15A",
           "#19d3f3",
           "#FF6692",
           "#B6E880",
           "#FF97FF",
           "#FECB52"
          ],
          "font": {
           "color": "#2a3f5f"
          },
          "geo": {
           "bgcolor": "white",
           "lakecolor": "white",
           "landcolor": "white",
           "showlakes": true,
           "showland": true,
           "subunitcolor": "#C8D4E3"
          },
          "hoverlabel": {
           "align": "left"
          },
          "hovermode": "closest",
          "mapbox": {
           "style": "light"
          },
          "paper_bgcolor": "white",
          "plot_bgcolor": "white",
          "polar": {
           "angularaxis": {
            "gridcolor": "#EBF0F8",
            "linecolor": "#EBF0F8",
            "ticks": ""
           },
           "bgcolor": "white",
           "radialaxis": {
            "gridcolor": "#EBF0F8",
            "linecolor": "#EBF0F8",
            "ticks": ""
           }
          },
          "scene": {
           "xaxis": {
            "backgroundcolor": "white",
            "gridcolor": "#DFE8F3",
            "gridwidth": 2,
            "linecolor": "#EBF0F8",
            "showbackground": true,
            "ticks": "",
            "zerolinecolor": "#EBF0F8"
           },
           "yaxis": {
            "backgroundcolor": "white",
            "gridcolor": "#DFE8F3",
            "gridwidth": 2,
            "linecolor": "#EBF0F8",
            "showbackground": true,
            "ticks": "",
            "zerolinecolor": "#EBF0F8"
           },
           "zaxis": {
            "backgroundcolor": "white",
            "gridcolor": "#DFE8F3",
            "gridwidth": 2,
            "linecolor": "#EBF0F8",
            "showbackground": true,
            "ticks": "",
            "zerolinecolor": "#EBF0F8"
           }
          },
          "shapedefaults": {
           "line": {
            "color": "#2a3f5f"
           }
          },
          "ternary": {
           "aaxis": {
            "gridcolor": "#DFE8F3",
            "linecolor": "#A2B1C6",
            "ticks": ""
           },
           "baxis": {
            "gridcolor": "#DFE8F3",
            "linecolor": "#A2B1C6",
            "ticks": ""
           },
           "bgcolor": "white",
           "caxis": {
            "gridcolor": "#DFE8F3",
            "linecolor": "#A2B1C6",
            "ticks": ""
           }
          },
          "title": {
           "x": 0.05
          },
          "xaxis": {
           "automargin": true,
           "gridcolor": "#EBF0F8",
           "linecolor": "#EBF0F8",
           "ticks": "",
           "title": {
            "standoff": 15
           },
           "zerolinecolor": "#EBF0F8",
           "zerolinewidth": 2
          },
          "yaxis": {
           "automargin": true,
           "gridcolor": "#EBF0F8",
           "linecolor": "#EBF0F8",
           "ticks": "",
           "title": {
            "standoff": 15
           },
           "zerolinecolor": "#EBF0F8",
           "zerolinewidth": 2
          }
         }
        },
        "title": {
         "text": "Token Staked (ETH)",
         "x": 0.5,
         "xanchor": "center",
         "y": 0.9,
         "yanchor": "top"
        },
        "xaxis": {
         "title": {
          "text": "Date"
         }
        },
        "yaxis": {
         "title": {
          "text": "ETH"
         }
        }
       }
      }
     },
     "metadata": {},
     "output_type": "display_data"
    }
   ],
   "source": [
    "visualizations.plot_total_staked(\n",
    "    df,\n",
    "    scenario_names={\n",
    "    0: \"normal\",\n",
    "}\n",
    ")"
   ]
  },
  {
   "cell_type": "code",
   "execution_count": 18,
   "metadata": {},
   "outputs": [
    {
     "data": {
      "application/vnd.plotly.v1+json": {
       "config": {
        "plotlyServerURL": "https://plot.ly"
       },
       "data": [
        {
         "line": {
          "color": "#FC1CBF",
          "dash": "dot"
         },
         "name": "normal",
         "type": "scatter",
         "x": [
          1,
          1,
          1,
          1,
          2,
          2,
          2,
          2,
          3,
          3,
          3,
          3,
          4,
          4,
          4,
          4,
          5,
          5,
          5,
          5,
          6,
          6,
          6,
          6,
          7,
          7,
          7,
          7,
          8,
          8,
          8,
          8,
          9,
          9,
          9,
          9,
          10,
          10,
          10,
          10,
          11,
          11,
          11,
          11,
          12,
          12,
          12,
          12,
          13,
          13,
          13,
          13,
          14,
          14,
          14,
          14,
          15,
          15,
          15,
          15,
          16,
          16,
          16,
          16,
          17,
          17,
          17,
          17,
          18,
          18,
          18,
          18,
          19,
          19,
          19,
          19,
          20,
          20,
          20,
          20,
          21,
          21,
          21,
          21,
          22,
          22,
          22,
          22,
          23,
          23,
          23,
          23,
          24,
          24,
          24,
          24,
          25,
          25,
          25,
          25,
          26,
          26,
          26,
          26,
          27,
          27,
          27,
          27,
          28,
          28,
          28,
          28,
          29,
          29,
          29,
          29,
          30,
          30,
          30,
          30,
          31,
          31,
          31,
          31,
          32,
          32,
          32,
          32,
          33,
          33,
          33,
          33,
          34,
          34,
          34,
          34,
          35,
          35,
          35,
          35,
          36,
          36,
          36,
          36,
          37,
          37,
          37,
          37,
          38,
          38,
          38,
          38,
          39,
          39,
          39,
          39,
          40,
          40,
          40,
          40,
          41,
          41,
          41,
          41,
          42,
          42,
          42,
          42,
          43,
          43,
          43,
          43,
          44,
          44,
          44,
          44,
          45,
          45,
          45,
          45,
          46,
          46,
          46,
          46,
          47,
          47,
          47,
          47,
          48,
          48,
          48,
          48,
          49,
          49,
          49,
          49,
          50,
          50,
          50,
          50,
          51,
          51,
          51,
          51,
          52,
          52,
          52,
          52,
          53,
          53,
          53,
          53,
          54,
          54,
          54,
          54,
          55,
          55,
          55,
          55,
          56,
          56,
          56,
          56,
          57,
          57,
          57,
          57,
          58,
          58,
          58,
          58,
          59,
          59,
          59,
          59,
          60,
          60,
          60,
          60,
          61,
          61,
          61,
          61,
          62,
          62,
          62,
          62,
          63,
          63,
          63,
          63,
          64,
          64,
          64,
          64,
          65,
          65,
          65,
          65,
          66,
          66,
          66,
          66,
          67,
          67,
          67,
          67,
          68,
          68,
          68,
          68,
          69,
          69,
          69,
          69,
          70,
          70,
          70,
          70,
          71,
          71,
          71,
          71,
          72,
          72,
          72,
          72,
          73,
          73,
          73,
          73,
          74,
          74,
          74,
          74,
          75,
          75,
          75,
          75,
          76,
          76,
          76,
          76,
          77,
          77,
          77,
          77,
          78,
          78,
          78,
          78,
          79,
          79,
          79,
          79,
          80,
          80,
          80,
          80,
          81,
          81,
          81,
          81,
          82,
          82,
          82,
          82,
          83,
          83,
          83,
          83,
          84,
          84,
          84,
          84,
          85,
          85,
          85,
          85,
          86,
          86,
          86,
          86,
          87,
          87,
          87,
          87,
          88,
          88,
          88,
          88,
          89,
          89,
          89,
          89,
          90,
          90,
          90,
          90,
          91,
          91,
          91,
          91,
          92,
          92,
          92,
          92,
          93,
          93,
          93,
          93,
          94,
          94,
          94,
          94,
          95,
          95,
          95,
          95,
          96,
          96,
          96,
          96,
          97,
          97,
          97,
          97,
          98,
          98,
          98,
          98,
          99,
          99,
          99,
          99,
          100,
          100,
          100,
          100
         ],
         "y": [
          null,
          null,
          null,
          2197.0178589361512,
          2197.0178589361512,
          2197.0178589361512,
          2197.0178589361512,
          2195.956366554714,
          2195.956366554714,
          2195.956366554714,
          2195.956366554714,
          2193.521898542805,
          2193.521898542805,
          2193.521898542805,
          2193.521898542805,
          2191.7966415638325,
          2191.7966415638325,
          2191.7966415638325,
          2191.7966415638325,
          2189.6143313282105,
          2189.6143313282105,
          2189.6143313282105,
          2189.6143313282105,
          2188.1425102248336,
          2188.1425102248336,
          2188.1425102248336,
          2188.1425102248336,
          2186.392705218974,
          2186.392705218974,
          2186.392705218974,
          2186.392705218974,
          2184.76472326551,
          2184.76472326551,
          2184.76472326551,
          2184.76472326551,
          2182.627822371307,
          2182.627822371307,
          2182.627822371307,
          2182.627822371307,
          2180.719511044542,
          2180.719511044542,
          2180.719511044542,
          2180.719511044542,
          2179.1155535601806,
          2179.1155535601806,
          2179.1155535601806,
          2179.1155535601806,
          2176.982989051041,
          2176.982989051041,
          2176.982989051041,
          2176.982989051041,
          2175.6701013649217,
          2175.6701013649217,
          2175.6701013649217,
          2175.6701013649217,
          2173.941659264015,
          2173.941659264015,
          2173.941659264015,
          2173.941659264015,
          2172.611171247276,
          2172.611171247276,
          2172.611171247276,
          2172.611171247276,
          2171.2766371428625,
          2171.2766371428625,
          2171.2766371428625,
          2171.2766371428625,
          2170.038348488253,
          2170.038348488253,
          2170.038348488253,
          2170.038348488253,
          2168.783952565239,
          2168.783952565239,
          2168.783952565239,
          2168.783952565239,
          2166.9718098801204,
          2166.9718098801204,
          2166.9718098801204,
          2166.9718098801204,
          2166.025641013797,
          2166.025641013797,
          2166.025641013797,
          2166.025641013797,
          2164.60260912338,
          2164.60260912338,
          2164.60260912338,
          2164.60260912338,
          2163.695941166081,
          2163.695941166081,
          2163.695941166081,
          2163.695941166081,
          2162.0629714860147,
          2162.0629714860147,
          2162.0629714860147,
          2162.0629714860147,
          2160.9316334619916,
          2160.9316334619916,
          2160.9316334619916,
          2160.9316334619916,
          2159.907576602074,
          2159.907576602074,
          2159.907576602074,
          2159.907576602074,
          2159.161447013458,
          2159.161447013458,
          2159.161447013458,
          2159.161447013458,
          2157.673821568426,
          2157.673821568426,
          2157.673821568426,
          2157.673821568426,
          2156.0904392397965,
          2156.0904392397965,
          2156.0904392397965,
          2156.0904392397965,
          2155.365130037192,
          2155.365130037192,
          2155.365130037192,
          2155.365130037192,
          2154.4655537695917,
          2154.4655537695917,
          2154.4655537695917,
          2154.4655537695917,
          2153.7846178727214,
          2153.7846178727214,
          2153.7846178727214,
          2153.7846178727214,
          2153.1809408297713,
          2153.1809408297713,
          2153.1809408297713,
          2153.1809408297713,
          2152.399216144431,
          2152.399216144431,
          2152.399216144431,
          2152.399216144431,
          2151.7121990195246,
          2151.7121990195246,
          2151.7121990195246,
          2151.7121990195246,
          2150.489081816556,
          2150.489081816556,
          2150.489081816556,
          2150.489081816556,
          2149.6557237456395,
          2149.6557237456395,
          2149.6557237456395,
          2149.6557237456395,
          2148.4487412149415,
          2148.4487412149415,
          2148.4487412149415,
          2148.4487412149415,
          2147.470536596926,
          2147.470536596926,
          2147.470536596926,
          2147.470536596926,
          2146.8773325345396,
          2146.8773325345396,
          2146.8773325345396,
          2146.8773325345396,
          2146.1847992690728,
          2146.1847992690728,
          2146.1847992690728,
          2146.1847992690728,
          2145.2682918145506,
          2145.2682918145506,
          2145.2682918145506,
          2145.2682918145506,
          2144.6795787002484,
          2144.6795787002484,
          2144.6795787002484,
          2144.6795787002484,
          2144.194316833299,
          2144.194316833299,
          2144.194316833299,
          2144.194316833299,
          2143.7148951667937,
          2143.7148951667937,
          2143.7148951667937,
          2143.7148951667937,
          2141.953370651585,
          2141.953370651585,
          2141.953370651585,
          2141.953370651585,
          2141.572962666555,
          2141.572962666555,
          2141.572962666555,
          2141.572962666555,
          2140.74266140039,
          2140.74266140039,
          2140.74266140039,
          2140.74266140039,
          2140.4103142058057,
          2140.4103142058057,
          2140.4103142058057,
          2140.4103142058057,
          2139.7077602226263,
          2139.7077602226263,
          2139.7077602226263,
          2139.7077602226263,
          2139.979664743045,
          2139.979664743045,
          2139.979664743045,
          2139.979664743045,
          2139.7215544125793,
          2139.7215544125793,
          2139.7215544125793,
          2139.7215544125793,
          2138.910956464402,
          2138.910956464402,
          2138.910956464402,
          2138.910956464402,
          2138.2846550829167,
          2138.2846550829167,
          2138.2846550829167,
          2138.2846550829167,
          2137.6328541773128,
          2137.6328541773128,
          2137.6328541773128,
          2137.6328541773128,
          2136.9285784265135,
          2136.9285784265135,
          2136.9285784265135,
          2136.9285784265135,
          2136.1391740495214,
          2136.1391740495214,
          2136.1391740495214,
          2136.1391740495214,
          2135.7970007662375,
          2135.7970007662375,
          2135.7970007662375,
          2135.7970007662375,
          2135.2002516354664,
          2135.2002516354664,
          2135.2002516354664,
          2135.2002516354664,
          2135.019807436932,
          2135.019807436932,
          2135.019807436932,
          2135.019807436932,
          2134.28255840357,
          2134.28255840357,
          2134.28255840357,
          2134.28255840357,
          2134.449763048329,
          2134.449763048329,
          2134.449763048329,
          2134.449763048329,
          2133.8853371957834,
          2133.8853371957834,
          2133.8853371957834,
          2133.8853371957834,
          2133.3390102009575,
          2133.3390102009575,
          2133.3390102009575,
          2133.3390102009575,
          2133.323209494413,
          2133.323209494413,
          2133.323209494413,
          2133.323209494413,
          2133.338469825391,
          2133.338469825391,
          2133.338469825391,
          2133.338469825391,
          2132.9640500112723,
          2132.9640500112723,
          2132.9640500112723,
          2132.9640500112723,
          2132.4335438421886,
          2132.4335438421886,
          2132.4335438421886,
          2132.4335438421886,
          2131.9661129102724,
          2131.9661129102724,
          2131.9661129102724,
          2131.9661129102724,
          2131.580565687338,
          2131.580565687338,
          2131.580565687338,
          2131.580565687338,
          2131.5792094163025,
          2131.5792094163025,
          2131.5792094163025,
          2131.5792094163025,
          2131.2960322083754,
          2131.2960322083754,
          2131.2960322083754,
          2131.2960322083754,
          2131.4407118560966,
          2131.4407118560966,
          2131.4407118560966,
          2131.4407118560966,
          2131.4886360550204,
          2131.4886360550204,
          2131.4886360550204,
          2131.4886360550204,
          2131.4751952525044,
          2131.4751952525044,
          2131.4751952525044,
          2131.4751952525044,
          2131.6062290554305,
          2131.6062290554305,
          2131.6062290554305,
          2131.6062290554305,
          2131.6011332220955,
          2131.6011332220955,
          2131.6011332220955,
          2131.6011332220955,
          2131.9040843052194,
          2131.9040843052194,
          2131.9040843052194,
          2131.9040843052194,
          2132.1013123764264,
          2132.1013123764264,
          2132.1013123764264,
          2132.1013123764264,
          2132.1339843856667,
          2132.1339843856667,
          2132.1339843856667,
          2132.1339843856667,
          2131.9225356430834,
          2131.9225356430834,
          2131.9225356430834,
          2131.9225356430834,
          2132.0329384808456,
          2132.0329384808456,
          2132.0329384808456,
          2132.0329384808456,
          2131.826756247914,
          2131.826756247914,
          2131.826756247914,
          2131.826756247914,
          2131.5723127216856,
          2131.5723127216856,
          2131.5723127216856,
          2131.5723127216856,
          2131.729184165284,
          2131.729184165284,
          2131.729184165284,
          2131.729184165284,
          2131.819077974722,
          2131.819077974722,
          2131.819077974722,
          2131.819077974722,
          2131.583141449283,
          2131.583141449283,
          2131.583141449283,
          2131.583141449283,
          2131.8377391399317,
          2131.8377391399317,
          2131.8377391399317,
          2131.8377391399317,
          2132.0033421367434,
          2132.0033421367434,
          2132.0033421367434,
          2132.0033421367434,
          2132.2123083756683,
          2132.2123083756683,
          2132.2123083756683,
          2132.2123083756683,
          2132.4298082682258,
          2132.4298082682258,
          2132.4298082682258,
          2132.4298082682258,
          2132.6289939771427,
          2132.6289939771427,
          2132.6289939771427,
          2132.6289939771427,
          2132.8602892187514,
          2132.8602892187514,
          2132.8602892187514,
          2132.8602892187514,
          2132.601960308261,
          2132.601960308261,
          2132.601960308261,
          2132.601960308261,
          2132.500417668206,
          2132.500417668206,
          2132.500417668206,
          2132.500417668206,
          2132.7382763411197,
          2132.7382763411197,
          2132.7382763411197,
          2132.7382763411197,
          2133.0031632194564,
          2133.0031632194564,
          2133.0031632194564,
          2133.0031632194564,
          2133.1835759175924,
          2133.1835759175924,
          2133.1835759175924,
          2133.1835759175924,
          2133.088495532289,
          2133.088495532289,
          2133.088495532289,
          2133.088495532289,
          2133.258649067451,
          2133.258649067451,
          2133.258649067451,
          2133.258649067451,
          2133.407721426242
         ]
        }
       ],
       "layout": {
        "font": {
         "color": "black",
         "family": "Arial",
         "size": 18
        },
        "hovermode": "x unified",
        "legend": {
         "font": {
          "color": "black",
          "size": 18
         },
         "orientation": "h",
         "x": 0.5,
         "xanchor": "center",
         "y": -0.4,
         "yanchor": "bottom"
        },
        "paper_bgcolor": "rgba(255, 255, 255, 1)",
        "plot_bgcolor": "rgba(255, 255, 255, 1)",
        "template": {
         "data": {
          "bar": [
           {
            "error_x": {
             "color": "#2a3f5f"
            },
            "error_y": {
             "color": "#2a3f5f"
            },
            "marker": {
             "line": {
              "color": "white",
              "width": 0.5
             }
            },
            "type": "bar"
           }
          ],
          "barpolar": [
           {
            "marker": {
             "line": {
              "color": "white",
              "width": 0.5
             }
            },
            "type": "barpolar"
           }
          ],
          "carpet": [
           {
            "aaxis": {
             "endlinecolor": "#2a3f5f",
             "gridcolor": "#C8D4E3",
             "linecolor": "#C8D4E3",
             "minorgridcolor": "#C8D4E3",
             "startlinecolor": "#2a3f5f"
            },
            "baxis": {
             "endlinecolor": "#2a3f5f",
             "gridcolor": "#C8D4E3",
             "linecolor": "#C8D4E3",
             "minorgridcolor": "#C8D4E3",
             "startlinecolor": "#2a3f5f"
            },
            "type": "carpet"
           }
          ],
          "choropleth": [
           {
            "colorbar": {
             "outlinewidth": 0,
             "ticks": ""
            },
            "type": "choropleth"
           }
          ],
          "contour": [
           {
            "colorbar": {
             "outlinewidth": 0,
             "ticks": ""
            },
            "colorscale": [
             [
              0,
              "#0d0887"
             ],
             [
              0.1111111111111111,
              "#46039f"
             ],
             [
              0.2222222222222222,
              "#7201a8"
             ],
             [
              0.3333333333333333,
              "#9c179e"
             ],
             [
              0.4444444444444444,
              "#bd3786"
             ],
             [
              0.5555555555555556,
              "#d8576b"
             ],
             [
              0.6666666666666666,
              "#ed7953"
             ],
             [
              0.7777777777777778,
              "#fb9f3a"
             ],
             [
              0.8888888888888888,
              "#fdca26"
             ],
             [
              1,
              "#f0f921"
             ]
            ],
            "type": "contour"
           }
          ],
          "contourcarpet": [
           {
            "colorbar": {
             "outlinewidth": 0,
             "ticks": ""
            },
            "type": "contourcarpet"
           }
          ],
          "heatmap": [
           {
            "colorbar": {
             "outlinewidth": 0,
             "ticks": ""
            },
            "colorscale": [
             [
              0,
              "#0d0887"
             ],
             [
              0.1111111111111111,
              "#46039f"
             ],
             [
              0.2222222222222222,
              "#7201a8"
             ],
             [
              0.3333333333333333,
              "#9c179e"
             ],
             [
              0.4444444444444444,
              "#bd3786"
             ],
             [
              0.5555555555555556,
              "#d8576b"
             ],
             [
              0.6666666666666666,
              "#ed7953"
             ],
             [
              0.7777777777777778,
              "#fb9f3a"
             ],
             [
              0.8888888888888888,
              "#fdca26"
             ],
             [
              1,
              "#f0f921"
             ]
            ],
            "type": "heatmap"
           }
          ],
          "heatmapgl": [
           {
            "colorbar": {
             "outlinewidth": 0,
             "ticks": ""
            },
            "colorscale": [
             [
              0,
              "#0d0887"
             ],
             [
              0.1111111111111111,
              "#46039f"
             ],
             [
              0.2222222222222222,
              "#7201a8"
             ],
             [
              0.3333333333333333,
              "#9c179e"
             ],
             [
              0.4444444444444444,
              "#bd3786"
             ],
             [
              0.5555555555555556,
              "#d8576b"
             ],
             [
              0.6666666666666666,
              "#ed7953"
             ],
             [
              0.7777777777777778,
              "#fb9f3a"
             ],
             [
              0.8888888888888888,
              "#fdca26"
             ],
             [
              1,
              "#f0f921"
             ]
            ],
            "type": "heatmapgl"
           }
          ],
          "histogram": [
           {
            "marker": {
             "colorbar": {
              "outlinewidth": 0,
              "ticks": ""
             }
            },
            "type": "histogram"
           }
          ],
          "histogram2d": [
           {
            "colorbar": {
             "outlinewidth": 0,
             "ticks": ""
            },
            "colorscale": [
             [
              0,
              "#0d0887"
             ],
             [
              0.1111111111111111,
              "#46039f"
             ],
             [
              0.2222222222222222,
              "#7201a8"
             ],
             [
              0.3333333333333333,
              "#9c179e"
             ],
             [
              0.4444444444444444,
              "#bd3786"
             ],
             [
              0.5555555555555556,
              "#d8576b"
             ],
             [
              0.6666666666666666,
              "#ed7953"
             ],
             [
              0.7777777777777778,
              "#fb9f3a"
             ],
             [
              0.8888888888888888,
              "#fdca26"
             ],
             [
              1,
              "#f0f921"
             ]
            ],
            "type": "histogram2d"
           }
          ],
          "histogram2dcontour": [
           {
            "colorbar": {
             "outlinewidth": 0,
             "ticks": ""
            },
            "colorscale": [
             [
              0,
              "#0d0887"
             ],
             [
              0.1111111111111111,
              "#46039f"
             ],
             [
              0.2222222222222222,
              "#7201a8"
             ],
             [
              0.3333333333333333,
              "#9c179e"
             ],
             [
              0.4444444444444444,
              "#bd3786"
             ],
             [
              0.5555555555555556,
              "#d8576b"
             ],
             [
              0.6666666666666666,
              "#ed7953"
             ],
             [
              0.7777777777777778,
              "#fb9f3a"
             ],
             [
              0.8888888888888888,
              "#fdca26"
             ],
             [
              1,
              "#f0f921"
             ]
            ],
            "type": "histogram2dcontour"
           }
          ],
          "mesh3d": [
           {
            "colorbar": {
             "outlinewidth": 0,
             "ticks": ""
            },
            "type": "mesh3d"
           }
          ],
          "parcoords": [
           {
            "line": {
             "colorbar": {
              "outlinewidth": 0,
              "ticks": ""
             }
            },
            "type": "parcoords"
           }
          ],
          "pie": [
           {
            "automargin": true,
            "type": "pie"
           }
          ],
          "scatter": [
           {
            "marker": {
             "colorbar": {
              "outlinewidth": 0,
              "ticks": ""
             }
            },
            "type": "scatter"
           }
          ],
          "scatter3d": [
           {
            "line": {
             "colorbar": {
              "outlinewidth": 0,
              "ticks": ""
             }
            },
            "marker": {
             "colorbar": {
              "outlinewidth": 0,
              "ticks": ""
             }
            },
            "type": "scatter3d"
           }
          ],
          "scattercarpet": [
           {
            "marker": {
             "colorbar": {
              "outlinewidth": 0,
              "ticks": ""
             }
            },
            "type": "scattercarpet"
           }
          ],
          "scattergeo": [
           {
            "marker": {
             "colorbar": {
              "outlinewidth": 0,
              "ticks": ""
             }
            },
            "type": "scattergeo"
           }
          ],
          "scattergl": [
           {
            "marker": {
             "colorbar": {
              "outlinewidth": 0,
              "ticks": ""
             }
            },
            "type": "scattergl"
           }
          ],
          "scattermapbox": [
           {
            "marker": {
             "colorbar": {
              "outlinewidth": 0,
              "ticks": ""
             }
            },
            "type": "scattermapbox"
           }
          ],
          "scatterpolar": [
           {
            "marker": {
             "colorbar": {
              "outlinewidth": 0,
              "ticks": ""
             }
            },
            "type": "scatterpolar"
           }
          ],
          "scatterpolargl": [
           {
            "marker": {
             "colorbar": {
              "outlinewidth": 0,
              "ticks": ""
             }
            },
            "type": "scatterpolargl"
           }
          ],
          "scatterternary": [
           {
            "marker": {
             "colorbar": {
              "outlinewidth": 0,
              "ticks": ""
             }
            },
            "type": "scatterternary"
           }
          ],
          "surface": [
           {
            "colorbar": {
             "outlinewidth": 0,
             "ticks": ""
            },
            "colorscale": [
             [
              0,
              "#0d0887"
             ],
             [
              0.1111111111111111,
              "#46039f"
             ],
             [
              0.2222222222222222,
              "#7201a8"
             ],
             [
              0.3333333333333333,
              "#9c179e"
             ],
             [
              0.4444444444444444,
              "#bd3786"
             ],
             [
              0.5555555555555556,
              "#d8576b"
             ],
             [
              0.6666666666666666,
              "#ed7953"
             ],
             [
              0.7777777777777778,
              "#fb9f3a"
             ],
             [
              0.8888888888888888,
              "#fdca26"
             ],
             [
              1,
              "#f0f921"
             ]
            ],
            "type": "surface"
           }
          ],
          "table": [
           {
            "cells": {
             "fill": {
              "color": "#EBF0F8"
             },
             "line": {
              "color": "white"
             }
            },
            "header": {
             "fill": {
              "color": "#C8D4E3"
             },
             "line": {
              "color": "white"
             }
            },
            "type": "table"
           }
          ]
         },
         "layout": {
          "annotationdefaults": {
           "arrowcolor": "#2a3f5f",
           "arrowhead": 0,
           "arrowwidth": 1
          },
          "autotypenumbers": "strict",
          "coloraxis": {
           "colorbar": {
            "outlinewidth": 0,
            "ticks": ""
           }
          },
          "colorscale": {
           "diverging": [
            [
             0,
             "#8e0152"
            ],
            [
             0.1,
             "#c51b7d"
            ],
            [
             0.2,
             "#de77ae"
            ],
            [
             0.3,
             "#f1b6da"
            ],
            [
             0.4,
             "#fde0ef"
            ],
            [
             0.5,
             "#f7f7f7"
            ],
            [
             0.6,
             "#e6f5d0"
            ],
            [
             0.7,
             "#b8e186"
            ],
            [
             0.8,
             "#7fbc41"
            ],
            [
             0.9,
             "#4d9221"
            ],
            [
             1,
             "#276419"
            ]
           ],
           "sequential": [
            [
             0,
             "#0d0887"
            ],
            [
             0.1111111111111111,
             "#46039f"
            ],
            [
             0.2222222222222222,
             "#7201a8"
            ],
            [
             0.3333333333333333,
             "#9c179e"
            ],
            [
             0.4444444444444444,
             "#bd3786"
            ],
            [
             0.5555555555555556,
             "#d8576b"
            ],
            [
             0.6666666666666666,
             "#ed7953"
            ],
            [
             0.7777777777777778,
             "#fb9f3a"
            ],
            [
             0.8888888888888888,
             "#fdca26"
            ],
            [
             1,
             "#f0f921"
            ]
           ],
           "sequentialminus": [
            [
             0,
             "#0d0887"
            ],
            [
             0.1111111111111111,
             "#46039f"
            ],
            [
             0.2222222222222222,
             "#7201a8"
            ],
            [
             0.3333333333333333,
             "#9c179e"
            ],
            [
             0.4444444444444444,
             "#bd3786"
            ],
            [
             0.5555555555555556,
             "#d8576b"
            ],
            [
             0.6666666666666666,
             "#ed7953"
            ],
            [
             0.7777777777777778,
             "#fb9f3a"
            ],
            [
             0.8888888888888888,
             "#fdca26"
            ],
            [
             1,
             "#f0f921"
            ]
           ]
          },
          "colorway": [
           "#636efa",
           "#EF553B",
           "#00cc96",
           "#ab63fa",
           "#FFA15A",
           "#19d3f3",
           "#FF6692",
           "#B6E880",
           "#FF97FF",
           "#FECB52"
          ],
          "font": {
           "color": "#2a3f5f"
          },
          "geo": {
           "bgcolor": "white",
           "lakecolor": "white",
           "landcolor": "white",
           "showlakes": true,
           "showland": true,
           "subunitcolor": "#C8D4E3"
          },
          "hoverlabel": {
           "align": "left"
          },
          "hovermode": "closest",
          "mapbox": {
           "style": "light"
          },
          "paper_bgcolor": "white",
          "plot_bgcolor": "white",
          "polar": {
           "angularaxis": {
            "gridcolor": "#EBF0F8",
            "linecolor": "#EBF0F8",
            "ticks": ""
           },
           "bgcolor": "white",
           "radialaxis": {
            "gridcolor": "#EBF0F8",
            "linecolor": "#EBF0F8",
            "ticks": ""
           }
          },
          "scene": {
           "xaxis": {
            "backgroundcolor": "white",
            "gridcolor": "#DFE8F3",
            "gridwidth": 2,
            "linecolor": "#EBF0F8",
            "showbackground": true,
            "ticks": "",
            "zerolinecolor": "#EBF0F8"
           },
           "yaxis": {
            "backgroundcolor": "white",
            "gridcolor": "#DFE8F3",
            "gridwidth": 2,
            "linecolor": "#EBF0F8",
            "showbackground": true,
            "ticks": "",
            "zerolinecolor": "#EBF0F8"
           },
           "zaxis": {
            "backgroundcolor": "white",
            "gridcolor": "#DFE8F3",
            "gridwidth": 2,
            "linecolor": "#EBF0F8",
            "showbackground": true,
            "ticks": "",
            "zerolinecolor": "#EBF0F8"
           }
          },
          "shapedefaults": {
           "line": {
            "color": "#2a3f5f"
           }
          },
          "ternary": {
           "aaxis": {
            "gridcolor": "#DFE8F3",
            "linecolor": "#A2B1C6",
            "ticks": ""
           },
           "baxis": {
            "gridcolor": "#DFE8F3",
            "linecolor": "#A2B1C6",
            "ticks": ""
           },
           "bgcolor": "white",
           "caxis": {
            "gridcolor": "#DFE8F3",
            "linecolor": "#A2B1C6",
            "ticks": ""
           }
          },
          "title": {
           "x": 0.05
          },
          "xaxis": {
           "automargin": true,
           "gridcolor": "#EBF0F8",
           "linecolor": "#EBF0F8",
           "ticks": "",
           "title": {
            "standoff": 15
           },
           "zerolinecolor": "#EBF0F8",
           "zerolinewidth": 2
          },
          "yaxis": {
           "automargin": true,
           "gridcolor": "#EBF0F8",
           "linecolor": "#EBF0F8",
           "ticks": "",
           "title": {
            "standoff": 15
           },
           "zerolinecolor": "#EBF0F8",
           "zerolinewidth": 2
          }
         }
        },
        "title": {
         "text": "HHI Decentralization",
         "x": 0.5,
         "xanchor": "center",
         "y": 0.9,
         "yanchor": "top"
        },
        "xaxis": {
         "title": {
          "text": "Date"
         }
        },
        "yaxis": {
         "title": {
          "text": "HHI"
         }
        }
       }
      }
     },
     "metadata": {},
     "output_type": "display_data"
    }
   ],
   "source": [
    "visualizations.plot_hhi(\n",
    "    df,\n",
    "    scenario_names={\n",
    "    0: \"normal\",\n",
    "}\n",
    ")"
   ]
  }
 ],
 "metadata": {
  "kernelspec": {
   "display_name": "venv",
   "language": "python",
   "name": "python3"
  },
  "language_info": {
   "codemirror_mode": {
    "name": "ipython",
    "version": 3
   },
   "file_extension": ".py",
   "mimetype": "text/x-python",
   "name": "python",
   "nbconvert_exporter": "python",
   "pygments_lexer": "ipython3",
   "version": "3.9.6"
  }
 },
 "nbformat": 4,
 "nbformat_minor": 2
}
