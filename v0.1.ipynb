{
 "cells": [
  {
   "cell_type": "code",
   "execution_count": 12,
   "metadata": {},
   "outputs": [],
   "source": [
    "import secrets\n",
    "import pandas as pd\n",
    "import numpy as np\n",
    "#import seaborn as sns\n",
    "\n",
    "from radcad import Model, Simulation, Experiment\n",
    "from radcad.engine import Engine, Backend\n",
    "from random import randint, uniform\n",
    "\n",
    "from abc import ABC, abstractmethod\n",
    "from dataclasses import dataclass\n",
    "\n",
    "#sns.set(style=\"whitegrid\")"
   ]
  },
  {
   "cell_type": "code",
   "execution_count": 13,
   "metadata": {},
   "outputs": [],
   "source": [
    "from dataclasses import dataclass, field\n",
    "from typing import TypedDict, List, Callable, NamedTuple\n",
    "\n",
    "\n",
    "from model.utils import default, update_from_signal\n",
    "import visualizations"
   ]
  },
  {
   "cell_type": "code",
   "execution_count": 14,
   "metadata": {},
   "outputs": [],
   "source": [
    "import model.basic_model as basic_model\n",
    "from model.stochastic_processes import (\n",
    "    create_stochastic_process,\n",
    "    plot_price,\n",
    ")\n",
    "from model.parts.init_stake import fetch_stake_data\n",
    "from model.agents import (\n",
    "    CEXAgent, LSTAgent, LRTAgent, SoloAgent, StakingPoolAgent, ETFAgent,\n",
    "    StandardDeposit, StandardFullWithdraw\n",
    ")\n",
    "import model.agents_decision as agents_decision\n",
    "import model.infra_costs as infra_costs\n",
    "import model.APY as APY"
   ]
  },
  {
   "cell_type": "code",
   "execution_count": 15,
   "metadata": {},
   "outputs": [
    {
     "name": "stdout",
     "output_type": "stream",
     "text": [
      "Current Working Directory: /Users/amber/Desktop/Simulation/MVI-cyberFund\n",
      "Python Path: ['/Users/amber/Desktop/Simulation/MVI-cyberFund', '/Library/Developer/CommandLineTools/Library/Frameworks/Python3.framework/Versions/3.9/lib/python39.zip', '/Library/Developer/CommandLineTools/Library/Frameworks/Python3.framework/Versions/3.9/lib/python3.9', '/Library/Developer/CommandLineTools/Library/Frameworks/Python3.framework/Versions/3.9/lib/python3.9/lib-dynload', '', '/Users/amber/Desktop/Simulation/venv/lib/python3.9/site-packages']\n"
     ]
    }
   ],
   "source": [
    "import os\n",
    "import sys\n",
    "print(\"Current Working Directory:\", os.getcwd())\n",
    "print(\"Python Path:\", sys.path)\n"
   ]
  },
  {
   "cell_type": "code",
   "execution_count": 16,
   "metadata": {},
   "outputs": [],
   "source": [
    "# types\n",
    "Run = int\n",
    "Timestep = int"
   ]
  },
  {
   "cell_type": "markdown",
   "metadata": {},
   "source": [
    "# Price Traj Generation"
   ]
  },
  {
   "cell_type": "code",
   "execution_count": 17,
   "metadata": {},
   "outputs": [
    {
     "data": {
      "image/png": "[encoded data removed]",
      "text/plain": [
       "<Figure size 432x288 with 1 Axes>"
      ]
     },
     "metadata": {
      "needs_background": "light"
     },
     "output_type": "display_data"
    },
    {
     "name": "stdout",
     "output_type": "stream",
     "text": [
      "1601.7066283029499\n"
     ]
    }
   ],
   "source": [
    "eth_price_samples = create_stochastic_process(price_traj_type = 'concave')\n",
    "eth_price_samples = [i for i in eth_price_samples] # ETH-USD pair\n",
    "plot_price(eth_price_samples) \n",
    "print(min(eth_price_samples))"
   ]
  },
  {
   "cell_type": "markdown",
   "metadata": {},
   "source": [
    "# Setup"
   ]
  },
  {
   "cell_type": "code",
   "execution_count": 18,
   "metadata": {},
   "outputs": [],
   "source": [
    "constants = {\n",
    "}"
   ]
  },
  {
   "cell_type": "code",
   "execution_count": 19,
   "metadata": {},
   "outputs": [],
   "source": [
    "recent_staked = fetch_stake_data()\n",
    "curr_stake_LRT = recent_staked[recent_staked['entity_category']=='Liquid Restaking']['amount_staked']\n",
    "curr_stake_LST = recent_staked[recent_staked['entity_category']=='Liquid Staking']['amount_staked']\n",
    "curr_stake_CEX = recent_staked[recent_staked['entity_category']=='CEXs']['amount_staked']\n",
    "curr_stake_Solo = recent_staked[recent_staked['entity_category']=='Solo Stakers']['amount_staked']\n",
    "curr_stake_SP = recent_staked[recent_staked['entity_category']=='Staking Pools']['amount_staked']\n",
    "curr_stake_Unidentified = recent_staked[recent_staked['entity_category']=='Unidentified']['amount_staked']"
   ]
  },
  {
   "cell_type": "code",
   "execution_count": 20,
   "metadata": {},
   "outputs": [
    {
     "data": {
      "text/html": [
       "<div>\n",
       "<style scoped>\n",
       "    .dataframe tbody tr th:only-of-type {\n",
       "        vertical-align: middle;\n",
       "    }\n",
       "\n",
       "    .dataframe tbody tr th {\n",
       "        vertical-align: top;\n",
       "    }\n",
       "\n",
       "    .dataframe thead th {\n",
       "        text-align: right;\n",
       "    }\n",
       "</style>\n",
       "<table border=\"1\" class=\"dataframe\">\n",
       "  <thead>\n",
       "    <tr style=\"text-align: right;\">\n",
       "      <th></th>\n",
       "      <th>entity_category</th>\n",
       "      <th>amount_staked</th>\n",
       "    </tr>\n",
       "  </thead>\n",
       "  <tbody>\n",
       "    <tr>\n",
       "      <th>0</th>\n",
       "      <td>CEXs</td>\n",
       "      <td>8.468447e+06</td>\n",
       "    </tr>\n",
       "    <tr>\n",
       "      <th>1</th>\n",
       "      <td>Liquid Restaking</td>\n",
       "      <td>2.823426e+06</td>\n",
       "    </tr>\n",
       "    <tr>\n",
       "      <th>2</th>\n",
       "      <td>Liquid Staking</td>\n",
       "      <td>1.106251e+07</td>\n",
       "    </tr>\n",
       "    <tr>\n",
       "      <th>3</th>\n",
       "      <td>Solo Stakers</td>\n",
       "      <td>3.402329e+05</td>\n",
       "    </tr>\n",
       "    <tr>\n",
       "      <th>4</th>\n",
       "      <td>Staking Pools</td>\n",
       "      <td>5.898599e+06</td>\n",
       "    </tr>\n",
       "    <tr>\n",
       "      <th>5</th>\n",
       "      <td>Unidentified</td>\n",
       "      <td>6.268803e+06</td>\n",
       "    </tr>\n",
       "  </tbody>\n",
       "</table>\n",
       "</div>"
      ],
      "text/plain": [
       "    entity_category  amount_staked\n",
       "0              CEXs   8.468447e+06\n",
       "1  Liquid Restaking   2.823426e+06\n",
       "2    Liquid Staking   1.106251e+07\n",
       "3      Solo Stakers   3.402329e+05\n",
       "4     Staking Pools   5.898599e+06\n",
       "5      Unidentified   6.268803e+06"
      ]
     },
     "execution_count": 20,
     "metadata": {},
     "output_type": "execute_result"
    }
   ],
   "source": [
    "recent_staked"
   ]
  },
  {
   "cell_type": "code",
   "execution_count": 21,
   "metadata": {},
   "outputs": [
    {
     "name": "stderr",
     "output_type": "stream",
     "text": [
      "<ipython-input-21-f3800099faa3>:4: FutureWarning: Calling int on a single element Series is deprecated and will raise a TypeError in the future. Use int(ser.iloc[0]) instead\n",
      "  cnt=int(curr_stake_CEX/32),\n",
      "<ipython-input-21-f3800099faa3>:16: FutureWarning: Calling int on a single element Series is deprecated and will raise a TypeError in the future. Use int(ser.iloc[0]) instead\n",
      "  cnt=int(curr_stake_LST/32),\n",
      "<ipython-input-21-f3800099faa3>:28: FutureWarning: Calling int on a single element Series is deprecated and will raise a TypeError in the future. Use int(ser.iloc[0]) instead\n",
      "  cnt=int(curr_stake_LRT/32),\n",
      "<ipython-input-21-f3800099faa3>:40: FutureWarning: Calling int on a single element Series is deprecated and will raise a TypeError in the future. Use int(ser.iloc[0]) instead\n",
      "  cnt=int(curr_stake_Solo/32),\n",
      "<ipython-input-21-f3800099faa3>:52: FutureWarning: Calling int on a single element Series is deprecated and will raise a TypeError in the future. Use int(ser.iloc[0]) instead\n",
      "  cnt=int(curr_stake_SP/32),\n",
      "<ipython-input-21-f3800099faa3>:64: FutureWarning: Calling int on a single element Series is deprecated and will raise a TypeError in the future. Use int(ser.iloc[0]) instead\n",
      "  cnt=int(curr_stake_SP/32),\n"
     ]
    }
   ],
   "source": [
    "# Initialize an agent\n",
    "cex_agent = CEXAgent(\n",
    "    balance=curr_stake_CEX, \n",
    "    cnt=int(curr_stake_CEX/32), \n",
    "    category=\"CEX\", \n",
    "    cost_APY= 0.0,\n",
    "    # full_withdrawl=0.0, \n",
    "    # partial_withdrawl=0.0, \n",
    "    deposit_behavior=StandardDeposit(), \n",
    "    withdraw_behavior=StandardFullWithdraw(),\n",
    "    entity=\"None\"\n",
    ")\n",
    "\n",
    "lst_agent = LSTAgent(\n",
    "    balance=curr_stake_LST, \n",
    "    cnt=int(curr_stake_LST/32), \n",
    "    category=\"LST\", \n",
    "    cost_APY= 0.0,\n",
    "    # full_withdrawl=0.0, \n",
    "    # partial_withdrawl=0.0, \n",
    "    deposit_behavior=StandardDeposit(), \n",
    "    withdraw_behavior=StandardFullWithdraw(),\n",
    "    entity=\"None\"\n",
    ")\n",
    "\n",
    "lrt_agent = LRTAgent(\n",
    "    balance=curr_stake_LRT, \n",
    "    cnt=int(curr_stake_LRT/32), \n",
    "    category=\"LRT\", \n",
    "    cost_APY= 0.0,\n",
    "    # full_withdrawl=0.0, \n",
    "    # partial_withdrawl=0.0, \n",
    "    deposit_behavior=StandardDeposit(), \n",
    "    withdraw_behavior=StandardFullWithdraw(),\n",
    "    entity=\"None\"\n",
    ")\n",
    "\n",
    "solo_agent = SoloAgent(\n",
    "    balance=curr_stake_Solo, \n",
    "    cnt=int(curr_stake_Solo/32), \n",
    "    category=\"Solo\", \n",
    "    cost_APY= 0.0,\n",
    "    # full_withdrawl=0.0, \n",
    "    # partial_withdrawl=0.0, \n",
    "    deposit_behavior=StandardDeposit(), \n",
    "    withdraw_behavior=StandardFullWithdraw(),\n",
    "    entity=\"None\"\n",
    ")\n",
    "\n",
    "sp_agent = StakingPoolAgent(\n",
    "    balance=curr_stake_SP, \n",
    "    cnt=int(curr_stake_SP/32), \n",
    "    category=\"SP\", \n",
    "    cost_APY= 0.0,\n",
    "    # full_withdrawl=0.0, \n",
    "    # partial_withdrawl=0.0, \n",
    "    deposit_behavior=StandardDeposit(), \n",
    "    withdraw_behavior=StandardFullWithdraw(),\n",
    "    entity=\"None\"\n",
    ")\n",
    "\n",
    "etf_agent = ETFAgent(\n",
    "    balance=0, \n",
    "    cnt=int(curr_stake_SP/32), \n",
    "    category=\"SP\", \n",
    "    cost_APY= 0.0,\n",
    "    # full_withdrawl=0.0, \n",
    "    # partial_withdrawl=0.0, \n",
    "    deposit_behavior=StandardDeposit(), \n",
    "    withdraw_behavior=StandardFullWithdraw(),\n",
    "    entity=\"None\"\n",
    ")"
   ]
  },
  {
   "cell_type": "markdown",
   "metadata": {},
   "source": [
    "# Simulation"
   ]
  },
  {
   "cell_type": "code",
   "execution_count": 22,
   "metadata": {},
   "outputs": [],
   "source": [
    "ETH_initial_price = eth_price_samples[0]\n"
   ]
  },
  {
   "cell_type": "code",
   "execution_count": 23,
   "metadata": {},
   "outputs": [],
   "source": [
    "@dataclass\n",
    "class MVIParams:\n",
    "\n",
    "    eth_price_process:  List[Callable[[Run, Timestep], float]] = default(\n",
    "        [lambda run, timestep: eth_price_samples[timestep]]\n",
    "    )\n",
    "\n",
    "    opportunity_cost: List[float] = default([0.02])\n",
    "\n",
    "parameters = MVIParams().__dict__"
   ]
  },
  {
   "cell_type": "code",
   "execution_count": 24,
   "metadata": {},
   "outputs": [],
   "source": [
    "psub = [{\n",
    "    \"policies\": {\n",
    "    },\n",
    "    \"variables\": {\n",
    "        \"timestep\": basic_model.update_timestep,\n",
    "        \"price\": basic_model.update_price,\n",
    "    }\n",
    "},  { \n",
    "    \"policies\": {\n",
    "        \"action\": agents_decision.deposit_withdraw\n",
    "    },\n",
    "    \"variables\": {\n",
    "        \"CEXAgent\": agents_decision.update_CEXAgent_deposit_withdraw,\n",
    "        \"LSTAgent\": agents_decision.update_LSTAgent_deposit_withdraw,\n",
    "        \"LRTAgent\": agents_decision.update_LRTAgent_deposit_withdraw,\n",
    "        \"SoloAgent\": agents_decision.update_SoloAgent_deposit_withdraw,\n",
    "        \"StakingPoolAgent\": agents_decision.update_StakingPoolAgent_deposit_withdraw,\n",
    "    }\n",
    "},  { # TODO: double check the infra costs\n",
    "    \"policies\": { \n",
    "        \"action\": infra_costs.calc_costs\n",
    "    },\n",
    "    \"variables\": {\n",
    "        \"CEXAgent\": infra_costs.update_CEXAgent_cost,\n",
    "        \"LSTAgent\": infra_costs.update_LSTAgent_cost,\n",
    "        \"LRTAgent\": infra_costs.update_LRTAgent_cost,\n",
    "        \"SoloAgent\": infra_costs.update_SoloAgent_cost,\n",
    "        \"StakingPoolAgent\": infra_costs.update_StakingPoolAgent_cost,\n",
    "    }\n",
    "},  { \n",
    "    \"policies\": {\n",
    "        \"action\": APY.calc_decentralization_and_total_staked\n",
    "    },\n",
    "    \"variables\": {\n",
    "        \"total_staked\": APY.update_total_staked,\n",
    "        \"total_validator_cnt\": APY.update_total_validator_cnt,\n",
    "        \"decentralization_metrics\": APY.update_decentralization_metrics,\n",
    "    }\n",
    "}, { \n",
    "    \"policies\": {\n",
    "        \"action\": APY.calc_issuance_APR\n",
    "    },\n",
    "    \"variables\": {\n",
    "        \"issuance_APR\": APY.update_issuance_APR\n",
    "    }\n",
    "}, { \n",
    "    \"policies\": {\n",
    "        \"action\": APY.calc_revenue_APY\n",
    "    },\n",
    "    \"variables\": {\n",
    "        \"revenue_APY\": APY.update_revenue_APY,\n",
    "        \"revenue_APY_at_agent\": APY.update_revenue_APY_at_agent\n",
    "    }\n",
    "}\n",
    "]\n",
    "\n",
    "initial_conditions = {\n",
    "    \"timestep\": 0,\n",
    "    \"price\": ETH_initial_price, \n",
    "    \"CEXAgent\": cex_agent,\n",
    "    \"LSTAgent\": lst_agent,\n",
    "    \"LRTAgent\": lrt_agent,\n",
    "    \"SoloAgent\": solo_agent,\n",
    "    \"StakingPoolAgent\": sp_agent,\n",
    "    \"ETFAgent\": etf_agent,\n",
    "    \"total_staked\": 0,\n",
    "    \"total_validator_cnt\": 0,\n",
    "    \"decentralization_metrics\": {},\n",
    "    \"issuance_APR\": 0.0,\n",
    "    \"revenue_APY\": 0.0,\n",
    "    \"revenue_APY_at_agent\": {\n",
    "        \"CEXAgent\": 0.0,\n",
    "        \"LSTAgent\": 0.0,\n",
    "        \"LRTAgent\": 0.0,\n",
    "        \"SoloAgent\": 0.0,\n",
    "        \"StakingPoolAgent\": 0.0\n",
    "        }\n",
    "}\n",
    "\n",
    "\n",
    "params = parameters\n",
    "\n",
    "model = Model(\n",
    "        initial_state=initial_conditions,\n",
    "        state_update_blocks=psub,\n",
    "        params=params,\n",
    "    )"
   ]
  },
  {
   "cell_type": "code",
   "execution_count": 25,
   "metadata": {},
   "outputs": [
    {
     "name": "stderr",
     "output_type": "stream",
     "text": [
      "2024-10-29 14:41:12,326 INFO root Starting simulation 0 / run 0 / subset 0\n"
     ]
    }
   ],
   "source": [
    "simulation = Simulation(model=model, timesteps=100, runs=1)\n",
    "experiment = Experiment([simulation])\n",
    "experiment.engine = Engine(deepcopy=False, backend=Backend.SINGLE_PROCESS)\n",
    "results = experiment.run()\n",
    "df = pd.DataFrame(results)"
   ]
  },
  {
   "cell_type": "code",
   "execution_count": 26,
   "metadata": {},
   "outputs": [
    {
     "data": {
      "text/html": [
       "<div>\n",
       "<style scoped>\n",
       "    .dataframe tbody tr th:only-of-type {\n",
       "        vertical-align: middle;\n",
       "    }\n",
       "\n",
       "    .dataframe tbody tr th {\n",
       "        vertical-align: top;\n",
       "    }\n",
       "\n",
       "    .dataframe thead th {\n",
       "        text-align: right;\n",
       "    }\n",
       "</style>\n",
       "<table border=\"1\" class=\"dataframe\">\n",
       "  <thead>\n",
       "    <tr style=\"text-align: right;\">\n",
       "      <th></th>\n",
       "      <th>timestep</th>\n",
       "      <th>price</th>\n",
       "      <th>CEXAgent</th>\n",
       "      <th>LSTAgent</th>\n",
       "      <th>LRTAgent</th>\n",
       "      <th>SoloAgent</th>\n",
       "      <th>StakingPoolAgent</th>\n",
       "      <th>ETFAgent</th>\n",
       "      <th>total_staked</th>\n",
       "      <th>total_validator_cnt</th>\n",
       "      <th>decentralization_metrics</th>\n",
       "      <th>issuance_APR</th>\n",
       "      <th>revenue_APY</th>\n",
       "      <th>revenue_APY_at_agent</th>\n",
       "      <th>simulation</th>\n",
       "      <th>subset</th>\n",
       "      <th>run</th>\n",
       "      <th>substep</th>\n",
       "    </tr>\n",
       "  </thead>\n",
       "  <tbody>\n",
       "    <tr>\n",
       "      <th>0</th>\n",
       "      <td>0</td>\n",
       "      <td>2966.014139</td>\n",
       "      <td>CEXAgent(balance=0    8.774546e+06\\nName: amou...</td>\n",
       "      <td>LSTAgent(balance=2    1.129287e+07\\nName: amou...</td>\n",
       "      <td>LRTAgent(balance=1    3.185756e+06\\nName: amou...</td>\n",
       "      <td>SoloAgent(balance=3    343814.647628\\nName: am...</td>\n",
       "      <td>StakingPoolAgent(balance=4    6.240050e+06\\nNa...</td>\n",
       "      <td>ETFAgent(balance=0, cnt=184331, category='SP',...</td>\n",
       "      <td>0.000000e+00</td>\n",
       "      <td>0.000000e+00</td>\n",
       "      <td>{}</td>\n",
       "      <td>0.000000</td>\n",
       "      <td>0.000000</td>\n",
       "      <td>{'CEXAgent': 0.0, 'LSTAgent': 0.0, 'LRTAgent':...</td>\n",
       "      <td>0</td>\n",
       "      <td>0</td>\n",
       "      <td>1</td>\n",
       "      <td>0</td>\n",
       "    </tr>\n",
       "    <tr>\n",
       "      <th>1</th>\n",
       "      <td>1</td>\n",
       "      <td>2966.014139</td>\n",
       "      <td>CEXAgent(balance=0    8.774546e+06\\nName: amou...</td>\n",
       "      <td>LSTAgent(balance=2    1.129287e+07\\nName: amou...</td>\n",
       "      <td>LRTAgent(balance=1    3.185756e+06\\nName: amou...</td>\n",
       "      <td>SoloAgent(balance=3    343814.647628\\nName: am...</td>\n",
       "      <td>StakingPoolAgent(balance=4    6.240050e+06\\nNa...</td>\n",
       "      <td>ETFAgent(balance=0, cnt=184331, category='SP',...</td>\n",
       "      <td>0.000000e+00</td>\n",
       "      <td>0.000000e+00</td>\n",
       "      <td>{}</td>\n",
       "      <td>0.000000</td>\n",
       "      <td>0.000000</td>\n",
       "      <td>{'CEXAgent': 0.0, 'LSTAgent': 0.0, 'LRTAgent':...</td>\n",
       "      <td>0</td>\n",
       "      <td>0</td>\n",
       "      <td>1</td>\n",
       "      <td>1</td>\n",
       "    </tr>\n",
       "    <tr>\n",
       "      <th>2</th>\n",
       "      <td>1</td>\n",
       "      <td>2966.014139</td>\n",
       "      <td>CEXAgent(balance=0    8.774546e+06\\nName: amou...</td>\n",
       "      <td>LSTAgent(balance=2    1.129287e+07\\nName: amou...</td>\n",
       "      <td>LRTAgent(balance=1    3.185756e+06\\nName: amou...</td>\n",
       "      <td>SoloAgent(balance=3    343814.647628\\nName: am...</td>\n",
       "      <td>StakingPoolAgent(balance=4    6.240050e+06\\nNa...</td>\n",
       "      <td>ETFAgent(balance=0, cnt=184331, category='SP',...</td>\n",
       "      <td>0.000000e+00</td>\n",
       "      <td>0.000000e+00</td>\n",
       "      <td>{}</td>\n",
       "      <td>0.000000</td>\n",
       "      <td>0.000000</td>\n",
       "      <td>{'CEXAgent': 0.0, 'LSTAgent': 0.0, 'LRTAgent':...</td>\n",
       "      <td>0</td>\n",
       "      <td>0</td>\n",
       "      <td>1</td>\n",
       "      <td>2</td>\n",
       "    </tr>\n",
       "    <tr>\n",
       "      <th>3</th>\n",
       "      <td>1</td>\n",
       "      <td>2966.014139</td>\n",
       "      <td>CEXAgent(balance=0    8.774546e+06\\nName: amou...</td>\n",
       "      <td>LSTAgent(balance=2    1.129287e+07\\nName: amou...</td>\n",
       "      <td>LRTAgent(balance=1    3.185756e+06\\nName: amou...</td>\n",
       "      <td>SoloAgent(balance=3    343814.647628\\nName: am...</td>\n",
       "      <td>StakingPoolAgent(balance=4    6.240050e+06\\nNa...</td>\n",
       "      <td>ETFAgent(balance=0, cnt=184331, category='SP',...</td>\n",
       "      <td>0.000000e+00</td>\n",
       "      <td>0.000000e+00</td>\n",
       "      <td>{}</td>\n",
       "      <td>0.000000</td>\n",
       "      <td>0.000000</td>\n",
       "      <td>{'CEXAgent': 0.0, 'LSTAgent': 0.0, 'LRTAgent':...</td>\n",
       "      <td>0</td>\n",
       "      <td>0</td>\n",
       "      <td>1</td>\n",
       "      <td>3</td>\n",
       "    </tr>\n",
       "    <tr>\n",
       "      <th>4</th>\n",
       "      <td>1</td>\n",
       "      <td>2966.014139</td>\n",
       "      <td>CEXAgent(balance=0    8.774546e+06\\nName: amou...</td>\n",
       "      <td>LSTAgent(balance=2    1.129287e+07\\nName: amou...</td>\n",
       "      <td>LRTAgent(balance=1    3.185756e+06\\nName: amou...</td>\n",
       "      <td>SoloAgent(balance=3    343814.647628\\nName: am...</td>\n",
       "      <td>StakingPoolAgent(balance=4    6.240050e+06\\nNa...</td>\n",
       "      <td>ETFAgent(balance=0, cnt=184331, category='SP',...</td>\n",
       "      <td>3.450704e+07</td>\n",
       "      <td>1.078345e+06</td>\n",
       "      <td>{'HHI': 0.22838685441040774, 'CR_k': 0.7371983...</td>\n",
       "      <td>0.000000</td>\n",
       "      <td>0.000000</td>\n",
       "      <td>{'CEXAgent': 0.0, 'LSTAgent': 0.0, 'LRTAgent':...</td>\n",
       "      <td>0</td>\n",
       "      <td>0</td>\n",
       "      <td>1</td>\n",
       "      <td>4</td>\n",
       "    </tr>\n",
       "    <tr>\n",
       "      <th>...</th>\n",
       "      <td>...</td>\n",
       "      <td>...</td>\n",
       "      <td>...</td>\n",
       "      <td>...</td>\n",
       "      <td>...</td>\n",
       "      <td>...</td>\n",
       "      <td>...</td>\n",
       "      <td>...</td>\n",
       "      <td>...</td>\n",
       "      <td>...</td>\n",
       "      <td>...</td>\n",
       "      <td>...</td>\n",
       "      <td>...</td>\n",
       "      <td>...</td>\n",
       "      <td>...</td>\n",
       "      <td>...</td>\n",
       "      <td>...</td>\n",
       "      <td>...</td>\n",
       "    </tr>\n",
       "    <tr>\n",
       "      <th>596</th>\n",
       "      <td>100</td>\n",
       "      <td>2766.764286</td>\n",
       "      <td>CEXAgent(balance=0    8.774546e+06\\nName: amou...</td>\n",
       "      <td>LSTAgent(balance=2    1.129287e+07\\nName: amou...</td>\n",
       "      <td>LRTAgent(balance=1    3.185756e+06\\nName: amou...</td>\n",
       "      <td>SoloAgent(balance=3    343814.647628\\nName: am...</td>\n",
       "      <td>StakingPoolAgent(balance=4    6.240050e+06\\nNa...</td>\n",
       "      <td>ETFAgent(balance=0, cnt=184331, category='SP',...</td>\n",
       "      <td>3.572027e+07</td>\n",
       "      <td>1.116258e+06</td>\n",
       "      <td>{'HHI': 0.22597310112628013, 'CR_k': 0.7362285...</td>\n",
       "      <td>0.027829</td>\n",
       "      <td>-0.013251</td>\n",
       "      <td>{'CEXAgent': -0.016239231239398914, 'LSTAgent'...</td>\n",
       "      <td>0</td>\n",
       "      <td>0</td>\n",
       "      <td>1</td>\n",
       "      <td>2</td>\n",
       "    </tr>\n",
       "    <tr>\n",
       "      <th>597</th>\n",
       "      <td>100</td>\n",
       "      <td>2766.764286</td>\n",
       "      <td>CEXAgent(balance=0    8.774546e+06\\nName: amou...</td>\n",
       "      <td>LSTAgent(balance=2    1.129287e+07\\nName: amou...</td>\n",
       "      <td>LRTAgent(balance=1    3.185756e+06\\nName: amou...</td>\n",
       "      <td>SoloAgent(balance=3    343814.647628\\nName: am...</td>\n",
       "      <td>StakingPoolAgent(balance=4    6.240050e+06\\nNa...</td>\n",
       "      <td>ETFAgent(balance=0, cnt=184331, category='SP',...</td>\n",
       "      <td>3.572027e+07</td>\n",
       "      <td>1.116258e+06</td>\n",
       "      <td>{'HHI': 0.22597310112628013, 'CR_k': 0.7362285...</td>\n",
       "      <td>0.027829</td>\n",
       "      <td>-0.013251</td>\n",
       "      <td>{'CEXAgent': -0.016239231239398914, 'LSTAgent'...</td>\n",
       "      <td>0</td>\n",
       "      <td>0</td>\n",
       "      <td>1</td>\n",
       "      <td>3</td>\n",
       "    </tr>\n",
       "    <tr>\n",
       "      <th>598</th>\n",
       "      <td>100</td>\n",
       "      <td>2766.764286</td>\n",
       "      <td>CEXAgent(balance=0    8.774546e+06\\nName: amou...</td>\n",
       "      <td>LSTAgent(balance=2    1.129287e+07\\nName: amou...</td>\n",
       "      <td>LRTAgent(balance=1    3.185756e+06\\nName: amou...</td>\n",
       "      <td>SoloAgent(balance=3    343814.647628\\nName: am...</td>\n",
       "      <td>StakingPoolAgent(balance=4    6.240050e+06\\nNa...</td>\n",
       "      <td>ETFAgent(balance=0, cnt=184331, category='SP',...</td>\n",
       "      <td>3.573557e+07</td>\n",
       "      <td>1.116736e+06</td>\n",
       "      <td>{'HHI': 0.2259299394168811, 'CR_k': 0.73616894...</td>\n",
       "      <td>0.027829</td>\n",
       "      <td>-0.013251</td>\n",
       "      <td>{'CEXAgent': -0.016239231239398914, 'LSTAgent'...</td>\n",
       "      <td>0</td>\n",
       "      <td>0</td>\n",
       "      <td>1</td>\n",
       "      <td>4</td>\n",
       "    </tr>\n",
       "    <tr>\n",
       "      <th>599</th>\n",
       "      <td>100</td>\n",
       "      <td>2766.764286</td>\n",
       "      <td>CEXAgent(balance=0    8.774546e+06\\nName: amou...</td>\n",
       "      <td>LSTAgent(balance=2    1.129287e+07\\nName: amou...</td>\n",
       "      <td>LRTAgent(balance=1    3.185756e+06\\nName: amou...</td>\n",
       "      <td>SoloAgent(balance=3    343814.647628\\nName: am...</td>\n",
       "      <td>StakingPoolAgent(balance=4    6.240050e+06\\nNa...</td>\n",
       "      <td>ETFAgent(balance=0, cnt=184331, category='SP',...</td>\n",
       "      <td>3.573557e+07</td>\n",
       "      <td>1.116736e+06</td>\n",
       "      <td>{'HHI': 0.2259299394168811, 'CR_k': 0.73616894...</td>\n",
       "      <td>0.027823</td>\n",
       "      <td>-0.013251</td>\n",
       "      <td>{'CEXAgent': -0.016239231239398914, 'LSTAgent'...</td>\n",
       "      <td>0</td>\n",
       "      <td>0</td>\n",
       "      <td>1</td>\n",
       "      <td>5</td>\n",
       "    </tr>\n",
       "    <tr>\n",
       "      <th>600</th>\n",
       "      <td>100</td>\n",
       "      <td>2766.764286</td>\n",
       "      <td>CEXAgent(balance=0    8.774546e+06\\nName: amou...</td>\n",
       "      <td>LSTAgent(balance=2    1.129287e+07\\nName: amou...</td>\n",
       "      <td>LRTAgent(balance=1    3.185756e+06\\nName: amou...</td>\n",
       "      <td>SoloAgent(balance=3    343814.647628\\nName: am...</td>\n",
       "      <td>StakingPoolAgent(balance=4    6.240050e+06\\nNa...</td>\n",
       "      <td>ETFAgent(balance=0, cnt=184331, category='SP',...</td>\n",
       "      <td>3.573557e+07</td>\n",
       "      <td>1.116736e+06</td>\n",
       "      <td>{'HHI': 0.2259299394168811, 'CR_k': 0.73616894...</td>\n",
       "      <td>0.027823</td>\n",
       "      <td>-0.012642</td>\n",
       "      <td>{'CEXAgent': -0.015501963208526481, 'LSTAgent'...</td>\n",
       "      <td>0</td>\n",
       "      <td>0</td>\n",
       "      <td>1</td>\n",
       "      <td>6</td>\n",
       "    </tr>\n",
       "  </tbody>\n",
       "</table>\n",
       "<p>601 rows × 18 columns</p>\n",
       "</div>"
      ],
      "text/plain": [
       "     timestep        price                                           CEXAgent  \\\n",
       "0           0  2966.014139  CEXAgent(balance=0    8.774546e+06\\nName: amou...   \n",
       "1           1  2966.014139  CEXAgent(balance=0    8.774546e+06\\nName: amou...   \n",
       "2           1  2966.014139  CEXAgent(balance=0    8.774546e+06\\nName: amou...   \n",
       "3           1  2966.014139  CEXAgent(balance=0    8.774546e+06\\nName: amou...   \n",
       "4           1  2966.014139  CEXAgent(balance=0    8.774546e+06\\nName: amou...   \n",
       "..        ...          ...                                                ...   \n",
       "596       100  2766.764286  CEXAgent(balance=0    8.774546e+06\\nName: amou...   \n",
       "597       100  2766.764286  CEXAgent(balance=0    8.774546e+06\\nName: amou...   \n",
       "598       100  2766.764286  CEXAgent(balance=0    8.774546e+06\\nName: amou...   \n",
       "599       100  2766.764286  CEXAgent(balance=0    8.774546e+06\\nName: amou...   \n",
       "600       100  2766.764286  CEXAgent(balance=0    8.774546e+06\\nName: amou...   \n",
       "\n",
       "                                              LSTAgent  \\\n",
       "0    LSTAgent(balance=2    1.129287e+07\\nName: amou...   \n",
       "1    LSTAgent(balance=2    1.129287e+07\\nName: amou...   \n",
       "2    LSTAgent(balance=2    1.129287e+07\\nName: amou...   \n",
       "3    LSTAgent(balance=2    1.129287e+07\\nName: amou...   \n",
       "4    LSTAgent(balance=2    1.129287e+07\\nName: amou...   \n",
       "..                                                 ...   \n",
       "596  LSTAgent(balance=2    1.129287e+07\\nName: amou...   \n",
       "597  LSTAgent(balance=2    1.129287e+07\\nName: amou...   \n",
       "598  LSTAgent(balance=2    1.129287e+07\\nName: amou...   \n",
       "599  LSTAgent(balance=2    1.129287e+07\\nName: amou...   \n",
       "600  LSTAgent(balance=2    1.129287e+07\\nName: amou...   \n",
       "\n",
       "                                              LRTAgent  \\\n",
       "0    LRTAgent(balance=1    3.185756e+06\\nName: amou...   \n",
       "1    LRTAgent(balance=1    3.185756e+06\\nName: amou...   \n",
       "2    LRTAgent(balance=1    3.185756e+06\\nName: amou...   \n",
       "3    LRTAgent(balance=1    3.185756e+06\\nName: amou...   \n",
       "4    LRTAgent(balance=1    3.185756e+06\\nName: amou...   \n",
       "..                                                 ...   \n",
       "596  LRTAgent(balance=1    3.185756e+06\\nName: amou...   \n",
       "597  LRTAgent(balance=1    3.185756e+06\\nName: amou...   \n",
       "598  LRTAgent(balance=1    3.185756e+06\\nName: amou...   \n",
       "599  LRTAgent(balance=1    3.185756e+06\\nName: amou...   \n",
       "600  LRTAgent(balance=1    3.185756e+06\\nName: amou...   \n",
       "\n",
       "                                             SoloAgent  \\\n",
       "0    SoloAgent(balance=3    343814.647628\\nName: am...   \n",
       "1    SoloAgent(balance=3    343814.647628\\nName: am...   \n",
       "2    SoloAgent(balance=3    343814.647628\\nName: am...   \n",
       "3    SoloAgent(balance=3    343814.647628\\nName: am...   \n",
       "4    SoloAgent(balance=3    343814.647628\\nName: am...   \n",
       "..                                                 ...   \n",
       "596  SoloAgent(balance=3    343814.647628\\nName: am...   \n",
       "597  SoloAgent(balance=3    343814.647628\\nName: am...   \n",
       "598  SoloAgent(balance=3    343814.647628\\nName: am...   \n",
       "599  SoloAgent(balance=3    343814.647628\\nName: am...   \n",
       "600  SoloAgent(balance=3    343814.647628\\nName: am...   \n",
       "\n",
       "                                      StakingPoolAgent  \\\n",
       "0    StakingPoolAgent(balance=4    6.240050e+06\\nNa...   \n",
       "1    StakingPoolAgent(balance=4    6.240050e+06\\nNa...   \n",
       "2    StakingPoolAgent(balance=4    6.240050e+06\\nNa...   \n",
       "3    StakingPoolAgent(balance=4    6.240050e+06\\nNa...   \n",
       "4    StakingPoolAgent(balance=4    6.240050e+06\\nNa...   \n",
       "..                                                 ...   \n",
       "596  StakingPoolAgent(balance=4    6.240050e+06\\nNa...   \n",
       "597  StakingPoolAgent(balance=4    6.240050e+06\\nNa...   \n",
       "598  StakingPoolAgent(balance=4    6.240050e+06\\nNa...   \n",
       "599  StakingPoolAgent(balance=4    6.240050e+06\\nNa...   \n",
       "600  StakingPoolAgent(balance=4    6.240050e+06\\nNa...   \n",
       "\n",
       "                                              ETFAgent  total_staked  \\\n",
       "0    ETFAgent(balance=0, cnt=184331, category='SP',...  0.000000e+00   \n",
       "1    ETFAgent(balance=0, cnt=184331, category='SP',...  0.000000e+00   \n",
       "2    ETFAgent(balance=0, cnt=184331, category='SP',...  0.000000e+00   \n",
       "3    ETFAgent(balance=0, cnt=184331, category='SP',...  0.000000e+00   \n",
       "4    ETFAgent(balance=0, cnt=184331, category='SP',...  3.450704e+07   \n",
       "..                                                 ...           ...   \n",
       "596  ETFAgent(balance=0, cnt=184331, category='SP',...  3.572027e+07   \n",
       "597  ETFAgent(balance=0, cnt=184331, category='SP',...  3.572027e+07   \n",
       "598  ETFAgent(balance=0, cnt=184331, category='SP',...  3.573557e+07   \n",
       "599  ETFAgent(balance=0, cnt=184331, category='SP',...  3.573557e+07   \n",
       "600  ETFAgent(balance=0, cnt=184331, category='SP',...  3.573557e+07   \n",
       "\n",
       "     total_validator_cnt                           decentralization_metrics  \\\n",
       "0           0.000000e+00                                                 {}   \n",
       "1           0.000000e+00                                                 {}   \n",
       "2           0.000000e+00                                                 {}   \n",
       "3           0.000000e+00                                                 {}   \n",
       "4           1.078345e+06  {'HHI': 0.22838685441040774, 'CR_k': 0.7371983...   \n",
       "..                   ...                                                ...   \n",
       "596         1.116258e+06  {'HHI': 0.22597310112628013, 'CR_k': 0.7362285...   \n",
       "597         1.116258e+06  {'HHI': 0.22597310112628013, 'CR_k': 0.7362285...   \n",
       "598         1.116736e+06  {'HHI': 0.2259299394168811, 'CR_k': 0.73616894...   \n",
       "599         1.116736e+06  {'HHI': 0.2259299394168811, 'CR_k': 0.73616894...   \n",
       "600         1.116736e+06  {'HHI': 0.2259299394168811, 'CR_k': 0.73616894...   \n",
       "\n",
       "     issuance_APR  revenue_APY  \\\n",
       "0        0.000000     0.000000   \n",
       "1        0.000000     0.000000   \n",
       "2        0.000000     0.000000   \n",
       "3        0.000000     0.000000   \n",
       "4        0.000000     0.000000   \n",
       "..            ...          ...   \n",
       "596      0.027829    -0.013251   \n",
       "597      0.027829    -0.013251   \n",
       "598      0.027829    -0.013251   \n",
       "599      0.027823    -0.013251   \n",
       "600      0.027823    -0.012642   \n",
       "\n",
       "                                  revenue_APY_at_agent  simulation  subset  \\\n",
       "0    {'CEXAgent': 0.0, 'LSTAgent': 0.0, 'LRTAgent':...           0       0   \n",
       "1    {'CEXAgent': 0.0, 'LSTAgent': 0.0, 'LRTAgent':...           0       0   \n",
       "2    {'CEXAgent': 0.0, 'LSTAgent': 0.0, 'LRTAgent':...           0       0   \n",
       "3    {'CEXAgent': 0.0, 'LSTAgent': 0.0, 'LRTAgent':...           0       0   \n",
       "4    {'CEXAgent': 0.0, 'LSTAgent': 0.0, 'LRTAgent':...           0       0   \n",
       "..                                                 ...         ...     ...   \n",
       "596  {'CEXAgent': -0.016239231239398914, 'LSTAgent'...           0       0   \n",
       "597  {'CEXAgent': -0.016239231239398914, 'LSTAgent'...           0       0   \n",
       "598  {'CEXAgent': -0.016239231239398914, 'LSTAgent'...           0       0   \n",
       "599  {'CEXAgent': -0.016239231239398914, 'LSTAgent'...           0       0   \n",
       "600  {'CEXAgent': -0.015501963208526481, 'LSTAgent'...           0       0   \n",
       "\n",
       "     run  substep  \n",
       "0      1        0  \n",
       "1      1        1  \n",
       "2      1        2  \n",
       "3      1        3  \n",
       "4      1        4  \n",
       "..   ...      ...  \n",
       "596    1        2  \n",
       "597    1        3  \n",
       "598    1        4  \n",
       "599    1        5  \n",
       "600    1        6  \n",
       "\n",
       "[601 rows x 18 columns]"
      ]
     },
     "execution_count": 26,
     "metadata": {},
     "output_type": "execute_result"
    }
   ],
   "source": [
    "df"
   ]
  },
  {
   "cell_type": "code",
   "execution_count": 27,
   "metadata": {},
   "outputs": [
    {
     "data": {
      "application/vnd.plotly.v1+json": {
       "config": {
        "plotlyServerURL": "https://plot.ly"
       },
       "data": [
        {
         "line": {
          "color": "#FC1CBF",
          "dash": "dot"
         },
         "name": "normal",
         "type": "scatter",
         "x": [
          0,
          1,
          1,
          1,
          1,
          1,
          1,
          2,
          2,
          2,
          2,
          2,
          2,
          3,
          3,
          3,
          3,
          3,
          3,
          4,
          4,
          4,
          4,
          4,
          4,
          5,
          5,
          5,
          5,
          5,
          5,
          6,
          6,
          6,
          6,
          6,
          6,
          7,
          7,
          7,
          7,
          7,
          7,
          8,
          8,
          8,
          8,
          8,
          8,
          9,
          9,
          9,
          9,
          9,
          9,
          10,
          10,
          10,
          10,
          10,
          10,
          11,
          11,
          11,
          11,
          11,
          11,
          12,
          12,
          12,
          12,
          12,
          12,
          13,
          13,
          13,
          13,
          13,
          13,
          14,
          14,
          14,
          14,
          14,
          14,
          15,
          15,
          15,
          15,
          15,
          15,
          16,
          16,
          16,
          16,
          16,
          16,
          17,
          17,
          17,
          17,
          17,
          17,
          18,
          18,
          18,
          18,
          18,
          18,
          19,
          19,
          19,
          19,
          19,
          19,
          20,
          20,
          20,
          20,
          20,
          20,
          21,
          21,
          21,
          21,
          21,
          21,
          22,
          22,
          22,
          22,
          22,
          22,
          23,
          23,
          23,
          23,
          23,
          23,
          24,
          24,
          24,
          24,
          24,
          24,
          25,
          25,
          25,
          25,
          25,
          25,
          26,
          26,
          26,
          26,
          26,
          26,
          27,
          27,
          27,
          27,
          27,
          27,
          28,
          28,
          28,
          28,
          28,
          28,
          29,
          29,
          29,
          29,
          29,
          29,
          30,
          30,
          30,
          30,
          30,
          30,
          31,
          31,
          31,
          31,
          31,
          31,
          32,
          32,
          32,
          32,
          32,
          32,
          33,
          33,
          33,
          33,
          33,
          33,
          34,
          34,
          34,
          34,
          34,
          34,
          35,
          35,
          35,
          35,
          35,
          35,
          36,
          36,
          36,
          36,
          36,
          36,
          37,
          37,
          37,
          37,
          37,
          37,
          38,
          38,
          38,
          38,
          38,
          38,
          39,
          39,
          39,
          39,
          39,
          39,
          40,
          40,
          40,
          40,
          40,
          40,
          41,
          41,
          41,
          41,
          41,
          41,
          42,
          42,
          42,
          42,
          42,
          42,
          43,
          43,
          43,
          43,
          43,
          43,
          44,
          44,
          44,
          44,
          44,
          44,
          45,
          45,
          45,
          45,
          45,
          45,
          46,
          46,
          46,
          46,
          46,
          46,
          47,
          47,
          47,
          47,
          47,
          47,
          48,
          48,
          48,
          48,
          48,
          48,
          49,
          49,
          49,
          49,
          49,
          49,
          50,
          50,
          50,
          50,
          50,
          50,
          51,
          51,
          51,
          51,
          51,
          51,
          52,
          52,
          52,
          52,
          52,
          52,
          53,
          53,
          53,
          53,
          53,
          53,
          54,
          54,
          54,
          54,
          54,
          54,
          55,
          55,
          55,
          55,
          55,
          55,
          56,
          56,
          56,
          56,
          56,
          56,
          57,
          57,
          57,
          57,
          57,
          57,
          58,
          58,
          58,
          58,
          58,
          58,
          59,
          59,
          59,
          59,
          59,
          59,
          60,
          60,
          60,
          60,
          60,
          60,
          61,
          61,
          61,
          61,
          61,
          61,
          62,
          62,
          62,
          62,
          62,
          62,
          63,
          63,
          63,
          63,
          63,
          63,
          64,
          64,
          64,
          64,
          64,
          64,
          65,
          65,
          65,
          65,
          65,
          65,
          66,
          66,
          66,
          66,
          66,
          66,
          67,
          67,
          67,
          67,
          67,
          67,
          68,
          68,
          68,
          68,
          68,
          68,
          69,
          69,
          69,
          69,
          69,
          69,
          70,
          70,
          70,
          70,
          70,
          70,
          71,
          71,
          71,
          71,
          71,
          71,
          72,
          72,
          72,
          72,
          72,
          72,
          73,
          73,
          73,
          73,
          73,
          73,
          74,
          74,
          74,
          74,
          74,
          74,
          75,
          75,
          75,
          75,
          75,
          75,
          76,
          76,
          76,
          76,
          76,
          76,
          77,
          77,
          77,
          77,
          77,
          77,
          78,
          78,
          78,
          78,
          78,
          78,
          79,
          79,
          79,
          79,
          79,
          79,
          80,
          80,
          80,
          80,
          80,
          80,
          81,
          81,
          81,
          81,
          81,
          81,
          82,
          82,
          82,
          82,
          82,
          82,
          83,
          83,
          83,
          83,
          83,
          83,
          84,
          84,
          84,
          84,
          84,
          84,
          85,
          85,
          85,
          85,
          85,
          85,
          86,
          86,
          86,
          86,
          86,
          86,
          87,
          87,
          87,
          87,
          87,
          87,
          88,
          88,
          88,
          88,
          88,
          88,
          89,
          89,
          89,
          89,
          89,
          89,
          90,
          90,
          90,
          90,
          90,
          90,
          91,
          91,
          91,
          91,
          91,
          91,
          92,
          92,
          92,
          92,
          92,
          92,
          93,
          93,
          93,
          93,
          93,
          93,
          94,
          94,
          94,
          94,
          94,
          94,
          95,
          95,
          95,
          95,
          95,
          95,
          96,
          96,
          96,
          96,
          96,
          96,
          97,
          97,
          97,
          97,
          97,
          97,
          98,
          98,
          98,
          98,
          98,
          98,
          99,
          99,
          99,
          99,
          99,
          99,
          100,
          100,
          100,
          100,
          100,
          100
         ],
         "y": [
          2966.014139358058,
          2966.014139358058,
          2966.014139358058,
          2966.014139358058,
          2966.014139358058,
          2966.014139358058,
          2966.014139358058,
          2997.0725383216213,
          2997.0725383216213,
          2997.0725383216213,
          2997.0725383216213,
          2997.0725383216213,
          2997.0725383216213,
          2961.151713429781,
          2961.151713429781,
          2961.151713429781,
          2961.151713429781,
          2961.151713429781,
          2961.151713429781,
          2951.594680474551,
          2951.594680474551,
          2951.594680474551,
          2951.594680474551,
          2951.594680474551,
          2951.594680474551,
          2945.528176367058,
          2945.528176367058,
          2945.528176367058,
          2945.528176367058,
          2945.528176367058,
          2945.528176367058,
          2983.750465837443,
          2983.750465837443,
          2983.750465837443,
          2983.750465837443,
          2983.750465837443,
          2983.750465837443,
          3003.562759115367,
          3003.562759115367,
          3003.562759115367,
          3003.562759115367,
          3003.562759115367,
          3003.562759115367,
          2949.155752789535,
          2949.155752789535,
          2949.155752789535,
          2949.155752789535,
          2949.155752789535,
          2949.155752789535,
          2959.279429668139,
          2959.279429668139,
          2959.279429668139,
          2959.279429668139,
          2959.279429668139,
          2959.279429668139,
          2980.4836126049695,
          2980.4836126049695,
          2980.4836126049695,
          2980.4836126049695,
          2980.4836126049695,
          2980.4836126049695,
          3054.7479616278038,
          3054.7479616278038,
          3054.7479616278038,
          3054.7479616278038,
          3054.7479616278038,
          3054.7479616278038,
          2982.734416298252,
          2982.734416298252,
          2982.734416298252,
          2982.734416298252,
          2982.734416298252,
          2982.734416298252,
          2954.7052375543617,
          2954.7052375543617,
          2954.7052375543617,
          2954.7052375543617,
          2954.7052375543617,
          2954.7052375543617,
          2998.625176093429,
          2998.625176093429,
          2998.625176093429,
          2998.625176093429,
          2998.625176093429,
          2998.625176093429,
          2939.1423722328136,
          2939.1423722328136,
          2939.1423722328136,
          2939.1423722328136,
          2939.1423722328136,
          2939.1423722328136,
          2885.6670096671205,
          2885.6670096671205,
          2885.6670096671205,
          2885.6670096671205,
          2885.6670096671205,
          2885.6670096671205,
          2898.247927620051,
          2898.247927620051,
          2898.247927620051,
          2898.247927620051,
          2898.247927620051,
          2898.247927620051,
          2930.135953623144,
          2930.135953623144,
          2930.135953623144,
          2930.135953623144,
          2930.135953623144,
          2930.135953623144,
          2897.143097606108,
          2897.143097606108,
          2897.143097606108,
          2897.143097606108,
          2897.143097606108,
          2897.143097606108,
          2910.6740352520233,
          2910.6740352520233,
          2910.6740352520233,
          2910.6740352520233,
          2910.6740352520233,
          2910.6740352520233,
          2907.946780204303,
          2907.946780204303,
          2907.946780204303,
          2907.946780204303,
          2907.946780204303,
          2907.946780204303,
          2959.1674626534136,
          2959.1674626534136,
          2959.1674626534136,
          2959.1674626534136,
          2959.1674626534136,
          2959.1674626534136,
          2951.924865566273,
          2951.924865566273,
          2951.924865566273,
          2951.924865566273,
          2951.924865566273,
          2951.924865566273,
          2982.8564955058673,
          2982.8564955058673,
          2982.8564955058673,
          2982.8564955058673,
          2982.8564955058673,
          2982.8564955058673,
          2940.97183861955,
          2940.97183861955,
          2940.97183861955,
          2940.97183861955,
          2940.97183861955,
          2940.97183861955,
          2926.7388798216944,
          2926.7388798216944,
          2926.7388798216944,
          2926.7388798216944,
          2926.7388798216944,
          2926.7388798216944,
          2915.9191366473915,
          2915.9191366473915,
          2915.9191366473915,
          2915.9191366473915,
          2915.9191366473915,
          2915.9191366473915,
          2952.662055119642,
          2952.662055119642,
          2952.662055119642,
          2952.662055119642,
          2952.662055119642,
          2952.662055119642,
          2967.9024572296576,
          2967.9024572296576,
          2967.9024572296576,
          2967.9024572296576,
          2967.9024572296576,
          2967.9024572296576,
          2931.946581973394,
          2931.946581973394,
          2931.946581973394,
          2931.946581973394,
          2931.946581973394,
          2931.946581973394,
          2951.1668756883255,
          2951.1668756883255,
          2951.1668756883255,
          2951.1668756883255,
          2951.1668756883255,
          2951.1668756883255,
          2973.8192012794816,
          2973.8192012794816,
          2973.8192012794816,
          2973.8192012794816,
          2973.8192012794816,
          2973.8192012794816,
          2962.5516363666393,
          2962.5516363666393,
          2962.5516363666393,
          2962.5516363666393,
          2962.5516363666393,
          2962.5516363666393,
          2945.6879981273332,
          2945.6879981273332,
          2945.6879981273332,
          2945.6879981273332,
          2945.6879981273332,
          2945.6879981273332,
          2931.3021689011384,
          2931.3021689011384,
          2931.3021689011384,
          2931.3021689011384,
          2931.3021689011384,
          2931.3021689011384,
          2859.186999719855,
          2859.186999719855,
          2859.186999719855,
          2859.186999719855,
          2859.186999719855,
          2859.186999719855,
          2859.559984322321,
          2859.559984322321,
          2859.559984322321,
          2859.559984322321,
          2859.559984322321,
          2859.559984322321,
          2861.7173918982617,
          2861.7173918982617,
          2861.7173918982617,
          2861.7173918982617,
          2861.7173918982617,
          2861.7173918982617,
          2821.5750455588577,
          2821.5750455588577,
          2821.5750455588577,
          2821.5750455588577,
          2821.5750455588577,
          2821.5750455588577,
          2843.312386349718,
          2843.312386349718,
          2843.312386349718,
          2843.312386349718,
          2843.312386349718,
          2843.312386349718,
          2783.691289584554,
          2783.691289584554,
          2783.691289584554,
          2783.691289584554,
          2783.691289584554,
          2783.691289584554,
          2755.681018117454,
          2755.681018117454,
          2755.681018117454,
          2755.681018117454,
          2755.681018117454,
          2755.681018117454,
          2730.638456823792,
          2730.638456823792,
          2730.638456823792,
          2730.638456823792,
          2730.638456823792,
          2730.638456823792,
          2800.3578338805737,
          2800.3578338805737,
          2800.3578338805737,
          2800.3578338805737,
          2800.3578338805737,
          2800.3578338805737,
          2732.1188455670526,
          2732.1188455670526,
          2732.1188455670526,
          2732.1188455670526,
          2732.1188455670526,
          2732.1188455670526,
          2747.0656609220223,
          2747.0656609220223,
          2747.0656609220223,
          2747.0656609220223,
          2747.0656609220223,
          2747.0656609220223,
          2776.6326717339516,
          2776.6326717339516,
          2776.6326717339516,
          2776.6326717339516,
          2776.6326717339516,
          2776.6326717339516,
          2784.5085560561843,
          2784.5085560561843,
          2784.5085560561843,
          2784.5085560561843,
          2784.5085560561843,
          2784.5085560561843,
          2823.3385188623456,
          2823.3385188623456,
          2823.3385188623456,
          2823.3385188623456,
          2823.3385188623456,
          2823.3385188623456,
          2778.1505302512305,
          2778.1505302512305,
          2778.1505302512305,
          2778.1505302512305,
          2778.1505302512305,
          2778.1505302512305,
          2683.837682434845,
          2683.837682434845,
          2683.837682434845,
          2683.837682434845,
          2683.837682434845,
          2683.837682434845,
          2706.766529017427,
          2706.766529017427,
          2706.766529017427,
          2706.766529017427,
          2706.766529017427,
          2706.766529017427,
          2654.213864582017,
          2654.213864582017,
          2654.213864582017,
          2654.213864582017,
          2654.213864582017,
          2654.213864582017,
          2635.129124996558,
          2635.129124996558,
          2635.129124996558,
          2635.129124996558,
          2635.129124996558,
          2635.129124996558,
          2585.4341101541204,
          2585.4341101541204,
          2585.4341101541204,
          2585.4341101541204,
          2585.4341101541204,
          2585.4341101541204,
          2617.2696350122337,
          2617.2696350122337,
          2617.2696350122337,
          2617.2696350122337,
          2617.2696350122337,
          2617.2696350122337,
          2644.087116174389,
          2644.087116174389,
          2644.087116174389,
          2644.087116174389,
          2644.087116174389,
          2644.087116174389,
          2609.942839547709,
          2609.942839547709,
          2609.942839547709,
          2609.942839547709,
          2609.942839547709,
          2609.942839547709,
          2638.2776382922493,
          2638.2776382922493,
          2638.2776382922493,
          2638.2776382922493,
          2638.2776382922493,
          2638.2776382922493,
          2636.5419311823975,
          2636.5419311823975,
          2636.5419311823975,
          2636.5419311823975,
          2636.5419311823975,
          2636.5419311823975,
          2624.7996033763725,
          2624.7996033763725,
          2624.7996033763725,
          2624.7996033763725,
          2624.7996033763725,
          2624.7996033763725,
          2620.6495116915758,
          2620.6495116915758,
          2620.6495116915758,
          2620.6495116915758,
          2620.6495116915758,
          2620.6495116915758,
          2606.512036844132,
          2606.512036844132,
          2606.512036844132,
          2606.512036844132,
          2606.512036844132,
          2606.512036844132,
          2623.8546094418753,
          2623.8546094418753,
          2623.8546094418753,
          2623.8546094418753,
          2623.8546094418753,
          2623.8546094418753,
          2629.498211565651,
          2629.498211565651,
          2629.498211565651,
          2629.498211565651,
          2629.498211565651,
          2629.498211565651,
          2609.7800107166086,
          2609.7800107166086,
          2609.7800107166086,
          2609.7800107166086,
          2609.7800107166086,
          2609.7800107166086,
          2642.23740845461,
          2642.23740845461,
          2642.23740845461,
          2642.23740845461,
          2642.23740845461,
          2642.23740845461,
          2612.4821068994656,
          2612.4821068994656,
          2612.4821068994656,
          2612.4821068994656,
          2612.4821068994656,
          2612.4821068994656,
          2617.309623350085,
          2617.309623350085,
          2617.309623350085,
          2617.309623350085,
          2617.309623350085,
          2617.309623350085,
          2627.3602585958324,
          2627.3602585958324,
          2627.3602585958324,
          2627.3602585958324,
          2627.3602585958324,
          2627.3602585958324,
          2678.081272229021,
          2678.081272229021,
          2678.081272229021,
          2678.081272229021,
          2678.081272229021,
          2678.081272229021,
          2652.4897352275902,
          2652.4897352275902,
          2652.4897352275902,
          2652.4897352275902,
          2652.4897352275902,
          2652.4897352275902,
          2713.4197018128325,
          2713.4197018128325,
          2713.4197018128325,
          2713.4197018128325,
          2713.4197018128325,
          2713.4197018128325,
          2714.0917701994813,
          2714.0917701994813,
          2714.0917701994813,
          2714.0917701994813,
          2714.0917701994813,
          2714.0917701994813,
          2700.5457028644505,
          2700.5457028644505,
          2700.5457028644505,
          2700.5457028644505,
          2700.5457028644505,
          2700.5457028644505,
          2668.6131400283903,
          2668.6131400283903,
          2668.6131400283903,
          2668.6131400283903,
          2668.6131400283903,
          2668.6131400283903,
          2685.126266561372,
          2685.126266561372,
          2685.126266561372,
          2685.126266561372,
          2685.126266561372,
          2685.126266561372,
          2680.9884732369,
          2680.9884732369,
          2680.9884732369,
          2680.9884732369,
          2680.9884732369,
          2680.9884732369,
          2632.5336425219525,
          2632.5336425219525,
          2632.5336425219525,
          2632.5336425219525,
          2632.5336425219525,
          2632.5336425219525,
          2583.1660056438245,
          2583.1660056438245,
          2583.1660056438245,
          2583.1660056438245,
          2583.1660056438245,
          2583.1660056438245,
          2555.8384317939526,
          2555.8384317939526,
          2555.8384317939526,
          2555.8384317939526,
          2555.8384317939526,
          2555.8384317939526,
          2523.8969117111474,
          2523.8969117111474,
          2523.8969117111474,
          2523.8969117111474,
          2523.8969117111474,
          2523.8969117111474,
          2559.9261472512444,
          2559.9261472512444,
          2559.9261472512444,
          2559.9261472512444,
          2559.9261472512444,
          2559.9261472512444,
          2606.9495224352468,
          2606.9495224352468,
          2606.9495224352468,
          2606.9495224352468,
          2606.9495224352468,
          2606.9495224352468,
          2634.4906721684524,
          2634.4906721684524,
          2634.4906721684524,
          2634.4906721684524,
          2634.4906721684524,
          2634.4906721684524,
          2642.406794121155,
          2642.406794121155,
          2642.406794121155,
          2642.406794121155,
          2642.406794121155,
          2642.406794121155,
          2620.1026658981136,
          2620.1026658981136,
          2620.1026658981136,
          2620.1026658981136,
          2620.1026658981136,
          2620.1026658981136,
          2616.38991262599,
          2616.38991262599,
          2616.38991262599,
          2616.38991262599,
          2616.38991262599,
          2616.38991262599,
          2644.636893781453,
          2644.636893781453,
          2644.636893781453,
          2644.636893781453,
          2644.636893781453,
          2644.636893781453,
          2720.848655104127,
          2720.848655104127,
          2720.848655104127,
          2720.848655104127,
          2720.848655104127,
          2720.848655104127,
          2750.222507684302,
          2750.222507684302,
          2750.222507684302,
          2750.222507684302,
          2750.222507684302,
          2750.222507684302,
          2733.7110292489624,
          2733.7110292489624,
          2733.7110292489624,
          2733.7110292489624,
          2733.7110292489624,
          2733.7110292489624,
          2729.470939559963,
          2729.470939559963,
          2729.470939559963,
          2729.470939559963,
          2729.470939559963,
          2729.470939559963,
          2705.2257692277317,
          2705.2257692277317,
          2705.2257692277317,
          2705.2257692277317,
          2705.2257692277317,
          2705.2257692277317,
          2669.466438228752,
          2669.466438228752,
          2669.466438228752,
          2669.466438228752,
          2669.466438228752,
          2669.466438228752,
          2656.7392536772077,
          2656.7392536772077,
          2656.7392536772077,
          2656.7392536772077,
          2656.7392536772077,
          2656.7392536772077,
          2658.6462549864254,
          2658.6462549864254,
          2658.6462549864254,
          2658.6462549864254,
          2658.6462549864254,
          2658.6462549864254,
          2723.6759854199418,
          2723.6759854199418,
          2723.6759854199418,
          2723.6759854199418,
          2723.6759854199418,
          2723.6759854199418,
          2720.101724304528,
          2720.101724304528,
          2720.101724304528,
          2720.101724304528,
          2720.101724304528,
          2720.101724304528,
          2766.76428639409,
          2766.76428639409,
          2766.76428639409,
          2766.76428639409,
          2766.76428639409,
          2766.76428639409
         ]
        }
       ],
       "layout": {
        "font": {
         "color": "black",
         "family": "Arial",
         "size": 18
        },
        "hovermode": "x unified",
        "legend": {
         "font": {
          "color": "black",
          "size": 18
         },
         "orientation": "h",
         "x": 0.5,
         "xanchor": "center",
         "y": -0.4,
         "yanchor": "bottom"
        },
        "paper_bgcolor": "rgba(255, 255, 255, 1)",
        "plot_bgcolor": "rgba(255, 255, 255, 1)",
        "template": {
         "data": {
          "bar": [
           {
            "error_x": {
             "color": "#2a3f5f"
            },
            "error_y": {
             "color": "#2a3f5f"
            },
            "marker": {
             "line": {
              "color": "white",
              "width": 0.5
             }
            },
            "type": "bar"
           }
          ],
          "barpolar": [
           {
            "marker": {
             "line": {
              "color": "white",
              "width": 0.5
             }
            },
            "type": "barpolar"
           }
          ],
          "carpet": [
           {
            "aaxis": {
             "endlinecolor": "#2a3f5f",
             "gridcolor": "#C8D4E3",
             "linecolor": "#C8D4E3",
             "minorgridcolor": "#C8D4E3",
             "startlinecolor": "#2a3f5f"
            },
            "baxis": {
             "endlinecolor": "#2a3f5f",
             "gridcolor": "#C8D4E3",
             "linecolor": "#C8D4E3",
             "minorgridcolor": "#C8D4E3",
             "startlinecolor": "#2a3f5f"
            },
            "type": "carpet"
           }
          ],
          "choropleth": [
           {
            "colorbar": {
             "outlinewidth": 0,
             "ticks": ""
            },
            "type": "choropleth"
           }
          ],
          "contour": [
           {
            "colorbar": {
             "outlinewidth": 0,
             "ticks": ""
            },
            "colorscale": [
             [
              0,
              "#0d0887"
             ],
             [
              0.1111111111111111,
              "#46039f"
             ],
             [
              0.2222222222222222,
              "#7201a8"
             ],
             [
              0.3333333333333333,
              "#9c179e"
             ],
             [
              0.4444444444444444,
              "#bd3786"
             ],
             [
              0.5555555555555556,
              "#d8576b"
             ],
             [
              0.6666666666666666,
              "#ed7953"
             ],
             [
              0.7777777777777778,
              "#fb9f3a"
             ],
             [
              0.8888888888888888,
              "#fdca26"
             ],
             [
              1,
              "#f0f921"
             ]
            ],
            "type": "contour"
           }
          ],
          "contourcarpet": [
           {
            "colorbar": {
             "outlinewidth": 0,
             "ticks": ""
            },
            "type": "contourcarpet"
           }
          ],
          "heatmap": [
           {
            "colorbar": {
             "outlinewidth": 0,
             "ticks": ""
            },
            "colorscale": [
             [
              0,
              "#0d0887"
             ],
             [
              0.1111111111111111,
              "#46039f"
             ],
             [
              0.2222222222222222,
              "#7201a8"
             ],
             [
              0.3333333333333333,
              "#9c179e"
             ],
             [
              0.4444444444444444,
              "#bd3786"
             ],
             [
              0.5555555555555556,
              "#d8576b"
             ],
             [
              0.6666666666666666,
              "#ed7953"
             ],
             [
              0.7777777777777778,
              "#fb9f3a"
             ],
             [
              0.8888888888888888,
              "#fdca26"
             ],
             [
              1,
              "#f0f921"
             ]
            ],
            "type": "heatmap"
           }
          ],
          "heatmapgl": [
           {
            "colorbar": {
             "outlinewidth": 0,
             "ticks": ""
            },
            "colorscale": [
             [
              0,
              "#0d0887"
             ],
             [
              0.1111111111111111,
              "#46039f"
             ],
             [
              0.2222222222222222,
              "#7201a8"
             ],
             [
              0.3333333333333333,
              "#9c179e"
             ],
             [
              0.4444444444444444,
              "#bd3786"
             ],
             [
              0.5555555555555556,
              "#d8576b"
             ],
             [
              0.6666666666666666,
              "#ed7953"
             ],
             [
              0.7777777777777778,
              "#fb9f3a"
             ],
             [
              0.8888888888888888,
              "#fdca26"
             ],
             [
              1,
              "#f0f921"
             ]
            ],
            "type": "heatmapgl"
           }
          ],
          "histogram": [
           {
            "marker": {
             "colorbar": {
              "outlinewidth": 0,
              "ticks": ""
             }
            },
            "type": "histogram"
           }
          ],
          "histogram2d": [
           {
            "colorbar": {
             "outlinewidth": 0,
             "ticks": ""
            },
            "colorscale": [
             [
              0,
              "#0d0887"
             ],
             [
              0.1111111111111111,
              "#46039f"
             ],
             [
              0.2222222222222222,
              "#7201a8"
             ],
             [
              0.3333333333333333,
              "#9c179e"
             ],
             [
              0.4444444444444444,
              "#bd3786"
             ],
             [
              0.5555555555555556,
              "#d8576b"
             ],
             [
              0.6666666666666666,
              "#ed7953"
             ],
             [
              0.7777777777777778,
              "#fb9f3a"
             ],
             [
              0.8888888888888888,
              "#fdca26"
             ],
             [
              1,
              "#f0f921"
             ]
            ],
            "type": "histogram2d"
           }
          ],
          "histogram2dcontour": [
           {
            "colorbar": {
             "outlinewidth": 0,
             "ticks": ""
            },
            "colorscale": [
             [
              0,
              "#0d0887"
             ],
             [
              0.1111111111111111,
              "#46039f"
             ],
             [
              0.2222222222222222,
              "#7201a8"
             ],
             [
              0.3333333333333333,
              "#9c179e"
             ],
             [
              0.4444444444444444,
              "#bd3786"
             ],
             [
              0.5555555555555556,
              "#d8576b"
             ],
             [
              0.6666666666666666,
              "#ed7953"
             ],
             [
              0.7777777777777778,
              "#fb9f3a"
             ],
             [
              0.8888888888888888,
              "#fdca26"
             ],
             [
              1,
              "#f0f921"
             ]
            ],
            "type": "histogram2dcontour"
           }
          ],
          "mesh3d": [
           {
            "colorbar": {
             "outlinewidth": 0,
             "ticks": ""
            },
            "type": "mesh3d"
           }
          ],
          "parcoords": [
           {
            "line": {
             "colorbar": {
              "outlinewidth": 0,
              "ticks": ""
             }
            },
            "type": "parcoords"
           }
          ],
          "pie": [
           {
            "automargin": true,
            "type": "pie"
           }
          ],
          "scatter": [
           {
            "marker": {
             "colorbar": {
              "outlinewidth": 0,
              "ticks": ""
             }
            },
            "type": "scatter"
           }
          ],
          "scatter3d": [
           {
            "line": {
             "colorbar": {
              "outlinewidth": 0,
              "ticks": ""
             }
            },
            "marker": {
             "colorbar": {
              "outlinewidth": 0,
              "ticks": ""
             }
            },
            "type": "scatter3d"
           }
          ],
          "scattercarpet": [
           {
            "marker": {
             "colorbar": {
              "outlinewidth": 0,
              "ticks": ""
             }
            },
            "type": "scattercarpet"
           }
          ],
          "scattergeo": [
           {
            "marker": {
             "colorbar": {
              "outlinewidth": 0,
              "ticks": ""
             }
            },
            "type": "scattergeo"
           }
          ],
          "scattergl": [
           {
            "marker": {
             "colorbar": {
              "outlinewidth": 0,
              "ticks": ""
             }
            },
            "type": "scattergl"
           }
          ],
          "scattermapbox": [
           {
            "marker": {
             "colorbar": {
              "outlinewidth": 0,
              "ticks": ""
             }
            },
            "type": "scattermapbox"
           }
          ],
          "scatterpolar": [
           {
            "marker": {
             "colorbar": {
              "outlinewidth": 0,
              "ticks": ""
             }
            },
            "type": "scatterpolar"
           }
          ],
          "scatterpolargl": [
           {
            "marker": {
             "colorbar": {
              "outlinewidth": 0,
              "ticks": ""
             }
            },
            "type": "scatterpolargl"
           }
          ],
          "scatterternary": [
           {
            "marker": {
             "colorbar": {
              "outlinewidth": 0,
              "ticks": ""
             }
            },
            "type": "scatterternary"
           }
          ],
          "surface": [
           {
            "colorbar": {
             "outlinewidth": 0,
             "ticks": ""
            },
            "colorscale": [
             [
              0,
              "#0d0887"
             ],
             [
              0.1111111111111111,
              "#46039f"
             ],
             [
              0.2222222222222222,
              "#7201a8"
             ],
             [
              0.3333333333333333,
              "#9c179e"
             ],
             [
              0.4444444444444444,
              "#bd3786"
             ],
             [
              0.5555555555555556,
              "#d8576b"
             ],
             [
              0.6666666666666666,
              "#ed7953"
             ],
             [
              0.7777777777777778,
              "#fb9f3a"
             ],
             [
              0.8888888888888888,
              "#fdca26"
             ],
             [
              1,
              "#f0f921"
             ]
            ],
            "type": "surface"
           }
          ],
          "table": [
           {
            "cells": {
             "fill": {
              "color": "#EBF0F8"
             },
             "line": {
              "color": "white"
             }
            },
            "header": {
             "fill": {
              "color": "#C8D4E3"
             },
             "line": {
              "color": "white"
             }
            },
            "type": "table"
           }
          ]
         },
         "layout": {
          "annotationdefaults": {
           "arrowcolor": "#2a3f5f",
           "arrowhead": 0,
           "arrowwidth": 1
          },
          "autotypenumbers": "strict",
          "coloraxis": {
           "colorbar": {
            "outlinewidth": 0,
            "ticks": ""
           }
          },
          "colorscale": {
           "diverging": [
            [
             0,
             "#8e0152"
            ],
            [
             0.1,
             "#c51b7d"
            ],
            [
             0.2,
             "#de77ae"
            ],
            [
             0.3,
             "#f1b6da"
            ],
            [
             0.4,
             "#fde0ef"
            ],
            [
             0.5,
             "#f7f7f7"
            ],
            [
             0.6,
             "#e6f5d0"
            ],
            [
             0.7,
             "#b8e186"
            ],
            [
             0.8,
             "#7fbc41"
            ],
            [
             0.9,
             "#4d9221"
            ],
            [
             1,
             "#276419"
            ]
           ],
           "sequential": [
            [
             0,
             "#0d0887"
            ],
            [
             0.1111111111111111,
             "#46039f"
            ],
            [
             0.2222222222222222,
             "#7201a8"
            ],
            [
             0.3333333333333333,
             "#9c179e"
            ],
            [
             0.4444444444444444,
             "#bd3786"
            ],
            [
             0.5555555555555556,
             "#d8576b"
            ],
            [
             0.6666666666666666,
             "#ed7953"
            ],
            [
             0.7777777777777778,
             "#fb9f3a"
            ],
            [
             0.8888888888888888,
             "#fdca26"
            ],
            [
             1,
             "#f0f921"
            ]
           ],
           "sequentialminus": [
            [
             0,
             "#0d0887"
            ],
            [
             0.1111111111111111,
             "#46039f"
            ],
            [
             0.2222222222222222,
             "#7201a8"
            ],
            [
             0.3333333333333333,
             "#9c179e"
            ],
            [
             0.4444444444444444,
             "#bd3786"
            ],
            [
             0.5555555555555556,
             "#d8576b"
            ],
            [
             0.6666666666666666,
             "#ed7953"
            ],
            [
             0.7777777777777778,
             "#fb9f3a"
            ],
            [
             0.8888888888888888,
             "#fdca26"
            ],
            [
             1,
             "#f0f921"
            ]
           ]
          },
          "colorway": [
           "#636efa",
           "#EF553B",
           "#00cc96",
           "#ab63fa",
           "#FFA15A",
           "#19d3f3",
           "#FF6692",
           "#B6E880",
           "#FF97FF",
           "#FECB52"
          ],
          "font": {
           "color": "#2a3f5f"
          },
          "geo": {
           "bgcolor": "white",
           "lakecolor": "white",
           "landcolor": "white",
           "showlakes": true,
           "showland": true,
           "subunitcolor": "#C8D4E3"
          },
          "hoverlabel": {
           "align": "left"
          },
          "hovermode": "closest",
          "mapbox": {
           "style": "light"
          },
          "paper_bgcolor": "white",
          "plot_bgcolor": "white",
          "polar": {
           "angularaxis": {
            "gridcolor": "#EBF0F8",
            "linecolor": "#EBF0F8",
            "ticks": ""
           },
           "bgcolor": "white",
           "radialaxis": {
            "gridcolor": "#EBF0F8",
            "linecolor": "#EBF0F8",
            "ticks": ""
           }
          },
          "scene": {
           "xaxis": {
            "backgroundcolor": "white",
            "gridcolor": "#DFE8F3",
            "gridwidth": 2,
            "linecolor": "#EBF0F8",
            "showbackground": true,
            "ticks": "",
            "zerolinecolor": "#EBF0F8"
           },
           "yaxis": {
            "backgroundcolor": "white",
            "gridcolor": "#DFE8F3",
            "gridwidth": 2,
            "linecolor": "#EBF0F8",
            "showbackground": true,
            "ticks": "",
            "zerolinecolor": "#EBF0F8"
           },
           "zaxis": {
            "backgroundcolor": "white",
            "gridcolor": "#DFE8F3",
            "gridwidth": 2,
            "linecolor": "#EBF0F8",
            "showbackground": true,
            "ticks": "",
            "zerolinecolor": "#EBF0F8"
           }
          },
          "shapedefaults": {
           "line": {
            "color": "#2a3f5f"
           }
          },
          "ternary": {
           "aaxis": {
            "gridcolor": "#DFE8F3",
            "linecolor": "#A2B1C6",
            "ticks": ""
           },
           "baxis": {
            "gridcolor": "#DFE8F3",
            "linecolor": "#A2B1C6",
            "ticks": ""
           },
           "bgcolor": "white",
           "caxis": {
            "gridcolor": "#DFE8F3",
            "linecolor": "#A2B1C6",
            "ticks": ""
           }
          },
          "title": {
           "x": 0.05
          },
          "xaxis": {
           "automargin": true,
           "gridcolor": "#EBF0F8",
           "linecolor": "#EBF0F8",
           "ticks": "",
           "title": {
            "standoff": 15
           },
           "zerolinecolor": "#EBF0F8",
           "zerolinewidth": 2
          },
          "yaxis": {
           "automargin": true,
           "gridcolor": "#EBF0F8",
           "linecolor": "#EBF0F8",
           "ticks": "",
           "title": {
            "standoff": 15
           },
           "zerolinecolor": "#EBF0F8",
           "zerolinewidth": 2
          }
         }
        },
        "title": {
         "text": "ETH Token Price",
         "x": 0.5,
         "xanchor": "center",
         "y": 0.9,
         "yanchor": "top"
        },
        "xaxis": {
         "title": {
          "text": "Date"
         }
        },
        "yaxis": {
         "title": {
          "text": "USD"
         }
        }
       }
      }
     },
     "metadata": {},
     "output_type": "display_data"
    }
   ],
   "source": [
    "visualizations.plot_token_price_per_subset(\n",
    "    df,\n",
    "    scenario_names={\n",
    "    0: \"normal\",\n",
    "}\n",
    ")"
   ]
  },
  {
   "cell_type": "code",
   "execution_count": 28,
   "metadata": {},
   "outputs": [
    {
     "data": {
      "application/vnd.plotly.v1+json": {
       "config": {
        "plotlyServerURL": "https://plot.ly"
       },
       "data": [
        {
         "line": {
          "color": "#FC1CBF",
          "dash": "dot"
         },
         "name": "normal",
         "type": "scatter",
         "x": [
          1,
          1,
          1,
          1,
          1,
          1,
          2,
          2,
          2,
          2,
          2,
          2,
          3,
          3,
          3,
          3,
          3,
          3,
          4,
          4,
          4,
          4,
          4,
          4,
          5,
          5,
          5,
          5,
          5,
          5,
          6,
          6,
          6,
          6,
          6,
          6,
          7,
          7,
          7,
          7,
          7,
          7,
          8,
          8,
          8,
          8,
          8,
          8,
          9,
          9,
          9,
          9,
          9,
          9,
          10,
          10,
          10,
          10,
          10,
          10,
          11,
          11,
          11,
          11,
          11,
          11,
          12,
          12,
          12,
          12,
          12,
          12,
          13,
          13,
          13,
          13,
          13,
          13,
          14,
          14,
          14,
          14,
          14,
          14,
          15,
          15,
          15,
          15,
          15,
          15,
          16,
          16,
          16,
          16,
          16,
          16,
          17,
          17,
          17,
          17,
          17,
          17,
          18,
          18,
          18,
          18,
          18,
          18,
          19,
          19,
          19,
          19,
          19,
          19,
          20,
          20,
          20,
          20,
          20,
          20,
          21,
          21,
          21,
          21,
          21,
          21,
          22,
          22,
          22,
          22,
          22,
          22,
          23,
          23,
          23,
          23,
          23,
          23,
          24,
          24,
          24,
          24,
          24,
          24,
          25,
          25,
          25,
          25,
          25,
          25,
          26,
          26,
          26,
          26,
          26,
          26,
          27,
          27,
          27,
          27,
          27,
          27,
          28,
          28,
          28,
          28,
          28,
          28,
          29,
          29,
          29,
          29,
          29,
          29,
          30,
          30,
          30,
          30,
          30,
          30,
          31,
          31,
          31,
          31,
          31,
          31,
          32,
          32,
          32,
          32,
          32,
          32,
          33,
          33,
          33,
          33,
          33,
          33,
          34,
          34,
          34,
          34,
          34,
          34,
          35,
          35,
          35,
          35,
          35,
          35,
          36,
          36,
          36,
          36,
          36,
          36,
          37,
          37,
          37,
          37,
          37,
          37,
          38,
          38,
          38,
          38,
          38,
          38,
          39,
          39,
          39,
          39,
          39,
          39,
          40,
          40,
          40,
          40,
          40,
          40,
          41,
          41,
          41,
          41,
          41,
          41,
          42,
          42,
          42,
          42,
          42,
          42,
          43,
          43,
          43,
          43,
          43,
          43,
          44,
          44,
          44,
          44,
          44,
          44,
          45,
          45,
          45,
          45,
          45,
          45,
          46,
          46,
          46,
          46,
          46,
          46,
          47,
          47,
          47,
          47,
          47,
          47,
          48,
          48,
          48,
          48,
          48,
          48,
          49,
          49,
          49,
          49,
          49,
          49,
          50,
          50,
          50,
          50,
          50,
          50,
          51,
          51,
          51,
          51,
          51,
          51,
          52,
          52,
          52,
          52,
          52,
          52,
          53,
          53,
          53,
          53,
          53,
          53,
          54,
          54,
          54,
          54,
          54,
          54,
          55,
          55,
          55,
          55,
          55,
          55,
          56,
          56,
          56,
          56,
          56,
          56,
          57,
          57,
          57,
          57,
          57,
          57,
          58,
          58,
          58,
          58,
          58,
          58,
          59,
          59,
          59,
          59,
          59,
          59,
          60,
          60,
          60,
          60,
          60,
          60,
          61,
          61,
          61,
          61,
          61,
          61,
          62,
          62,
          62,
          62,
          62,
          62,
          63,
          63,
          63,
          63,
          63,
          63,
          64,
          64,
          64,
          64,
          64,
          64,
          65,
          65,
          65,
          65,
          65,
          65,
          66,
          66,
          66,
          66,
          66,
          66,
          67,
          67,
          67,
          67,
          67,
          67,
          68,
          68,
          68,
          68,
          68,
          68,
          69,
          69,
          69,
          69,
          69,
          69,
          70,
          70,
          70,
          70,
          70,
          70,
          71,
          71,
          71,
          71,
          71,
          71,
          72,
          72,
          72,
          72,
          72,
          72,
          73,
          73,
          73,
          73,
          73,
          73,
          74,
          74,
          74,
          74,
          74,
          74,
          75,
          75,
          75,
          75,
          75,
          75,
          76,
          76,
          76,
          76,
          76,
          76,
          77,
          77,
          77,
          77,
          77,
          77,
          78,
          78,
          78,
          78,
          78,
          78,
          79,
          79,
          79,
          79,
          79,
          79,
          80,
          80,
          80,
          80,
          80,
          80,
          81,
          81,
          81,
          81,
          81,
          81,
          82,
          82,
          82,
          82,
          82,
          82,
          83,
          83,
          83,
          83,
          83,
          83,
          84,
          84,
          84,
          84,
          84,
          84,
          85,
          85,
          85,
          85,
          85,
          85,
          86,
          86,
          86,
          86,
          86,
          86,
          87,
          87,
          87,
          87,
          87,
          87,
          88,
          88,
          88,
          88,
          88,
          88,
          89,
          89,
          89,
          89,
          89,
          89,
          90,
          90,
          90,
          90,
          90,
          90,
          91,
          91,
          91,
          91,
          91,
          91,
          92,
          92,
          92,
          92,
          92,
          92,
          93,
          93,
          93,
          93,
          93,
          93,
          94,
          94,
          94,
          94,
          94,
          94,
          95,
          95,
          95,
          95,
          95,
          95,
          96,
          96,
          96,
          96,
          96,
          96,
          97,
          97,
          97,
          97,
          97,
          97,
          98,
          98,
          98,
          98,
          98,
          98,
          99,
          99,
          99,
          99,
          99,
          99,
          100,
          100,
          100,
          100,
          100,
          100
         ],
         "y": [
          0,
          0,
          0,
          34507035.80002773,
          34507035.80002773,
          34507035.80002773,
          34507035.80002773,
          34507035.80002773,
          34507035.80002773,
          34521928.57755005,
          34521928.57755005,
          34521928.57755005,
          34521928.57755005,
          34521928.57755005,
          34521928.57755005,
          34530594.66639727,
          34530594.66639727,
          34530594.66639727,
          34530594.66639727,
          34530594.66639727,
          34530594.66639727,
          34544995.439073786,
          34544995.439073786,
          34544995.439073786,
          34544995.439073786,
          34544995.439073786,
          34544995.439073786,
          34558919.13255496,
          34558919.13255496,
          34558919.13255496,
          34558919.13255496,
          34558919.13255496,
          34558919.13255496,
          34573256.98646894,
          34573256.98646894,
          34573256.98646894,
          34573256.98646894,
          34573256.98646894,
          34573256.98646894,
          34581875.2201553,
          34581875.2201553,
          34581875.2201553,
          34581875.2201553,
          34581875.2201553,
          34581875.2201553,
          34590753.05642467,
          34590753.05642467,
          34590753.05642467,
          34590753.05642467,
          34590753.05642467,
          34590753.05642467,
          34599755.18817461,
          34599755.18817461,
          34599755.18817461,
          34599755.18817461,
          34599755.18817461,
          34599755.18817461,
          34615015.51876181,
          34615015.51876181,
          34615015.51876181,
          34615015.51876181,
          34615015.51876181,
          34615015.51876181,
          34626985.99582655,
          34626985.99582655,
          34626985.99582655,
          34626985.99582655,
          34626985.99582655,
          34626985.99582655,
          34641551.4803217,
          34641551.4803217,
          34641551.4803217,
          34641551.4803217,
          34641551.4803217,
          34641551.4803217,
          34656194.13767101,
          34656194.13767101,
          34656194.13767101,
          34656194.13767101,
          34656194.13767101,
          34656194.13767101,
          34670943.71127316,
          34670943.71127316,
          34670943.71127316,
          34670943.71127316,
          34670943.71127316,
          34670943.71127316,
          34686229.63616727,
          34686229.63616727,
          34686229.63616727,
          34686229.63616727,
          34686229.63616727,
          34686229.63616727,
          34698468.973235644,
          34698468.973235644,
          34698468.973235644,
          34698468.973235644,
          34698468.973235644,
          34698468.973235644,
          34707628.071165614,
          34707628.071165614,
          34707628.071165614,
          34707628.071165614,
          34707628.071165614,
          34707628.071165614,
          34722832.657130584,
          34722832.657130584,
          34722832.657130584,
          34722832.657130584,
          34722832.657130584,
          34722832.657130584,
          34732445.11038239,
          34732445.11038239,
          34732445.11038239,
          34732445.11038239,
          34732445.11038239,
          34732445.11038239,
          34748165.3863952,
          34748165.3863952,
          34748165.3863952,
          34748165.3863952,
          34748165.3863952,
          34748165.3863952,
          34757151.941017486,
          34757151.941017486,
          34757151.941017486,
          34757151.941017486,
          34757151.941017486,
          34757151.941017486,
          34771032.0900452,
          34771032.0900452,
          34771032.0900452,
          34771032.0900452,
          34771032.0900452,
          34771032.0900452,
          34779422.54736595,
          34779422.54736595,
          34779422.54736595,
          34779422.54736595,
          34779422.54736595,
          34779422.54736595,
          34794586.33866951,
          34794586.33866951,
          34794586.33866951,
          34794586.33866951,
          34794586.33866951,
          34794586.33866951,
          34810287.066067874,
          34810287.066067874,
          34810287.066067874,
          34810287.066067874,
          34810287.066067874,
          34810287.066067874,
          34819796.97732685,
          34819796.97732685,
          34819796.97732685,
          34819796.97732685,
          34819796.97732685,
          34819796.97732685,
          34831512.59101833,
          34831512.59101833,
          34831512.59101833,
          34831512.59101833,
          34831512.59101833,
          34831512.59101833,
          34840615.91664882,
          34840615.91664882,
          34840615.91664882,
          34840615.91664882,
          34840615.91664882,
          34840615.91664882,
          34849519.4017169,
          34849519.4017169,
          34849519.4017169,
          34849519.4017169,
          34849519.4017169,
          34849519.4017169,
          34864234.49006867,
          34864234.49006867,
          34864234.49006867,
          34864234.49006867,
          34864234.49006867,
          34864234.49006867,
          34879037.91366364,
          34879037.91366364,
          34879037.91366364,
          34879037.91366364,
          34879037.91366364,
          34879037.91366364,
          34894313.3825008,
          34894313.3825008,
          34894313.3825008,
          34894313.3825008,
          34894313.3825008,
          34894313.3825008,
          34903165.02340311,
          34903165.02340311,
          34903165.02340311,
          34903165.02340311,
          34903165.02340311,
          34903165.02340311,
          34911291.270717725,
          34911291.270717725,
          34911291.270717725,
          34911291.270717725,
          34911291.270717725,
          34911291.270717725,
          34926110.17492285,
          34926110.17492285,
          34926110.17492285,
          34926110.17492285,
          34926110.17492285,
          34926110.17492285,
          34941245.98021521,
          34941245.98021521,
          34941245.98021521,
          34941245.98021521,
          34941245.98021521,
          34941245.98021521,
          34956593.03328785,
          34956593.03328785,
          34956593.03328785,
          34956593.03328785,
          34956593.03328785,
          34956593.03328785,
          34965622.635330796,
          34965622.635330796,
          34965622.635330796,
          34965622.635330796,
          34965622.635330796,
          34965622.635330796,
          34974686.52850208,
          34974686.52850208,
          34974686.52850208,
          34974686.52850208,
          34974686.52850208,
          34974686.52850208,
          34989101.171829954,
          34989101.171829954,
          34989101.171829954,
          34989101.171829954,
          34989101.171829954,
          34989101.171829954,
          35003494.83041477,
          35003494.83041477,
          35003494.83041477,
          35003494.83041477,
          35003494.83041477,
          35003494.83041477,
          35012734.728748634,
          35012734.728748634,
          35012734.728748634,
          35012734.728748634,
          35012734.728748634,
          35012734.728748634,
          35022574.93953334,
          35022574.93953334,
          35022574.93953334,
          35022574.93953334,
          35022574.93953334,
          35022574.93953334,
          35031521.01433778,
          35031521.01433778,
          35031521.01433778,
          35031521.01433778,
          35031521.01433778,
          35031521.01433778,
          35040179.30118025,
          35040179.30118025,
          35040179.30118025,
          35040179.30118025,
          35040179.30118025,
          35040179.30118025,
          35049045.4185763,
          35049045.4185763,
          35049045.4185763,
          35049045.4185763,
          35049045.4185763,
          35049045.4185763,
          35064334.0345897,
          35064334.0345897,
          35064334.0345897,
          35064334.0345897,
          35064334.0345897,
          35064334.0345897,
          35079700.23463421,
          35079700.23463421,
          35079700.23463421,
          35079700.23463421,
          35079700.23463421,
          35079700.23463421,
          35093938.195410535,
          35093938.195410535,
          35093938.195410535,
          35093938.195410535,
          35093938.195410535,
          35093938.195410535,
          35109362.67734341,
          35109362.67734341,
          35109362.67734341,
          35109362.67734341,
          35109362.67734341,
          35109362.67734341,
          35124217.901386544,
          35124217.901386544,
          35124217.901386544,
          35124217.901386544,
          35124217.901386544,
          35124217.901386544,
          35139310.55300822,
          35139310.55300822,
          35139310.55300822,
          35139310.55300822,
          35139310.55300822,
          35139310.55300822,
          35154892.09771597,
          35154892.09771597,
          35154892.09771597,
          35154892.09771597,
          35154892.09771597,
          35154892.09771597,
          35163352.68842525,
          35163352.68842525,
          35163352.68842525,
          35163352.68842525,
          35163352.68842525,
          35163352.68842525,
          35177411.84845477,
          35177411.84845477,
          35177411.84845477,
          35177411.84845477,
          35177411.84845477,
          35177411.84845477,
          35186931.000810504,
          35186931.000810504,
          35186931.000810504,
          35186931.000810504,
          35186931.000810504,
          35186931.000810504,
          35201906.11237397,
          35201906.11237397,
          35201906.11237397,
          35201906.11237397,
          35201906.11237397,
          35201906.11237397,
          35216710.239665896,
          35216710.239665896,
          35216710.239665896,
          35216710.239665896,
          35216710.239665896,
          35216710.239665896,
          35232170.5424631,
          35232170.5424631,
          35232170.5424631,
          35232170.5424631,
          35232170.5424631,
          35232170.5424631,
          35247769.830227554,
          35247769.830227554,
          35247769.830227554,
          35247769.830227554,
          35247769.830227554,
          35247769.830227554,
          35262991.03957085,
          35262991.03957085,
          35262991.03957085,
          35262991.03957085,
          35262991.03957085,
          35262991.03957085,
          35272354.71757901,
          35272354.71757901,
          35272354.71757901,
          35272354.71757901,
          35272354.71757901,
          35272354.71757901,
          35287380.867759496,
          35287380.867759496,
          35287380.867759496,
          35287380.867759496,
          35287380.867759496,
          35287380.867759496,
          35292495.45793177,
          35292495.45793177,
          35292495.45793177,
          35292495.45793177,
          35292495.45793177,
          35292495.45793177,
          35304399.60520044,
          35304399.60520044,
          35304399.60520044,
          35304399.60520044,
          35304399.60520044,
          35304399.60520044,
          35320087.76251963,
          35320087.76251963,
          35320087.76251963,
          35320087.76251963,
          35320087.76251963,
          35320087.76251963,
          35334934.265884034,
          35334934.265884034,
          35334934.265884034,
          35334934.265884034,
          35334934.265884034,
          35334934.265884034,
          35350204.33965037,
          35350204.33965037,
          35350204.33965037,
          35350204.33965037,
          35350204.33965037,
          35350204.33965037,
          35359782.434449896,
          35359782.434449896,
          35359782.434449896,
          35359782.434449896,
          35359782.434449896,
          35359782.434449896,
          35368948.37619017,
          35368948.37619017,
          35368948.37619017,
          35368948.37619017,
          35368948.37619017,
          35368948.37619017,
          35377910.93850617,
          35377910.93850617,
          35377910.93850617,
          35377910.93850617,
          35377910.93850617,
          35377910.93850617,
          35387217.0736056,
          35387217.0736056,
          35387217.0736056,
          35387217.0736056,
          35387217.0736056,
          35387217.0736056,
          35402368.70570659,
          35402368.70570659,
          35402368.70570659,
          35402368.70570659,
          35402368.70570659,
          35402368.70570659,
          35417966.77496756,
          35417966.77496756,
          35417966.77496756,
          35417966.77496756,
          35417966.77496756,
          35417966.77496756,
          35427035.61902727,
          35427035.61902727,
          35427035.61902727,
          35427035.61902727,
          35427035.61902727,
          35427035.61902727,
          35436056.68218203,
          35436056.68218203,
          35436056.68218203,
          35436056.68218203,
          35436056.68218203,
          35436056.68218203,
          35445344.73658422,
          35445344.73658422,
          35445344.73658422,
          35445344.73658422,
          35445344.73658422,
          35445344.73658422,
          35454216.2120742,
          35454216.2120742,
          35454216.2120742,
          35454216.2120742,
          35454216.2120742,
          35454216.2120742,
          35469809.10283022,
          35469809.10283022,
          35469809.10283022,
          35469809.10283022,
          35469809.10283022,
          35469809.10283022,
          35485231.83028419,
          35485231.83028419,
          35485231.83028419,
          35485231.83028419,
          35485231.83028419,
          35485231.83028419,
          35494569.70147236,
          35494569.70147236,
          35494569.70147236,
          35494569.70147236,
          35494569.70147236,
          35494569.70147236,
          35504109.37080161,
          35504109.37080161,
          35504109.37080161,
          35504109.37080161,
          35504109.37080161,
          35504109.37080161,
          35513321.28124665,
          35513321.28124665,
          35513321.28124665,
          35513321.28124665,
          35513321.28124665,
          35513321.28124665,
          35528728.56123635,
          35528728.56123635,
          35528728.56123635,
          35528728.56123635,
          35528728.56123635,
          35528728.56123635,
          35544274.527766965,
          35544274.527766965,
          35544274.527766965,
          35544274.527766965,
          35544274.527766965,
          35544274.527766965,
          35559348.55911797,
          35559348.55911797,
          35559348.55911797,
          35559348.55911797,
          35559348.55911797,
          35559348.55911797,
          35568575.65513313,
          35568575.65513313,
          35568575.65513313,
          35568575.65513313,
          35568575.65513313,
          35568575.65513313,
          35583454.18355058,
          35583454.18355058,
          35583454.18355058,
          35583454.18355058,
          35583454.18355058,
          35583454.18355058,
          35600027.60116308,
          35600027.60116308,
          35600027.60116308,
          35600027.60116308,
          35600027.60116308,
          35600027.60116308,
          35614916.82900271,
          35614916.82900271,
          35614916.82900271,
          35614916.82900271,
          35614916.82900271,
          35614916.82900271,
          35624081.804352105,
          35624081.804352105,
          35624081.804352105,
          35624081.804352105,
          35624081.804352105,
          35624081.804352105,
          35638333.08953419,
          35638333.08953419,
          35638333.08953419,
          35638333.08953419,
          35638333.08953419,
          35638333.08953419,
          35653416.84689408,
          35653416.84689408,
          35653416.84689408,
          35653416.84689408,
          35653416.84689408,
          35653416.84689408,
          35662597.82004024,
          35662597.82004024,
          35662597.82004024,
          35662597.82004024,
          35662597.82004024,
          35662597.82004024,
          35678829.585602835,
          35678829.585602835,
          35678829.585602835,
          35678829.585602835,
          35678829.585602835,
          35678829.585602835,
          35687455.177245885,
          35687455.177245885,
          35687455.177245885,
          35687455.177245885,
          35687455.177245885,
          35687455.177245885,
          35701810.85835716,
          35701810.85835716,
          35701810.85835716,
          35701810.85835716,
          35701810.85835716,
          35701810.85835716,
          35711417.70239978,
          35711417.70239978,
          35711417.70239978,
          35711417.70239978,
          35711417.70239978,
          35711417.70239978,
          35720266.59795374,
          35720266.59795374,
          35720266.59795374,
          35720266.59795374,
          35720266.59795374,
          35720266.59795374,
          35735566.995113164,
          35735566.995113164,
          35735566.995113164
         ]
        }
       ],
       "layout": {
        "font": {
         "color": "black",
         "family": "Arial",
         "size": 18
        },
        "hovermode": "x unified",
        "legend": {
         "font": {
          "color": "black",
          "size": 18
         },
         "orientation": "h",
         "x": 0.5,
         "xanchor": "center",
         "y": -0.4,
         "yanchor": "bottom"
        },
        "paper_bgcolor": "rgba(255, 255, 255, 1)",
        "plot_bgcolor": "rgba(255, 255, 255, 1)",
        "template": {
         "data": {
          "bar": [
           {
            "error_x": {
             "color": "#2a3f5f"
            },
            "error_y": {
             "color": "#2a3f5f"
            },
            "marker": {
             "line": {
              "color": "white",
              "width": 0.5
             }
            },
            "type": "bar"
           }
          ],
          "barpolar": [
           {
            "marker": {
             "line": {
              "color": "white",
              "width": 0.5
             }
            },
            "type": "barpolar"
           }
          ],
          "carpet": [
           {
            "aaxis": {
             "endlinecolor": "#2a3f5f",
             "gridcolor": "#C8D4E3",
             "linecolor": "#C8D4E3",
             "minorgridcolor": "#C8D4E3",
             "startlinecolor": "#2a3f5f"
            },
            "baxis": {
             "endlinecolor": "#2a3f5f",
             "gridcolor": "#C8D4E3",
             "linecolor": "#C8D4E3",
             "minorgridcolor": "#C8D4E3",
             "startlinecolor": "#2a3f5f"
            },
            "type": "carpet"
           }
          ],
          "choropleth": [
           {
            "colorbar": {
             "outlinewidth": 0,
             "ticks": ""
            },
            "type": "choropleth"
           }
          ],
          "contour": [
           {
            "colorbar": {
             "outlinewidth": 0,
             "ticks": ""
            },
            "colorscale": [
             [
              0,
              "#0d0887"
             ],
             [
              0.1111111111111111,
              "#46039f"
             ],
             [
              0.2222222222222222,
              "#7201a8"
             ],
             [
              0.3333333333333333,
              "#9c179e"
             ],
             [
              0.4444444444444444,
              "#bd3786"
             ],
             [
              0.5555555555555556,
              "#d8576b"
             ],
             [
              0.6666666666666666,
              "#ed7953"
             ],
             [
              0.7777777777777778,
              "#fb9f3a"
             ],
             [
              0.8888888888888888,
              "#fdca26"
             ],
             [
              1,
              "#f0f921"
             ]
            ],
            "type": "contour"
           }
          ],
          "contourcarpet": [
           {
            "colorbar": {
             "outlinewidth": 0,
             "ticks": ""
            },
            "type": "contourcarpet"
           }
          ],
          "heatmap": [
           {
            "colorbar": {
             "outlinewidth": 0,
             "ticks": ""
            },
            "colorscale": [
             [
              0,
              "#0d0887"
             ],
             [
              0.1111111111111111,
              "#46039f"
             ],
             [
              0.2222222222222222,
              "#7201a8"
             ],
             [
              0.3333333333333333,
              "#9c179e"
             ],
             [
              0.4444444444444444,
              "#bd3786"
             ],
             [
              0.5555555555555556,
              "#d8576b"
             ],
             [
              0.6666666666666666,
              "#ed7953"
             ],
             [
              0.7777777777777778,
              "#fb9f3a"
             ],
             [
              0.8888888888888888,
              "#fdca26"
             ],
             [
              1,
              "#f0f921"
             ]
            ],
            "type": "heatmap"
           }
          ],
          "heatmapgl": [
           {
            "colorbar": {
             "outlinewidth": 0,
             "ticks": ""
            },
            "colorscale": [
             [
              0,
              "#0d0887"
             ],
             [
              0.1111111111111111,
              "#46039f"
             ],
             [
              0.2222222222222222,
              "#7201a8"
             ],
             [
              0.3333333333333333,
              "#9c179e"
             ],
             [
              0.4444444444444444,
              "#bd3786"
             ],
             [
              0.5555555555555556,
              "#d8576b"
             ],
             [
              0.6666666666666666,
              "#ed7953"
             ],
             [
              0.7777777777777778,
              "#fb9f3a"
             ],
             [
              0.8888888888888888,
              "#fdca26"
             ],
             [
              1,
              "#f0f921"
             ]
            ],
            "type": "heatmapgl"
           }
          ],
          "histogram": [
           {
            "marker": {
             "colorbar": {
              "outlinewidth": 0,
              "ticks": ""
             }
            },
            "type": "histogram"
           }
          ],
          "histogram2d": [
           {
            "colorbar": {
             "outlinewidth": 0,
             "ticks": ""
            },
            "colorscale": [
             [
              0,
              "#0d0887"
             ],
             [
              0.1111111111111111,
              "#46039f"
             ],
             [
              0.2222222222222222,
              "#7201a8"
             ],
             [
              0.3333333333333333,
              "#9c179e"
             ],
             [
              0.4444444444444444,
              "#bd3786"
             ],
             [
              0.5555555555555556,
              "#d8576b"
             ],
             [
              0.6666666666666666,
              "#ed7953"
             ],
             [
              0.7777777777777778,
              "#fb9f3a"
             ],
             [
              0.8888888888888888,
              "#fdca26"
             ],
             [
              1,
              "#f0f921"
             ]
            ],
            "type": "histogram2d"
           }
          ],
          "histogram2dcontour": [
           {
            "colorbar": {
             "outlinewidth": 0,
             "ticks": ""
            },
            "colorscale": [
             [
              0,
              "#0d0887"
             ],
             [
              0.1111111111111111,
              "#46039f"
             ],
             [
              0.2222222222222222,
              "#7201a8"
             ],
             [
              0.3333333333333333,
              "#9c179e"
             ],
             [
              0.4444444444444444,
              "#bd3786"
             ],
             [
              0.5555555555555556,
              "#d8576b"
             ],
             [
              0.6666666666666666,
              "#ed7953"
             ],
             [
              0.7777777777777778,
              "#fb9f3a"
             ],
             [
              0.8888888888888888,
              "#fdca26"
             ],
             [
              1,
              "#f0f921"
             ]
            ],
            "type": "histogram2dcontour"
           }
          ],
          "mesh3d": [
           {
            "colorbar": {
             "outlinewidth": 0,
             "ticks": ""
            },
            "type": "mesh3d"
           }
          ],
          "parcoords": [
           {
            "line": {
             "colorbar": {
              "outlinewidth": 0,
              "ticks": ""
             }
            },
            "type": "parcoords"
           }
          ],
          "pie": [
           {
            "automargin": true,
            "type": "pie"
           }
          ],
          "scatter": [
           {
            "marker": {
             "colorbar": {
              "outlinewidth": 0,
              "ticks": ""
             }
            },
            "type": "scatter"
           }
          ],
          "scatter3d": [
           {
            "line": {
             "colorbar": {
              "outlinewidth": 0,
              "ticks": ""
             }
            },
            "marker": {
             "colorbar": {
              "outlinewidth": 0,
              "ticks": ""
             }
            },
            "type": "scatter3d"
           }
          ],
          "scattercarpet": [
           {
            "marker": {
             "colorbar": {
              "outlinewidth": 0,
              "ticks": ""
             }
            },
            "type": "scattercarpet"
           }
          ],
          "scattergeo": [
           {
            "marker": {
             "colorbar": {
              "outlinewidth": 0,
              "ticks": ""
             }
            },
            "type": "scattergeo"
           }
          ],
          "scattergl": [
           {
            "marker": {
             "colorbar": {
              "outlinewidth": 0,
              "ticks": ""
             }
            },
            "type": "scattergl"
           }
          ],
          "scattermapbox": [
           {
            "marker": {
             "colorbar": {
              "outlinewidth": 0,
              "ticks": ""
             }
            },
            "type": "scattermapbox"
           }
          ],
          "scatterpolar": [
           {
            "marker": {
             "colorbar": {
              "outlinewidth": 0,
              "ticks": ""
             }
            },
            "type": "scatterpolar"
           }
          ],
          "scatterpolargl": [
           {
            "marker": {
             "colorbar": {
              "outlinewidth": 0,
              "ticks": ""
             }
            },
            "type": "scatterpolargl"
           }
          ],
          "scatterternary": [
           {
            "marker": {
             "colorbar": {
              "outlinewidth": 0,
              "ticks": ""
             }
            },
            "type": "scatterternary"
           }
          ],
          "surface": [
           {
            "colorbar": {
             "outlinewidth": 0,
             "ticks": ""
            },
            "colorscale": [
             [
              0,
              "#0d0887"
             ],
             [
              0.1111111111111111,
              "#46039f"
             ],
             [
              0.2222222222222222,
              "#7201a8"
             ],
             [
              0.3333333333333333,
              "#9c179e"
             ],
             [
              0.4444444444444444,
              "#bd3786"
             ],
             [
              0.5555555555555556,
              "#d8576b"
             ],
             [
              0.6666666666666666,
              "#ed7953"
             ],
             [
              0.7777777777777778,
              "#fb9f3a"
             ],
             [
              0.8888888888888888,
              "#fdca26"
             ],
             [
              1,
              "#f0f921"
             ]
            ],
            "type": "surface"
           }
          ],
          "table": [
           {
            "cells": {
             "fill": {
              "color": "#EBF0F8"
             },
             "line": {
              "color": "white"
             }
            },
            "header": {
             "fill": {
              "color": "#C8D4E3"
             },
             "line": {
              "color": "white"
             }
            },
            "type": "table"
           }
          ]
         },
         "layout": {
          "annotationdefaults": {
           "arrowcolor": "#2a3f5f",
           "arrowhead": 0,
           "arrowwidth": 1
          },
          "autotypenumbers": "strict",
          "coloraxis": {
           "colorbar": {
            "outlinewidth": 0,
            "ticks": ""
           }
          },
          "colorscale": {
           "diverging": [
            [
             0,
             "#8e0152"
            ],
            [
             0.1,
             "#c51b7d"
            ],
            [
             0.2,
             "#de77ae"
            ],
            [
             0.3,
             "#f1b6da"
            ],
            [
             0.4,
             "#fde0ef"
            ],
            [
             0.5,
             "#f7f7f7"
            ],
            [
             0.6,
             "#e6f5d0"
            ],
            [
             0.7,
             "#b8e186"
            ],
            [
             0.8,
             "#7fbc41"
            ],
            [
             0.9,
             "#4d9221"
            ],
            [
             1,
             "#276419"
            ]
           ],
           "sequential": [
            [
             0,
             "#0d0887"
            ],
            [
             0.1111111111111111,
             "#46039f"
            ],
            [
             0.2222222222222222,
             "#7201a8"
            ],
            [
             0.3333333333333333,
             "#9c179e"
            ],
            [
             0.4444444444444444,
             "#bd3786"
            ],
            [
             0.5555555555555556,
             "#d8576b"
            ],
            [
             0.6666666666666666,
             "#ed7953"
            ],
            [
             0.7777777777777778,
             "#fb9f3a"
            ],
            [
             0.8888888888888888,
             "#fdca26"
            ],
            [
             1,
             "#f0f921"
            ]
           ],
           "sequentialminus": [
            [
             0,
             "#0d0887"
            ],
            [
             0.1111111111111111,
             "#46039f"
            ],
            [
             0.2222222222222222,
             "#7201a8"
            ],
            [
             0.3333333333333333,
             "#9c179e"
            ],
            [
             0.4444444444444444,
             "#bd3786"
            ],
            [
             0.5555555555555556,
             "#d8576b"
            ],
            [
             0.6666666666666666,
             "#ed7953"
            ],
            [
             0.7777777777777778,
             "#fb9f3a"
            ],
            [
             0.8888888888888888,
             "#fdca26"
            ],
            [
             1,
             "#f0f921"
            ]
           ]
          },
          "colorway": [
           "#636efa",
           "#EF553B",
           "#00cc96",
           "#ab63fa",
           "#FFA15A",
           "#19d3f3",
           "#FF6692",
           "#B6E880",
           "#FF97FF",
           "#FECB52"
          ],
          "font": {
           "color": "#2a3f5f"
          },
          "geo": {
           "bgcolor": "white",
           "lakecolor": "white",
           "landcolor": "white",
           "showlakes": true,
           "showland": true,
           "subunitcolor": "#C8D4E3"
          },
          "hoverlabel": {
           "align": "left"
          },
          "hovermode": "closest",
          "mapbox": {
           "style": "light"
          },
          "paper_bgcolor": "white",
          "plot_bgcolor": "white",
          "polar": {
           "angularaxis": {
            "gridcolor": "#EBF0F8",
            "linecolor": "#EBF0F8",
            "ticks": ""
           },
           "bgcolor": "white",
           "radialaxis": {
            "gridcolor": "#EBF0F8",
            "linecolor": "#EBF0F8",
            "ticks": ""
           }
          },
          "scene": {
           "xaxis": {
            "backgroundcolor": "white",
            "gridcolor": "#DFE8F3",
            "gridwidth": 2,
            "linecolor": "#EBF0F8",
            "showbackground": true,
            "ticks": "",
            "zerolinecolor": "#EBF0F8"
           },
           "yaxis": {
            "backgroundcolor": "white",
            "gridcolor": "#DFE8F3",
            "gridwidth": 2,
            "linecolor": "#EBF0F8",
            "showbackground": true,
            "ticks": "",
            "zerolinecolor": "#EBF0F8"
           },
           "zaxis": {
            "backgroundcolor": "white",
            "gridcolor": "#DFE8F3",
            "gridwidth": 2,
            "linecolor": "#EBF0F8",
            "showbackground": true,
            "ticks": "",
            "zerolinecolor": "#EBF0F8"
           }
          },
          "shapedefaults": {
           "line": {
            "color": "#2a3f5f"
           }
          },
          "ternary": {
           "aaxis": {
            "gridcolor": "#DFE8F3",
            "linecolor": "#A2B1C6",
            "ticks": ""
           },
           "baxis": {
            "gridcolor": "#DFE8F3",
            "linecolor": "#A2B1C6",
            "ticks": ""
           },
           "bgcolor": "white",
           "caxis": {
            "gridcolor": "#DFE8F3",
            "linecolor": "#A2B1C6",
            "ticks": ""
           }
          },
          "title": {
           "x": 0.05
          },
          "xaxis": {
           "automargin": true,
           "gridcolor": "#EBF0F8",
           "linecolor": "#EBF0F8",
           "ticks": "",
           "title": {
            "standoff": 15
           },
           "zerolinecolor": "#EBF0F8",
           "zerolinewidth": 2
          },
          "yaxis": {
           "automargin": true,
           "gridcolor": "#EBF0F8",
           "linecolor": "#EBF0F8",
           "ticks": "",
           "title": {
            "standoff": 15
           },
           "zerolinecolor": "#EBF0F8",
           "zerolinewidth": 2
          }
         }
        },
        "title": {
         "text": "Token Staked (ETH)",
         "x": 0.5,
         "xanchor": "center",
         "y": 0.9,
         "yanchor": "top"
        },
        "xaxis": {
         "title": {
          "text": "Date"
         }
        },
        "yaxis": {
         "title": {
          "text": "ETH"
         }
        }
       }
      }
     },
     "metadata": {},
     "output_type": "display_data"
    }
   ],
   "source": [
    "visualizations.plot_total_staked(\n",
    "    df,\n",
    "    scenario_names={\n",
    "    0: \"normal\",\n",
    "}\n",
    ")"
   ]
  },
  {
   "cell_type": "code",
   "execution_count": 29,
   "metadata": {},
   "outputs": [
    {
     "data": {
      "application/vnd.plotly.v1+json": {
       "config": {
        "plotlyServerURL": "https://plot.ly"
       },
       "data": [
        {
         "line": {
          "color": "#FC1CBF",
          "dash": "dot"
         },
         "name": "normal",
         "type": "scatter",
         "x": [
          1,
          1,
          1,
          1,
          1,
          1,
          2,
          2,
          2,
          2,
          2,
          2,
          3,
          3,
          3,
          3,
          3,
          3,
          4,
          4,
          4,
          4,
          4,
          4,
          5,
          5,
          5,
          5,
          5,
          5,
          6,
          6,
          6,
          6,
          6,
          6,
          7,
          7,
          7,
          7,
          7,
          7,
          8,
          8,
          8,
          8,
          8,
          8,
          9,
          9,
          9,
          9,
          9,
          9,
          10,
          10,
          10,
          10,
          10,
          10,
          11,
          11,
          11,
          11,
          11,
          11,
          12,
          12,
          12,
          12,
          12,
          12,
          13,
          13,
          13,
          13,
          13,
          13,
          14,
          14,
          14,
          14,
          14,
          14,
          15,
          15,
          15,
          15,
          15,
          15,
          16,
          16,
          16,
          16,
          16,
          16,
          17,
          17,
          17,
          17,
          17,
          17,
          18,
          18,
          18,
          18,
          18,
          18,
          19,
          19,
          19,
          19,
          19,
          19,
          20,
          20,
          20,
          20,
          20,
          20,
          21,
          21,
          21,
          21,
          21,
          21,
          22,
          22,
          22,
          22,
          22,
          22,
          23,
          23,
          23,
          23,
          23,
          23,
          24,
          24,
          24,
          24,
          24,
          24,
          25,
          25,
          25,
          25,
          25,
          25,
          26,
          26,
          26,
          26,
          26,
          26,
          27,
          27,
          27,
          27,
          27,
          27,
          28,
          28,
          28,
          28,
          28,
          28,
          29,
          29,
          29,
          29,
          29,
          29,
          30,
          30,
          30,
          30,
          30,
          30,
          31,
          31,
          31,
          31,
          31,
          31,
          32,
          32,
          32,
          32,
          32,
          32,
          33,
          33,
          33,
          33,
          33,
          33,
          34,
          34,
          34,
          34,
          34,
          34,
          35,
          35,
          35,
          35,
          35,
          35,
          36,
          36,
          36,
          36,
          36,
          36,
          37,
          37,
          37,
          37,
          37,
          37,
          38,
          38,
          38,
          38,
          38,
          38,
          39,
          39,
          39,
          39,
          39,
          39,
          40,
          40,
          40,
          40,
          40,
          40,
          41,
          41,
          41,
          41,
          41,
          41,
          42,
          42,
          42,
          42,
          42,
          42,
          43,
          43,
          43,
          43,
          43,
          43,
          44,
          44,
          44,
          44,
          44,
          44,
          45,
          45,
          45,
          45,
          45,
          45,
          46,
          46,
          46,
          46,
          46,
          46,
          47,
          47,
          47,
          47,
          47,
          47,
          48,
          48,
          48,
          48,
          48,
          48,
          49,
          49,
          49,
          49,
          49,
          49,
          50,
          50,
          50,
          50,
          50,
          50,
          51,
          51,
          51,
          51,
          51,
          51,
          52,
          52,
          52,
          52,
          52,
          52,
          53,
          53,
          53,
          53,
          53,
          53,
          54,
          54,
          54,
          54,
          54,
          54,
          55,
          55,
          55,
          55,
          55,
          55,
          56,
          56,
          56,
          56,
          56,
          56,
          57,
          57,
          57,
          57,
          57,
          57,
          58,
          58,
          58,
          58,
          58,
          58,
          59,
          59,
          59,
          59,
          59,
          59,
          60,
          60,
          60,
          60,
          60,
          60,
          61,
          61,
          61,
          61,
          61,
          61,
          62,
          62,
          62,
          62,
          62,
          62,
          63,
          63,
          63,
          63,
          63,
          63,
          64,
          64,
          64,
          64,
          64,
          64,
          65,
          65,
          65,
          65,
          65,
          65,
          66,
          66,
          66,
          66,
          66,
          66,
          67,
          67,
          67,
          67,
          67,
          67,
          68,
          68,
          68,
          68,
          68,
          68,
          69,
          69,
          69,
          69,
          69,
          69,
          70,
          70,
          70,
          70,
          70,
          70,
          71,
          71,
          71,
          71,
          71,
          71,
          72,
          72,
          72,
          72,
          72,
          72,
          73,
          73,
          73,
          73,
          73,
          73,
          74,
          74,
          74,
          74,
          74,
          74,
          75,
          75,
          75,
          75,
          75,
          75,
          76,
          76,
          76,
          76,
          76,
          76,
          77,
          77,
          77,
          77,
          77,
          77,
          78,
          78,
          78,
          78,
          78,
          78,
          79,
          79,
          79,
          79,
          79,
          79,
          80,
          80,
          80,
          80,
          80,
          80,
          81,
          81,
          81,
          81,
          81,
          81,
          82,
          82,
          82,
          82,
          82,
          82,
          83,
          83,
          83,
          83,
          83,
          83,
          84,
          84,
          84,
          84,
          84,
          84,
          85,
          85,
          85,
          85,
          85,
          85,
          86,
          86,
          86,
          86,
          86,
          86,
          87,
          87,
          87,
          87,
          87,
          87,
          88,
          88,
          88,
          88,
          88,
          88,
          89,
          89,
          89,
          89,
          89,
          89,
          90,
          90,
          90,
          90,
          90,
          90,
          91,
          91,
          91,
          91,
          91,
          91,
          92,
          92,
          92,
          92,
          92,
          92,
          93,
          93,
          93,
          93,
          93,
          93,
          94,
          94,
          94,
          94,
          94,
          94,
          95,
          95,
          95,
          95,
          95,
          95,
          96,
          96,
          96,
          96,
          96,
          96,
          97,
          97,
          97,
          97,
          97,
          97,
          98,
          98,
          98,
          98,
          98,
          98,
          99,
          99,
          99,
          99,
          99,
          99,
          100,
          100,
          100,
          100,
          100,
          100
         ],
         "y": [
          null,
          null,
          null,
          0.22838685441040774,
          0.22838685441040774,
          0.22838685441040774,
          0.22838685441040774,
          0.22838685441040774,
          0.22838685441040774,
          0.22834060261134845,
          0.22834060261134845,
          0.22834060261134845,
          0.22834060261134845,
          0.22834060261134845,
          0.22834060261134845,
          0.22834368482579495,
          0.22834368482579495,
          0.22834368482579495,
          0.22834368482579495,
          0.22834368482579495,
          0.22834368482579495,
          0.22829633795634624,
          0.22829633795634624,
          0.22829633795634624,
          0.22829633795634624,
          0.22829633795634624,
          0.22829633795634624,
          0.2282532782739853,
          0.2282532782739853,
          0.2282532782739853,
          0.2282532782739853,
          0.2282532782739853,
          0.2282532782739853,
          0.22820712327682094,
          0.22820712327682094,
          0.22820712327682094,
          0.22820712327682094,
          0.22820712327682094,
          0.22820712327682094,
          0.2282124875574066,
          0.2282124875574066,
          0.2282124875574066,
          0.2282124875574066,
          0.2282124875574066,
          0.2282124875574066,
          0.22821262407640586,
          0.22821262407640586,
          0.22821262407640586,
          0.22821262407640586,
          0.22821262407640586,
          0.22821262407640586,
          0.22821399627751668,
          0.22821399627751668,
          0.22821399627751668,
          0.22821399627751668,
          0.22821399627751668,
          0.22821399627751668,
          0.22816307047892345,
          0.22816307047892345,
          0.22816307047892345,
          0.22816307047892345,
          0.22816307047892345,
          0.22816307047892345,
          0.2281287171490572,
          0.2281287171490572,
          0.2281287171490572,
          0.2281287171490572,
          0.2281287171490572,
          0.2281287171490572,
          0.22808253237887482,
          0.22808253237887482,
          0.22808253237887482,
          0.22808253237887482,
          0.22808253237887482,
          0.22808253237887482,
          0.2280302045332008,
          0.2280302045332008,
          0.2280302045332008,
          0.2280302045332008,
          0.2280302045332008,
          0.2280302045332008,
          0.22798306464740176,
          0.22798306464740176,
          0.22798306464740176,
          0.22798306464740176,
          0.22798306464740176,
          0.22798306464740176,
          0.227933177306936,
          0.227933177306936,
          0.227933177306936,
          0.227933177306936,
          0.227933177306936,
          0.227933177306936,
          0.2278913436370168,
          0.2278913436370168,
          0.2278913436370168,
          0.2278913436370168,
          0.2278913436370168,
          0.2278913436370168,
          0.22789396675774282,
          0.22789396675774282,
          0.22789396675774282,
          0.22789396675774282,
          0.22789396675774282,
          0.22789396675774282,
          0.22784935510570337,
          0.22784935510570337,
          0.22784935510570337,
          0.22784935510570337,
          0.22784935510570337,
          0.22784935510570337,
          0.22785206900378446,
          0.22785206900378446,
          0.22785206900378446,
          0.22785206900378446,
          0.22785206900378446,
          0.22785206900378446,
          0.22780004791024488,
          0.22780004791024488,
          0.22780004791024488,
          0.22780004791024488,
          0.22780004791024488,
          0.22780004791024488,
          0.2278036933596446,
          0.2278036933596446,
          0.2278036933596446,
          0.2278036933596446,
          0.2278036933596446,
          0.2278036933596446,
          0.2277613977772849,
          0.2277613977772849,
          0.2277613977772849,
          0.2277613977772849,
          0.2277613977772849,
          0.2277613977772849,
          0.22776424201457718,
          0.22776424201457718,
          0.22776424201457718,
          0.22776424201457718,
          0.22776424201457718,
          0.22776424201457718,
          0.22771649244955613,
          0.22771649244955613,
          0.22771649244955613,
          0.22771649244955613,
          0.22771649244955613,
          0.22771649244955613,
          0.2276666357263654,
          0.2276666357263654,
          0.2276666357263654,
          0.2276666357263654,
          0.2276666357263654,
          0.2276666357263654,
          0.22766574899445913,
          0.22766574899445913,
          0.22766574899445913,
          0.22766574899445913,
          0.22766574899445913,
          0.22766574899445913,
          0.22763417191139165,
          0.22763417191139165,
          0.22763417191139165,
          0.22763417191139165,
          0.22763417191139165,
          0.22763417191139165,
          0.2276369904963892,
          0.2276369904963892,
          0.2276369904963892,
          0.2276369904963892,
          0.2276369904963892,
          0.2276369904963892,
          0.22764071167362565,
          0.22764071167362565,
          0.22764071167362565,
          0.22764071167362565,
          0.22764071167362565,
          0.22764071167362565,
          0.2275963078238336,
          0.2275963078238336,
          0.2275963078238336,
          0.2275963078238336,
          0.2275963078238336,
          0.2275963078238336,
          0.22755234540756744,
          0.22755234540756744,
          0.22755234540756744,
          0.22755234540756744,
          0.22755234540756744,
          0.22755234540756744,
          0.22750443369659643,
          0.22750443369659643,
          0.22750443369659643,
          0.22750443369659643,
          0.22750443369659643,
          0.22750443369659643,
          0.2275099691526984,
          0.2275099691526984,
          0.2275099691526984,
          0.2275099691526984,
          0.2275099691526984,
          0.2275099691526984,
          0.22751503968790382,
          0.22751503968790382,
          0.22751503968790382,
          0.22751503968790382,
          0.22751503968790382,
          0.22751503968790382,
          0.22746678526666708,
          0.22746678526666708,
          0.22746678526666708,
          0.22746678526666708,
          0.22746678526666708,
          0.22746678526666708,
          0.22742447425118065,
          0.22742447425118065,
          0.22742447425118065,
          0.22742447425118065,
          0.22742447425118065,
          0.22742447425118065,
          0.22737568064430966,
          0.22737568064430966,
          0.22737568064430966,
          0.22737568064430966,
          0.22737568064430966,
          0.22737568064430966,
          0.22738017861000479,
          0.22738017861000479,
          0.22738017861000479,
          0.22738017861000479,
          0.22738017861000479,
          0.22738017861000479,
          0.2273836399354724,
          0.2273836399354724,
          0.2273836399354724,
          0.2273836399354724,
          0.2273836399354724,
          0.2273836399354724,
          0.22733721366189893,
          0.22733721366189893,
          0.22733721366189893,
          0.22733721366189893,
          0.22733721366189893,
          0.22733721366189893,
          0.2272947292081469,
          0.2272947292081469,
          0.2272947292081469,
          0.2272947292081469,
          0.2272947292081469,
          0.2272947292081469,
          0.22730131226494554,
          0.22730131226494554,
          0.22730131226494554,
          0.22730131226494554,
          0.22730131226494554,
          0.22730131226494554,
          0.2273056936928942,
          0.2273056936928942,
          0.2273056936928942,
          0.2273056936928942,
          0.2273056936928942,
          0.2273056936928942,
          0.22730626562979567,
          0.22730626562979567,
          0.22730626562979567,
          0.22730626562979567,
          0.22730626562979567,
          0.22730626562979567,
          0.22731123743312953,
          0.22731123743312953,
          0.22731123743312953,
          0.22731123743312953,
          0.22731123743312953,
          0.22731123743312953,
          0.22731622414164493,
          0.22731622414164493,
          0.22731622414164493,
          0.22731622414164493,
          0.22731622414164493,
          0.22731622414164493,
          0.22726797516269254,
          0.22726797516269254,
          0.22726797516269254,
          0.22726797516269254,
          0.22726797516269254,
          0.22726797516269254,
          0.22722397333326438,
          0.22722397333326438,
          0.22722397333326438,
          0.22722397333326438,
          0.22722397333326438,
          0.22722397333326438,
          0.22718397869993626,
          0.22718397869993626,
          0.22718397869993626,
          0.22718397869993626,
          0.22718397869993626,
          0.22718397869993626,
          0.22713885722388005,
          0.22713885722388005,
          0.22713885722388005,
          0.22713885722388005,
          0.22713885722388005,
          0.22713885722388005,
          0.22709489527336343,
          0.22709489527336343,
          0.22709489527336343,
          0.22709489527336343,
          0.22709489527336343,
          0.22709489527336343,
          0.22704452717078896,
          0.22704452717078896,
          0.22704452717078896,
          0.22704452717078896,
          0.22704452717078896,
          0.22704452717078896,
          0.22699523477598352,
          0.22699523477598352,
          0.22699523477598352,
          0.22699523477598352,
          0.22699523477598352,
          0.22699523477598352,
          0.2269985504941433,
          0.2269985504941433,
          0.2269985504941433,
          0.2269985504941433,
          0.2269985504941433,
          0.2269985504941433,
          0.22695616063025686,
          0.22695616063025686,
          0.22695616063025686,
          0.22695616063025686,
          0.22695616063025686,
          0.22695616063025686,
          0.22696304581166798,
          0.22696304581166798,
          0.22696304581166798,
          0.22696304581166798,
          0.22696304581166798,
          0.22696304581166798,
          0.22691737983820182,
          0.22691737983820182,
          0.22691737983820182,
          0.22691737983820182,
          0.22691737983820182,
          0.22691737983820182,
          0.22687005501423965,
          0.22687005501423965,
          0.22687005501423965,
          0.22687005501423965,
          0.22687005501423965,
          0.22687005501423965,
          0.22682627327255767,
          0.22682627327255767,
          0.22682627327255767,
          0.22682627327255767,
          0.22682627327255767,
          0.22682627327255767,
          0.22678105268888346,
          0.22678105268888346,
          0.22678105268888346,
          0.22678105268888346,
          0.22678105268888346,
          0.22678105268888346,
          0.22674062119597607,
          0.22674062119597607,
          0.22674062119597607,
          0.22674062119597607,
          0.22674062119597607,
          0.22674062119597607,
          0.22674442291684646,
          0.22674442291684646,
          0.22674442291684646,
          0.22674442291684646,
          0.22674442291684646,
          0.22674442291684646,
          0.22670141693365067,
          0.22670141693365067,
          0.22670141693365067,
          0.22670141693365067,
          0.22670141693365067,
          0.22670141693365067,
          0.2267158753404247,
          0.2267158753404247,
          0.2267158753404247,
          0.2267158753404247,
          0.2267158753404247,
          0.2267158753404247,
          0.22667760108012838,
          0.22667760108012838,
          0.22667760108012838,
          0.22667760108012838,
          0.22667760108012838,
          0.22667760108012838,
          0.2266310195032115,
          0.2266310195032115,
          0.2266310195032115,
          0.2266310195032115,
          0.2266310195032115,
          0.2266310195032115,
          0.22658648427280975,
          0.22658648427280975,
          0.22658648427280975,
          0.22658648427280975,
          0.22658648427280975,
          0.22658648427280975,
          0.22654409201463568,
          0.22654409201463568,
          0.22654409201463568,
          0.22654409201463568,
          0.22654409201463568,
          0.22654409201463568,
          0.2265482444702316,
          0.2265482444702316,
          0.2265482444702316,
          0.2265482444702316,
          0.2265482444702316,
          0.2265482444702316,
          0.22655326880194943,
          0.22655326880194943,
          0.22655326880194943,
          0.22655326880194943,
          0.22655326880194943,
          0.22655326880194943,
          0.22655640996314247,
          0.22655640996314247,
          0.22655640996314247,
          0.22655640996314247,
          0.22655640996314247,
          0.22655640996314247,
          0.2265618743446722,
          0.2265618743446722,
          0.2265618743446722,
          0.2265618743446722,
          0.2265618743446722,
          0.2265618743446722,
          0.22652152459268324,
          0.22652152459268324,
          0.22652152459268324,
          0.22652152459268324,
          0.22652152459268324,
          0.22652152459268324,
          0.22647234847437608,
          0.22647234847437608,
          0.22647234847437608,
          0.22647234847437608,
          0.22647234847437608,
          0.22647234847437608,
          0.22647659201284037,
          0.22647659201284037,
          0.22647659201284037,
          0.22647659201284037,
          0.22647659201284037,
          0.22647659201284037,
          0.2264797855370301,
          0.2264797855370301,
          0.2264797855370301,
          0.2264797855370301,
          0.2264797855370301,
          0.2264797855370301,
          0.22648346935740207,
          0.22648346935740207,
          0.22648346935740207,
          0.22648346935740207,
          0.22648346935740207,
          0.22648346935740207,
          0.2264890135148733,
          0.2264890135148733,
          0.2264890135148733,
          0.2264890135148733,
          0.2264890135148733,
          0.2264890135148733,
          0.2264438430376519,
          0.2264438430376519,
          0.2264438430376519,
          0.2264438430376519,
          0.2264438430376519,
          0.2264438430376519,
          0.22639340085084234,
          0.22639340085084234,
          0.22639340085084234,
          0.22639340085084234,
          0.22639340085084234,
          0.22639340085084234,
          0.22639879620390874,
          0.22639879620390874,
          0.22639879620390874,
          0.22639879620390874,
          0.22639879620390874,
          0.22639879620390874,
          0.22640249191580072,
          0.22640249191580072,
          0.22640249191580072,
          0.22640249191580072,
          0.22640249191580072,
          0.22640249191580072,
          0.2264075713920984,
          0.2264075713920984,
          0.2264075713920984,
          0.2264075713920984,
          0.2264075713920984,
          0.2264075713920984,
          0.22636182281192713,
          0.22636182281192713,
          0.22636182281192713,
          0.22636182281192713,
          0.22636182281192713,
          0.22636182281192713,
          0.22631674174401598,
          0.22631674174401598,
          0.22631674174401598,
          0.22631674174401598,
          0.22631674174401598,
          0.22631674174401598,
          0.22627145832731266,
          0.22627145832731266,
          0.22627145832731266,
          0.22627145832731266,
          0.22627145832731266,
          0.22627145832731266,
          0.22627402951733294,
          0.22627402951733294,
          0.22627402951733294,
          0.22627402951733294,
          0.22627402951733294,
          0.22627402951733294,
          0.22622945275251916,
          0.22622945275251916,
          0.22622945275251916,
          0.22622945275251916,
          0.22622945275251916,
          0.22622945275251916,
          0.2261791906792437,
          0.2261791906792437,
          0.2261791906792437,
          0.2261791906792437,
          0.2261791906792437,
          0.2261791906792437,
          0.22613720907284207,
          0.22613720907284207,
          0.22613720907284207,
          0.22613720907284207,
          0.22613720907284207,
          0.22613720907284207,
          0.2261375022312787,
          0.2261375022312787,
          0.2261375022312787,
          0.2261375022312787,
          0.2261375022312787,
          0.2261375022312787,
          0.22609605165052654,
          0.22609605165052654,
          0.22609605165052654,
          0.22609605165052654,
          0.22609605165052654,
          0.22609605165052654,
          0.22605142087471825,
          0.22605142087471825,
          0.22605142087471825,
          0.22605142087471825,
          0.22605142087471825,
          0.22605142087471825,
          0.22605397184732184,
          0.22605397184732184,
          0.22605397184732184,
          0.22605397184732184,
          0.22605397184732184,
          0.22605397184732184,
          0.22600525399537924,
          0.22600525399537924,
          0.22600525399537924,
          0.22600525399537924,
          0.22600525399537924,
          0.22600525399537924,
          0.22600728924110303,
          0.22600728924110303,
          0.22600728924110303,
          0.22600728924110303,
          0.22600728924110303,
          0.22600728924110303,
          0.22596642364862332,
          0.22596642364862332,
          0.22596642364862332,
          0.22596642364862332,
          0.22596642364862332,
          0.22596642364862332,
          0.2259708858797906,
          0.2259708858797906,
          0.2259708858797906,
          0.2259708858797906,
          0.2259708858797906,
          0.2259708858797906,
          0.22597310112628013,
          0.22597310112628013,
          0.22597310112628013,
          0.22597310112628013,
          0.22597310112628013,
          0.22597310112628013,
          0.2259299394168811,
          0.2259299394168811,
          0.2259299394168811
         ]
        }
       ],
       "layout": {
        "font": {
         "color": "black",
         "family": "Arial",
         "size": 18
        },
        "hovermode": "x unified",
        "legend": {
         "font": {
          "color": "black",
          "size": 18
         },
         "orientation": "h",
         "x": 0.5,
         "xanchor": "center",
         "y": -0.4,
         "yanchor": "bottom"
        },
        "paper_bgcolor": "rgba(255, 255, 255, 1)",
        "plot_bgcolor": "rgba(255, 255, 255, 1)",
        "template": {
         "data": {
          "bar": [
           {
            "error_x": {
             "color": "#2a3f5f"
            },
            "error_y": {
             "color": "#2a3f5f"
            },
            "marker": {
             "line": {
              "color": "white",
              "width": 0.5
             }
            },
            "type": "bar"
           }
          ],
          "barpolar": [
           {
            "marker": {
             "line": {
              "color": "white",
              "width": 0.5
             }
            },
            "type": "barpolar"
           }
          ],
          "carpet": [
           {
            "aaxis": {
             "endlinecolor": "#2a3f5f",
             "gridcolor": "#C8D4E3",
             "linecolor": "#C8D4E3",
             "minorgridcolor": "#C8D4E3",
             "startlinecolor": "#2a3f5f"
            },
            "baxis": {
             "endlinecolor": "#2a3f5f",
             "gridcolor": "#C8D4E3",
             "linecolor": "#C8D4E3",
             "minorgridcolor": "#C8D4E3",
             "startlinecolor": "#2a3f5f"
            },
            "type": "carpet"
           }
          ],
          "choropleth": [
           {
            "colorbar": {
             "outlinewidth": 0,
             "ticks": ""
            },
            "type": "choropleth"
           }
          ],
          "contour": [
           {
            "colorbar": {
             "outlinewidth": 0,
             "ticks": ""
            },
            "colorscale": [
             [
              0,
              "#0d0887"
             ],
             [
              0.1111111111111111,
              "#46039f"
             ],
             [
              0.2222222222222222,
              "#7201a8"
             ],
             [
              0.3333333333333333,
              "#9c179e"
             ],
             [
              0.4444444444444444,
              "#bd3786"
             ],
             [
              0.5555555555555556,
              "#d8576b"
             ],
             [
              0.6666666666666666,
              "#ed7953"
             ],
             [
              0.7777777777777778,
              "#fb9f3a"
             ],
             [
              0.8888888888888888,
              "#fdca26"
             ],
             [
              1,
              "#f0f921"
             ]
            ],
            "type": "contour"
           }
          ],
          "contourcarpet": [
           {
            "colorbar": {
             "outlinewidth": 0,
             "ticks": ""
            },
            "type": "contourcarpet"
           }
          ],
          "heatmap": [
           {
            "colorbar": {
             "outlinewidth": 0,
             "ticks": ""
            },
            "colorscale": [
             [
              0,
              "#0d0887"
             ],
             [
              0.1111111111111111,
              "#46039f"
             ],
             [
              0.2222222222222222,
              "#7201a8"
             ],
             [
              0.3333333333333333,
              "#9c179e"
             ],
             [
              0.4444444444444444,
              "#bd3786"
             ],
             [
              0.5555555555555556,
              "#d8576b"
             ],
             [
              0.6666666666666666,
              "#ed7953"
             ],
             [
              0.7777777777777778,
              "#fb9f3a"
             ],
             [
              0.8888888888888888,
              "#fdca26"
             ],
             [
              1,
              "#f0f921"
             ]
            ],
            "type": "heatmap"
           }
          ],
          "heatmapgl": [
           {
            "colorbar": {
             "outlinewidth": 0,
             "ticks": ""
            },
            "colorscale": [
             [
              0,
              "#0d0887"
             ],
             [
              0.1111111111111111,
              "#46039f"
             ],
             [
              0.2222222222222222,
              "#7201a8"
             ],
             [
              0.3333333333333333,
              "#9c179e"
             ],
             [
              0.4444444444444444,
              "#bd3786"
             ],
             [
              0.5555555555555556,
              "#d8576b"
             ],
             [
              0.6666666666666666,
              "#ed7953"
             ],
             [
              0.7777777777777778,
              "#fb9f3a"
             ],
             [
              0.8888888888888888,
              "#fdca26"
             ],
             [
              1,
              "#f0f921"
             ]
            ],
            "type": "heatmapgl"
           }
          ],
          "histogram": [
           {
            "marker": {
             "colorbar": {
              "outlinewidth": 0,
              "ticks": ""
             }
            },
            "type": "histogram"
           }
          ],
          "histogram2d": [
           {
            "colorbar": {
             "outlinewidth": 0,
             "ticks": ""
            },
            "colorscale": [
             [
              0,
              "#0d0887"
             ],
             [
              0.1111111111111111,
              "#46039f"
             ],
             [
              0.2222222222222222,
              "#7201a8"
             ],
             [
              0.3333333333333333,
              "#9c179e"
             ],
             [
              0.4444444444444444,
              "#bd3786"
             ],
             [
              0.5555555555555556,
              "#d8576b"
             ],
             [
              0.6666666666666666,
              "#ed7953"
             ],
             [
              0.7777777777777778,
              "#fb9f3a"
             ],
             [
              0.8888888888888888,
              "#fdca26"
             ],
             [
              1,
              "#f0f921"
             ]
            ],
            "type": "histogram2d"
           }
          ],
          "histogram2dcontour": [
           {
            "colorbar": {
             "outlinewidth": 0,
             "ticks": ""
            },
            "colorscale": [
             [
              0,
              "#0d0887"
             ],
             [
              0.1111111111111111,
              "#46039f"
             ],
             [
              0.2222222222222222,
              "#7201a8"
             ],
             [
              0.3333333333333333,
              "#9c179e"
             ],
             [
              0.4444444444444444,
              "#bd3786"
             ],
             [
              0.5555555555555556,
              "#d8576b"
             ],
             [
              0.6666666666666666,
              "#ed7953"
             ],
             [
              0.7777777777777778,
              "#fb9f3a"
             ],
             [
              0.8888888888888888,
              "#fdca26"
             ],
             [
              1,
              "#f0f921"
             ]
            ],
            "type": "histogram2dcontour"
           }
          ],
          "mesh3d": [
           {
            "colorbar": {
             "outlinewidth": 0,
             "ticks": ""
            },
            "type": "mesh3d"
           }
          ],
          "parcoords": [
           {
            "line": {
             "colorbar": {
              "outlinewidth": 0,
              "ticks": ""
             }
            },
            "type": "parcoords"
           }
          ],
          "pie": [
           {
            "automargin": true,
            "type": "pie"
           }
          ],
          "scatter": [
           {
            "marker": {
             "colorbar": {
              "outlinewidth": 0,
              "ticks": ""
             }
            },
            "type": "scatter"
           }
          ],
          "scatter3d": [
           {
            "line": {
             "colorbar": {
              "outlinewidth": 0,
              "ticks": ""
             }
            },
            "marker": {
             "colorbar": {
              "outlinewidth": 0,
              "ticks": ""
             }
            },
            "type": "scatter3d"
           }
          ],
          "scattercarpet": [
           {
            "marker": {
             "colorbar": {
              "outlinewidth": 0,
              "ticks": ""
             }
            },
            "type": "scattercarpet"
           }
          ],
          "scattergeo": [
           {
            "marker": {
             "colorbar": {
              "outlinewidth": 0,
              "ticks": ""
             }
            },
            "type": "scattergeo"
           }
          ],
          "scattergl": [
           {
            "marker": {
             "colorbar": {
              "outlinewidth": 0,
              "ticks": ""
             }
            },
            "type": "scattergl"
           }
          ],
          "scattermapbox": [
           {
            "marker": {
             "colorbar": {
              "outlinewidth": 0,
              "ticks": ""
             }
            },
            "type": "scattermapbox"
           }
          ],
          "scatterpolar": [
           {
            "marker": {
             "colorbar": {
              "outlinewidth": 0,
              "ticks": ""
             }
            },
            "type": "scatterpolar"
           }
          ],
          "scatterpolargl": [
           {
            "marker": {
             "colorbar": {
              "outlinewidth": 0,
              "ticks": ""
             }
            },
            "type": "scatterpolargl"
           }
          ],
          "scatterternary": [
           {
            "marker": {
             "colorbar": {
              "outlinewidth": 0,
              "ticks": ""
             }
            },
            "type": "scatterternary"
           }
          ],
          "surface": [
           {
            "colorbar": {
             "outlinewidth": 0,
             "ticks": ""
            },
            "colorscale": [
             [
              0,
              "#0d0887"
             ],
             [
              0.1111111111111111,
              "#46039f"
             ],
             [
              0.2222222222222222,
              "#7201a8"
             ],
             [
              0.3333333333333333,
              "#9c179e"
             ],
             [
              0.4444444444444444,
              "#bd3786"
             ],
             [
              0.5555555555555556,
              "#d8576b"
             ],
             [
              0.6666666666666666,
              "#ed7953"
             ],
             [
              0.7777777777777778,
              "#fb9f3a"
             ],
             [
              0.8888888888888888,
              "#fdca26"
             ],
             [
              1,
              "#f0f921"
             ]
            ],
            "type": "surface"
           }
          ],
          "table": [
           {
            "cells": {
             "fill": {
              "color": "#EBF0F8"
             },
             "line": {
              "color": "white"
             }
            },
            "header": {
             "fill": {
              "color": "#C8D4E3"
             },
             "line": {
              "color": "white"
             }
            },
            "type": "table"
           }
          ]
         },
         "layout": {
          "annotationdefaults": {
           "arrowcolor": "#2a3f5f",
           "arrowhead": 0,
           "arrowwidth": 1
          },
          "autotypenumbers": "strict",
          "coloraxis": {
           "colorbar": {
            "outlinewidth": 0,
            "ticks": ""
           }
          },
          "colorscale": {
           "diverging": [
            [
             0,
             "#8e0152"
            ],
            [
             0.1,
             "#c51b7d"
            ],
            [
             0.2,
             "#de77ae"
            ],
            [
             0.3,
             "#f1b6da"
            ],
            [
             0.4,
             "#fde0ef"
            ],
            [
             0.5,
             "#f7f7f7"
            ],
            [
             0.6,
             "#e6f5d0"
            ],
            [
             0.7,
             "#b8e186"
            ],
            [
             0.8,
             "#7fbc41"
            ],
            [
             0.9,
             "#4d9221"
            ],
            [
             1,
             "#276419"
            ]
           ],
           "sequential": [
            [
             0,
             "#0d0887"
            ],
            [
             0.1111111111111111,
             "#46039f"
            ],
            [
             0.2222222222222222,
             "#7201a8"
            ],
            [
             0.3333333333333333,
             "#9c179e"
            ],
            [
             0.4444444444444444,
             "#bd3786"
            ],
            [
             0.5555555555555556,
             "#d8576b"
            ],
            [
             0.6666666666666666,
             "#ed7953"
            ],
            [
             0.7777777777777778,
             "#fb9f3a"
            ],
            [
             0.8888888888888888,
             "#fdca26"
            ],
            [
             1,
             "#f0f921"
            ]
           ],
           "sequentialminus": [
            [
             0,
             "#0d0887"
            ],
            [
             0.1111111111111111,
             "#46039f"
            ],
            [
             0.2222222222222222,
             "#7201a8"
            ],
            [
             0.3333333333333333,
             "#9c179e"
            ],
            [
             0.4444444444444444,
             "#bd3786"
            ],
            [
             0.5555555555555556,
             "#d8576b"
            ],
            [
             0.6666666666666666,
             "#ed7953"
            ],
            [
             0.7777777777777778,
             "#fb9f3a"
            ],
            [
             0.8888888888888888,
             "#fdca26"
            ],
            [
             1,
             "#f0f921"
            ]
           ]
          },
          "colorway": [
           "#636efa",
           "#EF553B",
           "#00cc96",
           "#ab63fa",
           "#FFA15A",
           "#19d3f3",
           "#FF6692",
           "#B6E880",
           "#FF97FF",
           "#FECB52"
          ],
          "font": {
           "color": "#2a3f5f"
          },
          "geo": {
           "bgcolor": "white",
           "lakecolor": "white",
           "landcolor": "white",
           "showlakes": true,
           "showland": true,
           "subunitcolor": "#C8D4E3"
          },
          "hoverlabel": {
           "align": "left"
          },
          "hovermode": "closest",
          "mapbox": {
           "style": "light"
          },
          "paper_bgcolor": "white",
          "plot_bgcolor": "white",
          "polar": {
           "angularaxis": {
            "gridcolor": "#EBF0F8",
            "linecolor": "#EBF0F8",
            "ticks": ""
           },
           "bgcolor": "white",
           "radialaxis": {
            "gridcolor": "#EBF0F8",
            "linecolor": "#EBF0F8",
            "ticks": ""
           }
          },
          "scene": {
           "xaxis": {
            "backgroundcolor": "white",
            "gridcolor": "#DFE8F3",
            "gridwidth": 2,
            "linecolor": "#EBF0F8",
            "showbackground": true,
            "ticks": "",
            "zerolinecolor": "#EBF0F8"
           },
           "yaxis": {
            "backgroundcolor": "white",
            "gridcolor": "#DFE8F3",
            "gridwidth": 2,
            "linecolor": "#EBF0F8",
            "showbackground": true,
            "ticks": "",
            "zerolinecolor": "#EBF0F8"
           },
           "zaxis": {
            "backgroundcolor": "white",
            "gridcolor": "#DFE8F3",
            "gridwidth": 2,
            "linecolor": "#EBF0F8",
            "showbackground": true,
            "ticks": "",
            "zerolinecolor": "#EBF0F8"
           }
          },
          "shapedefaults": {
           "line": {
            "color": "#2a3f5f"
           }
          },
          "ternary": {
           "aaxis": {
            "gridcolor": "#DFE8F3",
            "linecolor": "#A2B1C6",
            "ticks": ""
           },
           "baxis": {
            "gridcolor": "#DFE8F3",
            "linecolor": "#A2B1C6",
            "ticks": ""
           },
           "bgcolor": "white",
           "caxis": {
            "gridcolor": "#DFE8F3",
            "linecolor": "#A2B1C6",
            "ticks": ""
           }
          },
          "title": {
           "x": 0.05
          },
          "xaxis": {
           "automargin": true,
           "gridcolor": "#EBF0F8",
           "linecolor": "#EBF0F8",
           "ticks": "",
           "title": {
            "standoff": 15
           },
           "zerolinecolor": "#EBF0F8",
           "zerolinewidth": 2
          },
          "yaxis": {
           "automargin": true,
           "gridcolor": "#EBF0F8",
           "linecolor": "#EBF0F8",
           "ticks": "",
           "title": {
            "standoff": 15
           },
           "zerolinecolor": "#EBF0F8",
           "zerolinewidth": 2
          }
         }
        },
        "title": {
         "text": "HHI Decentralization",
         "x": 0.5,
         "xanchor": "center",
         "y": 0.9,
         "yanchor": "top"
        },
        "xaxis": {
         "title": {
          "text": "Date"
         }
        },
        "yaxis": {
         "title": {
          "text": "HHI"
         }
        }
       }
      }
     },
     "metadata": {},
     "output_type": "display_data"
    }
   ],
   "source": [
    "visualizations.plot_hhi(\n",
    "    df,\n",
    "    scenario_names={\n",
    "    0: \"normal\",\n",
    "}\n",
    ")"
   ]
  }
 ],
 "metadata": {
  "kernelspec": {
   "display_name": "venv",
   "language": "python",
   "name": "python3"
  },
  "language_info": {
   "codemirror_mode": {
    "name": "ipython",
    "version": 3
   },
   "file_extension": ".py",
   "mimetype": "text/x-python",
   "name": "python",
   "nbconvert_exporter": "python",
   "pygments_lexer": "ipython3",
   "version": "3.9.6"
  }
 },
 "nbformat": 4,
 "nbformat_minor": 2
}
